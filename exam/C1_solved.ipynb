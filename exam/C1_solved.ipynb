{
 "cells": [
  {
   "cell_type": "markdown",
   "id": "cb52cab8",
   "metadata": {},
   "source": [
    "# **НЭ. Задание `C1`**"
   ]
  },
  {
   "cell_type": "markdown",
   "id": "fe45319a",
   "metadata": {},
   "source": [
    "[SmartLMS](https://edu.hse.ru/course/section.php?id=1060343)"
   ]
  },
  {
   "cell_type": "markdown",
   "id": "854dc2ae",
   "metadata": {},
   "source": [
    "**В части `C` нам предоставляют датасет, по которому нам и необходимо ответить на вопросы. На все задания части `C` - один датасет**\n",
    "\n",
    "Для выполнения задания **`C1`** чаще всего необходимо сделать фильтрацию по 1-3 условиям и/или сделать сортировку. Теорию и синтаксис можно посмотреть в в [Хэндбуке, главе 2](https://edu.hse.ru/course/view.php?id=236211&section=2). Редко, но встречаются и задания на группировку - про нее прочитать можно в [Хэндбуке, главе 5](https://edu.hse.ru/course/view.php?id=236211&section=5). Например - найти категорию с наибольшим значением такого-то признака (группировка + сортировка), и среди объектов этой категории (фильтрация) найти объект с минимальным значением такого-то признака (сортировка)\n",
    "\n",
    "В ответе просят указать значение какого-то объекта по какому-то признаку, либо количество объектов после фильтрации."
   ]
  },
  {
   "cell_type": "code",
   "execution_count": 2,
   "id": "4bcb0ca5",
   "metadata": {},
   "outputs": [],
   "source": [
    "import pandas as pd"
   ]
  },
  {
   "cell_type": "markdown",
   "id": "0f20940d",
   "metadata": {},
   "source": [
    "## **Вопрос 1**"
   ]
  },
  {
   "cell_type": "markdown",
   "id": "25a15182",
   "metadata": {},
   "source": [
    "Вам предстоит работать с датасетом, который содержит информацию о продаже автомобилей в Армении `train1_C.csv`:\n",
    "\n",
    "\n",
    "| **Признак**  | **Описание**                                |\n",
    "|--------------|---------------------------------------------|\n",
    "| Car Name     | марка и модель автомобиля                   |\n",
    "| Year         | год выпуска автомобиля                       |\n",
    "| Region       | локация, где автомобиль был зарегистрирован |\n",
    "| FuelType     | тип двигателя автомобиля                     |\n",
    "| Mileage      | пробег автомобиля (км)                       |\n",
    "| Price        | цена автомобиля (драмы)                      |\n",
    "| Owners       | количество предыдущих владельцев            |\n"
   ]
  },
  {
   "cell_type": "markdown",
   "id": "a21ef15f",
   "metadata": {},
   "source": [
    ">*Среди автомобилей на бензиновом двигателе (**Gasoline**; `FuelType`), зарегистрированных в Армавире (**Armavir**; `Region`), найдите машину с самым ранним годом выпуска (`Year`). В ответ укажите модель и марку этого автомобиля (`Car Name`).*\n"
   ]
  },
  {
   "cell_type": "code",
   "execution_count": 3,
   "id": "39b44977",
   "metadata": {},
   "outputs": [],
   "source": [
    "df = pd.read_csv('data/train1_C.csv')"
   ]
  },
  {
   "cell_type": "code",
   "execution_count": 6,
   "id": "e43bc90f",
   "metadata": {},
   "outputs": [
    {
     "data": {
      "text/html": [
       "<div>\n",
       "<style scoped>\n",
       "    .dataframe tbody tr th:only-of-type {\n",
       "        vertical-align: middle;\n",
       "    }\n",
       "\n",
       "    .dataframe tbody tr th {\n",
       "        vertical-align: top;\n",
       "    }\n",
       "\n",
       "    .dataframe thead th {\n",
       "        text-align: right;\n",
       "    }\n",
       "</style>\n",
       "<table border=\"1\" class=\"dataframe\">\n",
       "  <thead>\n",
       "    <tr style=\"text-align: right;\">\n",
       "      <th></th>\n",
       "      <th>Car Name</th>\n",
       "      <th>Year</th>\n",
       "      <th>Region</th>\n",
       "      <th>FuelType</th>\n",
       "      <th>Mileage</th>\n",
       "      <th>Price</th>\n",
       "      <th>Owners</th>\n",
       "    </tr>\n",
       "  </thead>\n",
       "  <tbody>\n",
       "    <tr>\n",
       "      <th>7210</th>\n",
       "      <td>Mercedes-Benz W124</td>\n",
       "      <td>1991</td>\n",
       "      <td>Armavir</td>\n",
       "      <td>Gasoline</td>\n",
       "      <td>269000</td>\n",
       "      <td>4000</td>\n",
       "      <td>1</td>\n",
       "    </tr>\n",
       "  </tbody>\n",
       "</table>\n",
       "</div>"
      ],
      "text/plain": [
       "                Car Name  Year   Region  FuelType  Mileage  Price  Owners\n",
       "7210  Mercedes-Benz W124  1991  Armavir  Gasoline   269000   4000       1"
      ]
     },
     "execution_count": 6,
     "metadata": {},
     "output_type": "execute_result"
    }
   ],
   "source": [
    "cond = (df['FuelType'] == 'Gasoline') & (df['Region'] == 'Armavir')\n",
    "df_flt = df[cond]\n",
    "df_flt.sort_values('Year').head(1)"
   ]
  },
  {
   "cell_type": "markdown",
   "id": "e98ef7ff",
   "metadata": {},
   "source": [
    "**Ответ**: `Mercedes-Benz W124`"
   ]
  },
  {
   "cell_type": "markdown",
   "id": "082d12ba",
   "metadata": {},
   "source": [
    "---"
   ]
  },
  {
   "cell_type": "markdown",
   "id": "03c75ca9",
   "metadata": {},
   "source": [
    "## **Вопрос 2**"
   ]
  },
  {
   "cell_type": "markdown",
   "id": "9e412c5c",
   "metadata": {},
   "source": [
    "Вам предстоит работать с датасетом, который содержит информацию о домах в некотором штате США в 2014-2015 гг `train2_C.csv`. Датасет содержит следующие признаки: \n",
    "\n",
    "\n",
    "| **Признак**     | **Описание**                                    |\n",
    "|-----------------|-------------------------------------------------|\n",
    "| price           | стоимость дома ($)                              |\n",
    "| bedrooms        | количество спален в доме                        |\n",
    "| sqft_living     | площадь жилых помещений (фут²)                 |\n",
    "| sqft_lot        | общая площадь (фут²)                            |\n",
    "| waterfront      | дом на набережной (да — 1, нет — 0)           |\n",
    "| grade           | оценка эксперта (от 1 до 13)                   |\n",
    "| yr_built        | год постройки                                  |\n",
    "| yr_renovated    | год ремонта (если ремонта не было — 0)         |\n",
    "\n"
   ]
  },
  {
   "cell_type": "markdown",
   "id": "9716f4be",
   "metadata": {},
   "source": [
    ">*Среди домов с одной спальней (`bedrooms`) найдите дом с наименьшей общей площадью (`sqft_lot`). В ответ укажите год постройки дома (`yr_built`).*\n"
   ]
  },
  {
   "cell_type": "code",
   "execution_count": 10,
   "id": "b74cdce4",
   "metadata": {},
   "outputs": [],
   "source": [
    "df = pd.read_csv('data/train2_C.csv')"
   ]
  },
  {
   "cell_type": "code",
   "execution_count": 11,
   "id": "4e32dd3d",
   "metadata": {},
   "outputs": [
    {
     "data": {
      "text/html": [
       "<div>\n",
       "<style scoped>\n",
       "    .dataframe tbody tr th:only-of-type {\n",
       "        vertical-align: middle;\n",
       "    }\n",
       "\n",
       "    .dataframe tbody tr th {\n",
       "        vertical-align: top;\n",
       "    }\n",
       "\n",
       "    .dataframe thead th {\n",
       "        text-align: right;\n",
       "    }\n",
       "</style>\n",
       "<table border=\"1\" class=\"dataframe\">\n",
       "  <thead>\n",
       "    <tr style=\"text-align: right;\">\n",
       "      <th></th>\n",
       "      <th>price</th>\n",
       "      <th>bedrooms</th>\n",
       "      <th>sqft_living</th>\n",
       "      <th>sqft_lot</th>\n",
       "      <th>waterfront</th>\n",
       "      <th>grade</th>\n",
       "      <th>yr_built</th>\n",
       "      <th>yr_renovated</th>\n",
       "    </tr>\n",
       "  </thead>\n",
       "  <tbody>\n",
       "    <tr>\n",
       "      <th>21552</th>\n",
       "      <td>516500.0</td>\n",
       "      <td>1</td>\n",
       "      <td>1100</td>\n",
       "      <td>638</td>\n",
       "      <td>0</td>\n",
       "      <td>9</td>\n",
       "      <td>2014</td>\n",
       "      <td>0</td>\n",
       "    </tr>\n",
       "  </tbody>\n",
       "</table>\n",
       "</div>"
      ],
      "text/plain": [
       "          price  bedrooms  sqft_living  sqft_lot  waterfront  grade  yr_built  \\\n",
       "21552  516500.0         1         1100       638           0      9      2014   \n",
       "\n",
       "       yr_renovated  \n",
       "21552             0  "
      ]
     },
     "execution_count": 11,
     "metadata": {},
     "output_type": "execute_result"
    }
   ],
   "source": [
    "cond = df['bedrooms'] == 1\n",
    "df_flt = df[cond]\n",
    "df_flt.sort_values('sqft_lot').head(1)"
   ]
  },
  {
   "cell_type": "markdown",
   "id": "0bb6ac37",
   "metadata": {},
   "source": [
    "**Ответ**: 2014"
   ]
  },
  {
   "cell_type": "markdown",
   "id": "60c31a72",
   "metadata": {},
   "source": [
    "---"
   ]
  },
  {
   "cell_type": "markdown",
   "id": "906fa8cb",
   "metadata": {},
   "source": [
    "## **Вопрос 3**"
   ]
  },
  {
   "cell_type": "markdown",
   "id": "18445114",
   "metadata": {},
   "source": [
    "Вам предстоит работать с датасетом, который содержит синтетическую информацию о городской мобильности по дням `train3_C.csv`. Датасет содержит следующие признаки:\n",
    "\n",
    "\n",
    "| **Признак**               | **Описание**                                               |\n",
    "|----------------------------|------------------------------------------------------------|\n",
    "| data                       | дата (год-месяц-день)                                      |\n",
    "| public_transport_usage     | пассажиропоток общественного транспорта (чел./час)       |\n",
    "| pedestrian_count           | интенсивность движения пешеходов (чел./час)              |\n",
    "| temperature                | температура воздуха (градусы Цельсия)                     |\n",
    "| humidity                   | относительная влажность воздуха (%)                        |\n",
    "| public_transport_delay     | среднее время задержки общественного транспорта (мин.)    |\n",
    "| day_of_week                | день недели                                                |\n",
    "| pedestrian_incidents       | количество ДТП с участием пешеходов                        |\n",
    "\n"
   ]
  },
  {
   "cell_type": "markdown",
   "id": "0725c16c",
   "metadata": {},
   "source": [
    ">*Среди пятниц и суббот (**Friday** и **Saturday**; `day_of_week`) найдите день с наибольшей влажностью (`humidity`). В ответ укажите значение пассажиропотока (`public_transport_usage`) для этого дня. Ответ округлите до двух знаков.*\n"
   ]
  },
  {
   "cell_type": "code",
   "execution_count": 12,
   "id": "6fbad338",
   "metadata": {},
   "outputs": [],
   "source": [
    "df = pd.read_csv('data/train3_C.csv')"
   ]
  },
  {
   "cell_type": "code",
   "execution_count": 16,
   "id": "8457bd4c",
   "metadata": {},
   "outputs": [
    {
     "data": {
      "text/plain": [
       "3114    306.25\n",
       "Name: public_transport_usage, dtype: float64"
      ]
     },
     "execution_count": 16,
     "metadata": {},
     "output_type": "execute_result"
    }
   ],
   "source": [
    "cond = df['day_of_week'].isin(['Friday', 'Saturday'])\n",
    "df_flt = df[cond]\n",
    "df_flt.sort_values('humidity', ascending=False).head(1)['public_transport_usage']"
   ]
  },
  {
   "cell_type": "markdown",
   "id": "18cd6d97",
   "metadata": {},
   "source": [
    "**Ответ**: 306.25"
   ]
  },
  {
   "cell_type": "markdown",
   "id": "6ba69bd5",
   "metadata": {},
   "source": [
    "---"
   ]
  },
  {
   "cell_type": "markdown",
   "id": "0440fe52",
   "metadata": {},
   "source": [
    "## **Вопрос 4**"
   ]
  },
  {
   "cell_type": "markdown",
   "id": "d2a2dad7",
   "metadata": {},
   "source": [
    "Вам предстоит работать с датасетом, который содержит информацию о треках канадской рок-группы Rush `train4_C.csv`. Датасет содержит следующие признаки:\n",
    "\n",
    "\n",
    "| **Признак**        | **Описание**                                                                 |\n",
    "|-------------------|----------------------------------------------------------------------------|\n",
    "| song_name         | название трека                                                             |\n",
    "| album_name        | название альбома                                                           |\n",
    "| track_number      | номер трека на альбоме                                                     |\n",
    "| popularity        | оценка популярности трека (0-100)                                         |\n",
    "| danceability      | уровень танцевальности трека (0-1)                                         |\n",
    "| energy            | уровень энергичности трека (0-1)                                          |\n",
    "| loudness          | громкость трека (децибелы)                                                |\n",
    "| mode              | настроение трека (мажорное — 1, минорное — 0)                              |\n",
    "| instrumentalness  | вероятность того, что трек без вокала (чем ближе к 1 — меньше вокала)      |\n",
    "| valence           | уровень позитивности трека (0-1)                                          |\n",
    "| tempo             | темп трека (бит/мин.)                                                     |\n",
    "\n"
   ]
  },
  {
   "cell_type": "markdown",
   "id": "f5d5b4bb",
   "metadata": {},
   "source": [
    ">*В альбоме **Different Stages** (`album_name`) найдите название трека (`song_name`) с наибольшей по модулю громкостью (`loudness`).*\n"
   ]
  },
  {
   "cell_type": "code",
   "execution_count": 18,
   "id": "562938f3",
   "metadata": {},
   "outputs": [],
   "source": [
    "df = pd.read_csv('data/train4_C.csv')"
   ]
  },
  {
   "cell_type": "code",
   "execution_count": 22,
   "id": "25b89fcd",
   "metadata": {},
   "outputs": [
    {
     "data": {
      "text/plain": [
       "345    2112 (Discovery) - Live\n",
       "Name: song_name, dtype: object"
      ]
     },
     "execution_count": 22,
     "metadata": {},
     "output_type": "execute_result"
    }
   ],
   "source": [
    "cond = df['album_name'] == 'Different Stages'\n",
    "df_flt = df[cond]\n",
    "df_flt.sort_values('loudness', key=abs).tail(1)['song_name']"
   ]
  },
  {
   "cell_type": "markdown",
   "id": "78b33cce",
   "metadata": {},
   "source": [
    "**Ответ**: `2112 (Discovery) - Live`"
   ]
  },
  {
   "cell_type": "markdown",
   "id": "1454bcca",
   "metadata": {},
   "source": [
    "---"
   ]
  },
  {
   "cell_type": "markdown",
   "id": "9b768226",
   "metadata": {},
   "source": [
    "## **Вопрос 5**"
   ]
  },
  {
   "cell_type": "markdown",
   "id": "d50e6435",
   "metadata": {},
   "source": [
    "Вам предстоит работать с датасетом, который содержит информацию о горнолыжных курортах `train5_C.csv`. Датасет содержит следующие признаки:\n",
    "\n",
    "\n",
    "| **Признак**           | **Описание**                                             |\n",
    "|-----------------------|----------------------------------------------------------|\n",
    "| Resort                | название курорта                                         |\n",
    "| Country               | страна, в которой находится курорт                       |\n",
    "| HighestPoint          | самый высокий пик (метры над уровнем моря)             |\n",
    "| LowestPoint           | самый низкий пик (метры над уровнем моря)              |\n",
    "| DayPassPriceAdult     | цена билета на подъемник (€)                            |\n",
    "| TotalSlope            | количество трасс                                        |\n",
    "| NightSki              | наличие ночной подсветки трасс (есть — Yes, нет — No)  |\n",
    "| TotalLifts            | количество подъемников                                  |\n",
    "| LiftCapacity          | общая вместимость подъемников (чел.)                   |\n",
    "\n"
   ]
  },
  {
   "cell_type": "markdown",
   "id": "638fdf1e",
   "metadata": {},
   "source": [
    ">*Для страны (`Country`), где больше всего горнолыжных курортов, найдите название курорта (`Resort`), с наименьшей высотой пика по признаку `HighestPoint`.*\n"
   ]
  },
  {
   "cell_type": "code",
   "execution_count": 23,
   "id": "56f86ca3",
   "metadata": {},
   "outputs": [],
   "source": [
    "df = pd.read_csv('data/train5_C.csv')"
   ]
  },
  {
   "cell_type": "code",
   "execution_count": 27,
   "id": "a2d28159",
   "metadata": {},
   "outputs": [
    {
     "data": {
      "text/plain": [
       "Country\n",
       "Austria    89\n",
       "France     83\n",
       "Name: Resort, dtype: int64"
      ]
     },
     "execution_count": 27,
     "metadata": {},
     "output_type": "execute_result"
    }
   ],
   "source": [
    "df.groupby('Country')['Resort'].count().sort_values(ascending=False).head(2)"
   ]
  },
  {
   "cell_type": "code",
   "execution_count": 28,
   "id": "4baa529b",
   "metadata": {},
   "outputs": [
    {
     "data": {
      "text/html": [
       "<div>\n",
       "<style scoped>\n",
       "    .dataframe tbody tr th:only-of-type {\n",
       "        vertical-align: middle;\n",
       "    }\n",
       "\n",
       "    .dataframe tbody tr th {\n",
       "        vertical-align: top;\n",
       "    }\n",
       "\n",
       "    .dataframe thead th {\n",
       "        text-align: right;\n",
       "    }\n",
       "</style>\n",
       "<table border=\"1\" class=\"dataframe\">\n",
       "  <thead>\n",
       "    <tr style=\"text-align: right;\">\n",
       "      <th></th>\n",
       "      <th>Resort</th>\n",
       "      <th>Country</th>\n",
       "      <th>HighestPoint</th>\n",
       "      <th>LowestPoint</th>\n",
       "      <th>DayPassPriceAdult</th>\n",
       "      <th>TotalSlope</th>\n",
       "      <th>NightSki</th>\n",
       "      <th>TotalLifts</th>\n",
       "      <th>LiftCapacity</th>\n",
       "    </tr>\n",
       "  </thead>\n",
       "  <tbody>\n",
       "    <tr>\n",
       "      <th>206</th>\n",
       "      <td>Kirchdorf</td>\n",
       "      <td>Austria</td>\n",
       "      <td>780</td>\n",
       "      <td>640</td>\n",
       "      <td>30</td>\n",
       "      <td>5</td>\n",
       "      <td>No</td>\n",
       "      <td>4</td>\n",
       "      <td>3570</td>\n",
       "    </tr>\n",
       "  </tbody>\n",
       "</table>\n",
       "</div>"
      ],
      "text/plain": [
       "        Resort  Country  HighestPoint  LowestPoint  DayPassPriceAdult  \\\n",
       "206  Kirchdorf  Austria           780          640                 30   \n",
       "\n",
       "     TotalSlope NightSki  TotalLifts  LiftCapacity  \n",
       "206           5       No           4          3570  "
      ]
     },
     "execution_count": 28,
     "metadata": {},
     "output_type": "execute_result"
    }
   ],
   "source": [
    "cond = df['Country'] == 'Austria'\n",
    "df_flt = df[cond]\n",
    "df_flt.sort_values('HighestPoint').head(1)"
   ]
  },
  {
   "cell_type": "markdown",
   "id": "ab6dda74",
   "metadata": {},
   "source": [
    "**Ответ**: `Kirchdorf`"
   ]
  },
  {
   "cell_type": "markdown",
   "id": "69a2ee32",
   "metadata": {},
   "source": [
    "---"
   ]
  }
 ],
 "metadata": {
  "kernelspec": {
   "display_name": "work_stuff",
   "language": "python",
   "name": "work_stuff"
  },
  "language_info": {
   "codemirror_mode": {
    "name": "ipython",
    "version": 3
   },
   "file_extension": ".py",
   "mimetype": "text/x-python",
   "name": "python",
   "nbconvert_exporter": "python",
   "pygments_lexer": "ipython3",
   "version": "3.13.3"
  }
 },
 "nbformat": 4,
 "nbformat_minor": 5
}
