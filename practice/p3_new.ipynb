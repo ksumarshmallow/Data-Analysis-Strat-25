{
 "cells": [
  {
   "cell_type": "markdown",
   "id": "2557d890",
   "metadata": {},
   "source": [
    "# **Практика 3. Новые признаки**"
   ]
  },
  {
   "cell_type": "markdown",
   "id": "746a8657",
   "metadata": {},
   "source": [
    "[SmartLMS](https://edu.hse.ru/mod/quiz/view.php?id=1762215)"
   ]
  },
  {
   "cell_type": "markdown",
   "id": "1fa049f7",
   "metadata": {},
   "source": [
    "В вашем распоряжении — стандартный датасет экспорта из рекламной платформы (например, Meta Ads или Google Ads), содержащий ключевые метрики рекламных компаний:\n",
    "\n",
    "- `Campaign name`: название рекламной компании\n",
    "- `Campaign period`: месяца, когда реализовывалась рекламная компания\n",
    "- `Campaign month`: конкретный месяц реализации рекламной компании\n",
    "- `Delivery status`: текущее состояние рекламной кампании\n",
    "- `Reach`: количество уникальных пользователей, которые увидели ваше рекламное объявление хотя бы один раз.\n",
    "- `Outbound clicks`: количество кликов по ссылке в вашем объявлении, которые привели пользователя за пределы платформы (например, на ваш сайт, в приложение и т.д.)\n",
    "- `Landing page views`: количество раз, когда пользователь не только кликнул по объявлению, но и успешно загрузил целевую страницу (посадочную страницу, лендинг).\n",
    "- `Result type`: какое именно целевое действие считается результатом компании\n",
    "- `Results`: количество достигнутых целевых действий\n",
    "- `Amount spent (AED)`: общий бюджет, израсходованный на рекламную кампанию"
   ]
  },
  {
   "cell_type": "code",
   "execution_count": 1,
   "id": "5f726624",
   "metadata": {},
   "outputs": [
    {
     "data": {
      "text/html": [
       "<div>\n",
       "<style scoped>\n",
       "    .dataframe tbody tr th:only-of-type {\n",
       "        vertical-align: middle;\n",
       "    }\n",
       "\n",
       "    .dataframe tbody tr th {\n",
       "        vertical-align: top;\n",
       "    }\n",
       "\n",
       "    .dataframe thead th {\n",
       "        text-align: right;\n",
       "    }\n",
       "</style>\n",
       "<table border=\"1\" class=\"dataframe\">\n",
       "  <thead>\n",
       "    <tr style=\"text-align: right;\">\n",
       "      <th></th>\n",
       "      <th>Campaign name</th>\n",
       "      <th>Campaign period</th>\n",
       "      <th>Campaign month</th>\n",
       "      <th>Delivery status</th>\n",
       "      <th>Reach</th>\n",
       "      <th>Outbound clicks</th>\n",
       "      <th>Landing page views</th>\n",
       "      <th>Result type</th>\n",
       "      <th>Results</th>\n",
       "      <th>Amount spent (AED)</th>\n",
       "    </tr>\n",
       "  </thead>\n",
       "  <tbody>\n",
       "    <tr>\n",
       "      <th>0</th>\n",
       "      <td>brand awareness</td>\n",
       "      <td>march</td>\n",
       "      <td>march</td>\n",
       "      <td>archived</td>\n",
       "      <td>141835342</td>\n",
       "      <td>32289</td>\n",
       "      <td>5584</td>\n",
       "      <td>Reach</td>\n",
       "      <td>142000000</td>\n",
       "      <td>25531.47</td>\n",
       "    </tr>\n",
       "    <tr>\n",
       "      <th>1</th>\n",
       "      <td>cpr | ads website leads prospecting | 18 to 35...</td>\n",
       "      <td>march</td>\n",
       "      <td>march</td>\n",
       "      <td>inactive</td>\n",
       "      <td>4434511</td>\n",
       "      <td>38284</td>\n",
       "      <td>16060</td>\n",
       "      <td>Website leads</td>\n",
       "      <td>4347</td>\n",
       "      <td>19756.78</td>\n",
       "    </tr>\n",
       "    <tr>\n",
       "      <th>2</th>\n",
       "      <td>internship | virtual internship</td>\n",
       "      <td>nov | dec | jan | oct | fall | feb</td>\n",
       "      <td>nov</td>\n",
       "      <td>completed</td>\n",
       "      <td>911773</td>\n",
       "      <td>15679</td>\n",
       "      <td>10904</td>\n",
       "      <td>Website applications submitted</td>\n",
       "      <td>2706</td>\n",
       "      <td>16156.41</td>\n",
       "    </tr>\n",
       "    <tr>\n",
       "      <th>3</th>\n",
       "      <td>internship | virtual internship</td>\n",
       "      <td>nov | dec | jan | oct | fall | feb</td>\n",
       "      <td>dec</td>\n",
       "      <td>completed</td>\n",
       "      <td>1010394</td>\n",
       "      <td>16961</td>\n",
       "      <td>12387</td>\n",
       "      <td>Website applications submitted</td>\n",
       "      <td>2625</td>\n",
       "      <td>14935.46</td>\n",
       "    </tr>\n",
       "    <tr>\n",
       "      <th>4</th>\n",
       "      <td>internship | virtual internship</td>\n",
       "      <td>nov | dec | jan | oct | fall | feb</td>\n",
       "      <td>jan</td>\n",
       "      <td>inactive</td>\n",
       "      <td>1580670</td>\n",
       "      <td>27483</td>\n",
       "      <td>21140</td>\n",
       "      <td>Website applications submitted</td>\n",
       "      <td>5707</td>\n",
       "      <td>14887.13</td>\n",
       "    </tr>\n",
       "  </tbody>\n",
       "</table>\n",
       "</div>"
      ],
      "text/plain": [
       "                                       Campaign name  \\\n",
       "0                                    brand awareness   \n",
       "1  cpr | ads website leads prospecting | 18 to 35...   \n",
       "2                    internship | virtual internship   \n",
       "3                    internship | virtual internship   \n",
       "4                    internship | virtual internship   \n",
       "\n",
       "                      Campaign period Campaign month Delivery status  \\\n",
       "0                               march          march        archived   \n",
       "1                               march          march        inactive   \n",
       "2  nov | dec | jan | oct | fall | feb            nov       completed   \n",
       "3  nov | dec | jan | oct | fall | feb            dec       completed   \n",
       "4  nov | dec | jan | oct | fall | feb            jan        inactive   \n",
       "\n",
       "       Reach  Outbound clicks  Landing page views  \\\n",
       "0  141835342            32289                5584   \n",
       "1    4434511            38284               16060   \n",
       "2     911773            15679               10904   \n",
       "3    1010394            16961               12387   \n",
       "4    1580670            27483               21140   \n",
       "\n",
       "                      Result type    Results  Amount spent (AED)  \n",
       "0                           Reach  142000000            25531.47  \n",
       "1                   Website leads       4347            19756.78  \n",
       "2  Website applications submitted       2706            16156.41  \n",
       "3  Website applications submitted       2625            14935.46  \n",
       "4  Website applications submitted       5707            14887.13  "
      ]
     },
     "execution_count": 1,
     "metadata": {},
     "output_type": "execute_result"
    }
   ],
   "source": [
    "import pandas as pd\n",
    "df = pd.read_csv('data/campaign_data.csv')\n",
    "df.head()"
   ]
  },
  {
   "cell_type": "markdown",
   "id": "a335f6c6",
   "metadata": {},
   "source": [
    "# 1\n",
    "Изучите представленные данные.\n",
    "\n"
   ]
  },
  {
   "cell_type": "markdown",
   "id": "679560de",
   "metadata": {},
   "source": [
    "## 1.1 \n",
    ">*Укажите размер таблицы:*\n",
    ">- Наблюдений: `?`\n",
    ">- Признаков: `?`"
   ]
  },
  {
   "cell_type": "code",
   "execution_count": null,
   "id": "cb8384bc",
   "metadata": {},
   "outputs": [],
   "source": []
  },
  {
   "cell_type": "markdown",
   "id": "6a8559da",
   "metadata": {},
   "source": [
    "## 1.2\n",
    ">*Укажите количество признаков, в которых есть пропуски:*"
   ]
  },
  {
   "cell_type": "code",
   "execution_count": null,
   "id": "e184aa04",
   "metadata": {},
   "outputs": [],
   "source": []
  },
  {
   "cell_type": "markdown",
   "id": "53a75c49",
   "metadata": {},
   "source": [
    "**ответ**: таких нет (0)"
   ]
  },
  {
   "cell_type": "markdown",
   "id": "89fadbc9",
   "metadata": {},
   "source": [
    "## 1.3\n",
    ">*Укажите тип данных каждого признака.*\n",
    ">\n",
    ">*Варианты для выбора:*\n",
    ">- object  \n",
    ">- int64\n",
    ">- float64"
   ]
  },
  {
   "cell_type": "code",
   "execution_count": null,
   "id": "cfa78175",
   "metadata": {},
   "outputs": [],
   "source": []
  },
  {
   "cell_type": "markdown",
   "id": "a4a0f903",
   "metadata": {},
   "source": [
    "## 1.4\n",
    ">*Укажите шкалу измерения каждого признака:*\n",
    ">\n",
    ">*Варианты для выбора:*\n",
    ">- количественный дискретный\n",
    ">- количественный непрерывный\n",
    ">- категориальный порядковый\n",
    ">- категориальный бинарный\n",
    ">- категориальный номинальный"
   ]
  },
  {
   "cell_type": "markdown",
   "id": "8fff3aae",
   "metadata": {},
   "source": [
    "**Ответ**:"
   ]
  },
  {
   "cell_type": "markdown",
   "id": "874ec8d1",
   "metadata": {},
   "source": [
    "| **Признак**             | **Правильный ответ**          |\n",
    "|--------------------------|-------------------------------|\n",
    "| Campaign name            | категориальный номинальный   |\n",
    "| Campaign period          | категориальный номинальный   |\n",
    "| Campaign month           | категориальный номинальный   |\n",
    "| Delivery status          | категориальный номинальный   |\n",
    "| Reach                    | количественный дискретный    |\n",
    "| Outbound clicks          | количественный дискретный    |\n",
    "| Landing page views       | количественный дискретный    |\n",
    "| Result type              | категориальный номинальный   |\n",
    "| Results                  | количественный дискретный    |\n",
    "| Amount spent (AED)       | количественный непрерывный   |"
   ]
  },
  {
   "cell_type": "markdown",
   "id": "ce9a73b2",
   "metadata": {},
   "source": [
    "---"
   ]
  },
  {
   "cell_type": "markdown",
   "id": "1623d0c4",
   "metadata": {},
   "source": [
    "# 2\n",
    ">*Создайте два новых признака `CPR` (стоимость одного целевого действия: `Amount spent (AED)` / `Results)` и `CPC` (стоимость одного клика: `Amount spent (AED)` / `Outbound clicks`).*"
   ]
  },
  {
   "cell_type": "code",
   "execution_count": null,
   "id": "7925131e",
   "metadata": {},
   "outputs": [],
   "source": []
  },
  {
   "cell_type": "markdown",
   "id": "c2a4a788",
   "metadata": {},
   "source": [
    "## 2.1"
   ]
  },
  {
   "cell_type": "markdown",
   "id": "f9da7503",
   "metadata": {},
   "source": [
    ">Укажите шкалу измерения созданных признаков:\n",
    ">*Укажите шкалу измерения каждого признака:*\n",
    ">\n",
    ">*Варианты для выбора:*\n",
    ">- количественный дискретный\n",
    ">- количественный непрерывный\n",
    ">- категориальный порядковый\n",
    ">- категориальный бинарный\n",
    ">- категориальный номинальный"
   ]
  },
  {
   "cell_type": "markdown",
   "id": "31801e48",
   "metadata": {},
   "source": [
    "**Ответ**: `???`"
   ]
  },
  {
   "cell_type": "markdown",
   "id": "eed5e302",
   "metadata": {},
   "source": [
    "## 2.2"
   ]
  },
  {
   "cell_type": "markdown",
   "id": "9c7ecfa8",
   "metadata": {},
   "source": [
    ">*Среди приостановленных рекламных компаний (**inactive**; `Delivery status`) найдите рекламную компанию с наибольшей стоимостью одного целевого действия (`CPR`). В ответ укажите стоимость одного клика для нее (`CPC`). Ответ округлите до двух знаков.*"
   ]
  },
  {
   "cell_type": "code",
   "execution_count": null,
   "id": "b7857e45",
   "metadata": {},
   "outputs": [],
   "source": []
  },
  {
   "cell_type": "markdown",
   "id": "d0dcbb12",
   "metadata": {},
   "source": [
    "---"
   ]
  },
  {
   "cell_type": "markdown",
   "id": "a0eaa450",
   "metadata": {},
   "source": [
    "# 3"
   ]
  },
  {
   "cell_type": "markdown",
   "id": "02334440",
   "metadata": {},
   "source": [
    ">*Создайте новый признак `Reach_coded` на основе охвата (`Reach`):*\n",
    ">\n",
    ">- *если охват меньше 45 000, вернуть `Low`*\n",
    ">- *если охват меньше 455 000, вернуть `Middle`*\n",
    ">- *в остальных случаях вернуть `High`*"
   ]
  },
  {
   "cell_type": "code",
   "execution_count": null,
   "id": "e8d693b4",
   "metadata": {},
   "outputs": [],
   "source": []
  },
  {
   "cell_type": "markdown",
   "id": "fb4af8dc",
   "metadata": {},
   "source": [
    "## 3.1\n",
    ">*Укажите шкалу измерения созданного признака:*\n",
    ">\n",
    ">*Варианты для выбора:*\n",
    ">- количественный дискретный\n",
    ">- количественный непрерывный\n",
    ">- категориальный порядковый\n",
    ">- категориальный бинарный\n",
    ">- категориальный номинальный\n"
   ]
  },
  {
   "cell_type": "markdown",
   "id": "5a90478b",
   "metadata": {},
   "source": [
    "**Ответ**: `???`"
   ]
  },
  {
   "cell_type": "markdown",
   "id": "117afd92",
   "metadata": {},
   "source": [
    "## 3.2\n",
    ">*Среди рекламных компаний с низким (**Low**; `Reach_coded`) и высоким охватом (**High**; `Reach_coded`) найдите ту, у которой количество загрузок целевой страницы (`Landing page views`) наибольшее. В ответ укажите тип целевого действия (`Result type`), которое приследовала эта рекламная компания.*"
   ]
  },
  {
   "cell_type": "code",
   "execution_count": null,
   "id": "f2a8f6ad",
   "metadata": {},
   "outputs": [],
   "source": []
  },
  {
   "cell_type": "markdown",
   "id": "d5e52c66",
   "metadata": {},
   "source": [
    "---"
   ]
  },
  {
   "cell_type": "markdown",
   "id": "f64c8bd9",
   "metadata": {},
   "source": [
    "# 4\n",
    ">*В описании некоторых рекламных компаний (`Campaign name`) обозначена целевая аудитория. Создадим новый признак `TA` по следущему правилу:*\n",
    ">\n",
    ">- *если `Campaign name` содержит 18 to 35 years, вернуть **18-35***\n",
    ">- *в остальных случаях вернуть **all***"
   ]
  },
  {
   "cell_type": "code",
   "execution_count": null,
   "id": "a7048bcf",
   "metadata": {},
   "outputs": [],
   "source": []
  },
  {
   "cell_type": "markdown",
   "id": "1cd36e79",
   "metadata": {},
   "source": [
    "## 4.1\n",
    ">*Укажите шкалу измерения созданного признака:*\n",
    ">\n",
    ">*Варианты для выбора:*\n",
    ">- количественный дискретный\n",
    ">- количественный непрерывный\n",
    ">- категориальный порядковый\n",
    ">- категориальный бинарный\n",
    ">- категориальный номинальный\n"
   ]
  },
  {
   "cell_type": "markdown",
   "id": "0d616384",
   "metadata": {},
   "source": [
    "**Ответ**: `???`"
   ]
  },
  {
   "cell_type": "markdown",
   "id": "8fea4900",
   "metadata": {},
   "source": [
    "## 4.2"
   ]
  },
  {
   "cell_type": "markdown",
   "id": "38f3006a",
   "metadata": {},
   "source": [
    ">*Найдите процент рекламных компаниях, целевая аудитория которых от 18 до 35 лет (**18-35**; `TA`). Ответ округлите до двух знаков.*"
   ]
  },
  {
   "cell_type": "code",
   "execution_count": null,
   "id": "18afe98c",
   "metadata": {},
   "outputs": [],
   "source": []
  },
  {
   "cell_type": "markdown",
   "id": "a344aa39",
   "metadata": {},
   "source": [
    "---"
   ]
  },
  {
   "cell_type": "markdown",
   "id": "08ed8ef6",
   "metadata": {},
   "source": [
    "# 5"
   ]
  },
  {
   "cell_type": "markdown",
   "id": "42c0ee69",
   "metadata": {},
   "source": [
    ">*Создайте новый признак `Campaign Len`, который будет содержать информацию о количестве символов в названии рекламной компании (`Campaign name`).*"
   ]
  },
  {
   "cell_type": "code",
   "execution_count": null,
   "id": "29af01ef",
   "metadata": {},
   "outputs": [],
   "source": []
  },
  {
   "cell_type": "markdown",
   "id": "d9762d69",
   "metadata": {},
   "source": [
    "## 5.1"
   ]
  },
  {
   "cell_type": "markdown",
   "id": "f1a9ad83",
   "metadata": {},
   "source": [
    ">*Укажите шкалу измерения созданного признака:*\n",
    ">\n",
    ">*Варианты для выбора:*\n",
    ">- количественный дискретный\n",
    ">- количественный непрерывный\n",
    ">- категориальный порядковый\n",
    ">- категориальный бинарный\n",
    ">- категориальный номинальный\n"
   ]
  },
  {
   "cell_type": "markdown",
   "id": "c5dca4dd",
   "metadata": {},
   "source": [
    "**Ответ**: `???`"
   ]
  },
  {
   "cell_type": "markdown",
   "id": "fde067da",
   "metadata": {},
   "source": [
    "## 5.2\n",
    ">*Найдите месяц реализации рекламной компании (`Campaign month`) с самым коротким названием (`Campaign Len`), у которой `Outbound clicks` менее 1000.*"
   ]
  },
  {
   "cell_type": "code",
   "execution_count": null,
   "id": "04c3b9ef",
   "metadata": {},
   "outputs": [],
   "source": []
  },
  {
   "cell_type": "markdown",
   "id": "817105b6",
   "metadata": {},
   "source": [
    "---"
   ]
  },
  {
   "cell_type": "markdown",
   "id": "548087c4",
   "metadata": {},
   "source": [
    "## 6"
   ]
  },
  {
   "cell_type": "markdown",
   "id": "166f1c42",
   "metadata": {},
   "source": [
    ">*Создайте новый признак `Month count`, в котором будет содержаться информация по продолжительности рекламных компаний. Логика нового признака*\n",
    ">- *если `Campaign period` содержит **fall**, вернуть **12***\n",
    ">- *во всех остальных случаях вернуть количество месяцев*"
   ]
  },
  {
   "cell_type": "code",
   "execution_count": null,
   "id": "9237db43",
   "metadata": {},
   "outputs": [],
   "source": []
  },
  {
   "cell_type": "markdown",
   "id": "4322ae20",
   "metadata": {},
   "source": [
    "## 6.1"
   ]
  },
  {
   "cell_type": "markdown",
   "id": "03c8886e",
   "metadata": {},
   "source": [
    ">*Укажите шкалу измерения созданного признака:*\n",
    ">\n",
    ">*Варианты для выбора:*\n",
    ">- количественный дискретный\n",
    ">- количественный непрерывный\n",
    ">- категориальный порядковый\n",
    ">- категориальный бинарный\n",
    ">- категориальный номинальный\n"
   ]
  },
  {
   "cell_type": "markdown",
   "id": "828ed87c",
   "metadata": {},
   "source": [
    "**Ответ**: `???`"
   ]
  },
  {
   "cell_type": "markdown",
   "id": "b9718dac",
   "metadata": {},
   "source": [
    "## 6.2\n",
    "Укажите название рекламной компании (`Campaign name`), реализуемой весь год (**12**; `Month count`), со средним охватом аудитории (**Middle**; `Reach_coded`) у которой общие затраты (`Amount spent (AED)`) наименьшие.\n",
    "\n"
   ]
  },
  {
   "cell_type": "code",
   "execution_count": null,
   "id": "b694a537",
   "metadata": {},
   "outputs": [],
   "source": []
  }
 ],
 "metadata": {
  "kernelspec": {
   "display_name": "Python 3",
   "language": "python",
   "name": "python3"
  },
  "language_info": {
   "codemirror_mode": {
    "name": "ipython",
    "version": 3
   },
   "file_extension": ".py",
   "mimetype": "text/x-python",
   "name": "python",
   "nbconvert_exporter": "python",
   "pygments_lexer": "ipython3",
   "version": "3.9.6"
  }
 },
 "nbformat": 4,
 "nbformat_minor": 5
}
