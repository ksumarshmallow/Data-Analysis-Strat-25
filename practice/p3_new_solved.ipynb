{
 "cells": [
  {
   "cell_type": "markdown",
   "id": "5465d8cc",
   "metadata": {},
   "source": [
    "# **Практика 3. Новые признаки**"
   ]
  },
  {
   "cell_type": "markdown",
   "id": "6d8b86b2",
   "metadata": {},
   "source": [
    "[SmartLMS](https://edu.hse.ru/mod/quiz/view.php?id=1762215)"
   ]
  },
  {
   "cell_type": "markdown",
   "id": "1fa049f7",
   "metadata": {},
   "source": [
    "В вашем распоряжении — стандартный датасет экспорта из рекламной платформы (например, Meta Ads или Google Ads), содержащий ключевые метрики рекламных компаний:\n",
    "\n",
    "- `Campaign name`: название рекламной компании\n",
    "- `Campaign period`: месяца, когда реализовывалась рекламная компания\n",
    "- `Campaign month`: конкретный месяц реализации рекламной компании\n",
    "- `Delivery status`: текущее состояние рекламной кампании\n",
    "- `Reach`: количество уникальных пользователей, которые увидели ваше рекламное объявление хотя бы один раз.\n",
    "- `Outbound clicks`: количество кликов по ссылке в вашем объявлении, которые привели пользователя за пределы платформы (например, на ваш сайт, в приложение и т.д.)\n",
    "- `Landing page views`: количество раз, когда пользователь не только кликнул по объявлению, но и успешно загрузил целевую страницу (посадочную страницу, лендинг).\n",
    "- `Result type`: какое именно целевое действие считается результатом компании\n",
    "- `Results`: количество достигнутых целевых действий\n",
    "- `Amount spent (AED)`: общий бюджет, израсходованный на рекламную кампанию"
   ]
  },
  {
   "cell_type": "code",
   "execution_count": null,
   "id": "5f726624",
   "metadata": {},
   "outputs": [
    {
     "data": {
      "text/html": [
       "<div>\n",
       "<style scoped>\n",
       "    .dataframe tbody tr th:only-of-type {\n",
       "        vertical-align: middle;\n",
       "    }\n",
       "\n",
       "    .dataframe tbody tr th {\n",
       "        vertical-align: top;\n",
       "    }\n",
       "\n",
       "    .dataframe thead th {\n",
       "        text-align: right;\n",
       "    }\n",
       "</style>\n",
       "<table border=\"1\" class=\"dataframe\">\n",
       "  <thead>\n",
       "    <tr style=\"text-align: right;\">\n",
       "      <th></th>\n",
       "      <th>Campaign name</th>\n",
       "      <th>Campaign period</th>\n",
       "      <th>Campaign month</th>\n",
       "      <th>Delivery status</th>\n",
       "      <th>Reach</th>\n",
       "      <th>Outbound clicks</th>\n",
       "      <th>Landing page views</th>\n",
       "      <th>Result type</th>\n",
       "      <th>Results</th>\n",
       "      <th>Amount spent (AED)</th>\n",
       "    </tr>\n",
       "  </thead>\n",
       "  <tbody>\n",
       "    <tr>\n",
       "      <th>0</th>\n",
       "      <td>brand awareness</td>\n",
       "      <td>march</td>\n",
       "      <td>march</td>\n",
       "      <td>archived</td>\n",
       "      <td>141835342</td>\n",
       "      <td>32289</td>\n",
       "      <td>5584</td>\n",
       "      <td>Reach</td>\n",
       "      <td>142000000</td>\n",
       "      <td>25531.47</td>\n",
       "    </tr>\n",
       "    <tr>\n",
       "      <th>1</th>\n",
       "      <td>cpr | ads website leads prospecting | 18 to 35...</td>\n",
       "      <td>march</td>\n",
       "      <td>march</td>\n",
       "      <td>inactive</td>\n",
       "      <td>4434511</td>\n",
       "      <td>38284</td>\n",
       "      <td>16060</td>\n",
       "      <td>Website leads</td>\n",
       "      <td>4347</td>\n",
       "      <td>19756.78</td>\n",
       "    </tr>\n",
       "    <tr>\n",
       "      <th>2</th>\n",
       "      <td>internship | virtual internship</td>\n",
       "      <td>nov | dec | jan | oct | fall | feb</td>\n",
       "      <td>nov</td>\n",
       "      <td>completed</td>\n",
       "      <td>911773</td>\n",
       "      <td>15679</td>\n",
       "      <td>10904</td>\n",
       "      <td>Website applications submitted</td>\n",
       "      <td>2706</td>\n",
       "      <td>16156.41</td>\n",
       "    </tr>\n",
       "    <tr>\n",
       "      <th>3</th>\n",
       "      <td>internship | virtual internship</td>\n",
       "      <td>nov | dec | jan | oct | fall | feb</td>\n",
       "      <td>dec</td>\n",
       "      <td>completed</td>\n",
       "      <td>1010394</td>\n",
       "      <td>16961</td>\n",
       "      <td>12387</td>\n",
       "      <td>Website applications submitted</td>\n",
       "      <td>2625</td>\n",
       "      <td>14935.46</td>\n",
       "    </tr>\n",
       "    <tr>\n",
       "      <th>4</th>\n",
       "      <td>internship | virtual internship</td>\n",
       "      <td>nov | dec | jan | oct | fall | feb</td>\n",
       "      <td>jan</td>\n",
       "      <td>inactive</td>\n",
       "      <td>1580670</td>\n",
       "      <td>27483</td>\n",
       "      <td>21140</td>\n",
       "      <td>Website applications submitted</td>\n",
       "      <td>5707</td>\n",
       "      <td>14887.13</td>\n",
       "    </tr>\n",
       "  </tbody>\n",
       "</table>\n",
       "</div>"
      ],
      "text/plain": [
       "                                       Campaign name  \\\n",
       "0                                    brand awareness   \n",
       "1  cpr | ads website leads prospecting | 18 to 35...   \n",
       "2                    internship | virtual internship   \n",
       "3                    internship | virtual internship   \n",
       "4                    internship | virtual internship   \n",
       "\n",
       "                      Campaign period Campaign month Delivery status  \\\n",
       "0                               march          march        archived   \n",
       "1                               march          march        inactive   \n",
       "2  nov | dec | jan | oct | fall | feb            nov       completed   \n",
       "3  nov | dec | jan | oct | fall | feb            dec       completed   \n",
       "4  nov | dec | jan | oct | fall | feb            jan        inactive   \n",
       "\n",
       "       Reach  Outbound clicks  Landing page views  \\\n",
       "0  141835342            32289                5584   \n",
       "1    4434511            38284               16060   \n",
       "2     911773            15679               10904   \n",
       "3    1010394            16961               12387   \n",
       "4    1580670            27483               21140   \n",
       "\n",
       "                      Result type    Results  Amount spent (AED)  \n",
       "0                           Reach  142000000            25531.47  \n",
       "1                   Website leads       4347            19756.78  \n",
       "2  Website applications submitted       2706            16156.41  \n",
       "3  Website applications submitted       2625            14935.46  \n",
       "4  Website applications submitted       5707            14887.13  "
      ]
     },
     "execution_count": 3,
     "metadata": {},
     "output_type": "execute_result"
    }
   ],
   "source": [
    "import pandas as pd\n",
    "df = pd.read_csv('data/campaign_data.csv')\n",
    "df.head()"
   ]
  },
  {
   "cell_type": "markdown",
   "id": "a335f6c6",
   "metadata": {},
   "source": [
    "# 1\n",
    "Изучите представленные данные.\n",
    "\n"
   ]
  },
  {
   "cell_type": "markdown",
   "id": "679560de",
   "metadata": {},
   "source": [
    "## 1.1 \n",
    ">*Укажите размер таблицы:*\n",
    ">- Наблюдений: `?`\n",
    ">- Признаков: `?`"
   ]
  },
  {
   "cell_type": "code",
   "execution_count": 4,
   "id": "cb8384bc",
   "metadata": {},
   "outputs": [
    {
     "data": {
      "text/plain": [
       "(137, 10)"
      ]
     },
     "execution_count": 4,
     "metadata": {},
     "output_type": "execute_result"
    }
   ],
   "source": [
    "df.shape"
   ]
  },
  {
   "cell_type": "markdown",
   "id": "6a8559da",
   "metadata": {},
   "source": [
    "## 1.2\n",
    ">*Укажите количество признаков, в которых есть пропуски:*"
   ]
  },
  {
   "cell_type": "code",
   "execution_count": 5,
   "id": "e184aa04",
   "metadata": {},
   "outputs": [
    {
     "name": "stdout",
     "output_type": "stream",
     "text": [
      "<class 'pandas.core.frame.DataFrame'>\n",
      "RangeIndex: 137 entries, 0 to 136\n",
      "Data columns (total 10 columns):\n",
      " #   Column              Non-Null Count  Dtype  \n",
      "---  ------              --------------  -----  \n",
      " 0   Campaign name       137 non-null    object \n",
      " 1   Campaign period     137 non-null    object \n",
      " 2   Campaign month      137 non-null    object \n",
      " 3   Delivery status     137 non-null    object \n",
      " 4   Reach               137 non-null    int64  \n",
      " 5   Outbound clicks     137 non-null    int64  \n",
      " 6   Landing page views  137 non-null    int64  \n",
      " 7   Result type         137 non-null    object \n",
      " 8   Results             137 non-null    int64  \n",
      " 9   Amount spent (AED)  137 non-null    float64\n",
      "dtypes: float64(1), int64(4), object(5)\n",
      "memory usage: 10.8+ KB\n"
     ]
    }
   ],
   "source": [
    "df.info()"
   ]
  },
  {
   "cell_type": "markdown",
   "id": "53a75c49",
   "metadata": {},
   "source": [
    "**ответ**: таких нет (0)"
   ]
  },
  {
   "cell_type": "markdown",
   "id": "89fadbc9",
   "metadata": {},
   "source": [
    "## 1.3\n",
    ">*Укажите тип данных каждого признака.*\n",
    ">\n",
    ">*Варианты для выбора:*\n",
    ">- object  \n",
    ">- int64\n",
    ">- float64"
   ]
  },
  {
   "cell_type": "code",
   "execution_count": 6,
   "id": "66de9f63",
   "metadata": {},
   "outputs": [
    {
     "name": "stdout",
     "output_type": "stream",
     "text": [
      "<class 'pandas.core.frame.DataFrame'>\n",
      "RangeIndex: 137 entries, 0 to 136\n",
      "Data columns (total 10 columns):\n",
      " #   Column              Non-Null Count  Dtype  \n",
      "---  ------              --------------  -----  \n",
      " 0   Campaign name       137 non-null    object \n",
      " 1   Campaign period     137 non-null    object \n",
      " 2   Campaign month      137 non-null    object \n",
      " 3   Delivery status     137 non-null    object \n",
      " 4   Reach               137 non-null    int64  \n",
      " 5   Outbound clicks     137 non-null    int64  \n",
      " 6   Landing page views  137 non-null    int64  \n",
      " 7   Result type         137 non-null    object \n",
      " 8   Results             137 non-null    int64  \n",
      " 9   Amount spent (AED)  137 non-null    float64\n",
      "dtypes: float64(1), int64(4), object(5)\n",
      "memory usage: 10.8+ KB\n"
     ]
    }
   ],
   "source": [
    "df.info()"
   ]
  },
  {
   "cell_type": "code",
   "execution_count": 7,
   "id": "bfdad347",
   "metadata": {},
   "outputs": [
    {
     "data": {
      "text/html": [
       "<div>\n",
       "<style scoped>\n",
       "    .dataframe tbody tr th:only-of-type {\n",
       "        vertical-align: middle;\n",
       "    }\n",
       "\n",
       "    .dataframe tbody tr th {\n",
       "        vertical-align: top;\n",
       "    }\n",
       "\n",
       "    .dataframe thead th {\n",
       "        text-align: right;\n",
       "    }\n",
       "</style>\n",
       "<table border=\"1\" class=\"dataframe\">\n",
       "  <thead>\n",
       "    <tr style=\"text-align: right;\">\n",
       "      <th></th>\n",
       "      <th>Campaign name</th>\n",
       "      <th>Campaign period</th>\n",
       "      <th>Campaign month</th>\n",
       "      <th>Delivery status</th>\n",
       "      <th>Reach</th>\n",
       "      <th>Outbound clicks</th>\n",
       "      <th>Landing page views</th>\n",
       "      <th>Result type</th>\n",
       "      <th>Results</th>\n",
       "      <th>Amount spent (AED)</th>\n",
       "    </tr>\n",
       "  </thead>\n",
       "  <tbody>\n",
       "    <tr>\n",
       "      <th>0</th>\n",
       "      <td>brand awareness</td>\n",
       "      <td>march</td>\n",
       "      <td>march</td>\n",
       "      <td>archived</td>\n",
       "      <td>141835342</td>\n",
       "      <td>32289</td>\n",
       "      <td>5584</td>\n",
       "      <td>Reach</td>\n",
       "      <td>142000000</td>\n",
       "      <td>25531.47</td>\n",
       "    </tr>\n",
       "    <tr>\n",
       "      <th>1</th>\n",
       "      <td>cpr | ads website leads prospecting | 18 to 35...</td>\n",
       "      <td>march</td>\n",
       "      <td>march</td>\n",
       "      <td>inactive</td>\n",
       "      <td>4434511</td>\n",
       "      <td>38284</td>\n",
       "      <td>16060</td>\n",
       "      <td>Website leads</td>\n",
       "      <td>4347</td>\n",
       "      <td>19756.78</td>\n",
       "    </tr>\n",
       "    <tr>\n",
       "      <th>2</th>\n",
       "      <td>internship | virtual internship</td>\n",
       "      <td>nov | dec | jan | oct | fall | feb</td>\n",
       "      <td>nov</td>\n",
       "      <td>completed</td>\n",
       "      <td>911773</td>\n",
       "      <td>15679</td>\n",
       "      <td>10904</td>\n",
       "      <td>Website applications submitted</td>\n",
       "      <td>2706</td>\n",
       "      <td>16156.41</td>\n",
       "    </tr>\n",
       "    <tr>\n",
       "      <th>3</th>\n",
       "      <td>internship | virtual internship</td>\n",
       "      <td>nov | dec | jan | oct | fall | feb</td>\n",
       "      <td>dec</td>\n",
       "      <td>completed</td>\n",
       "      <td>1010394</td>\n",
       "      <td>16961</td>\n",
       "      <td>12387</td>\n",
       "      <td>Website applications submitted</td>\n",
       "      <td>2625</td>\n",
       "      <td>14935.46</td>\n",
       "    </tr>\n",
       "    <tr>\n",
       "      <th>4</th>\n",
       "      <td>internship | virtual internship</td>\n",
       "      <td>nov | dec | jan | oct | fall | feb</td>\n",
       "      <td>jan</td>\n",
       "      <td>inactive</td>\n",
       "      <td>1580670</td>\n",
       "      <td>27483</td>\n",
       "      <td>21140</td>\n",
       "      <td>Website applications submitted</td>\n",
       "      <td>5707</td>\n",
       "      <td>14887.13</td>\n",
       "    </tr>\n",
       "    <tr>\n",
       "      <th>...</th>\n",
       "      <td>...</td>\n",
       "      <td>...</td>\n",
       "      <td>...</td>\n",
       "      <td>...</td>\n",
       "      <td>...</td>\n",
       "      <td>...</td>\n",
       "      <td>...</td>\n",
       "      <td>...</td>\n",
       "      <td>...</td>\n",
       "      <td>...</td>\n",
       "    </tr>\n",
       "    <tr>\n",
       "      <th>132</th>\n",
       "      <td>2025 ig only_awareness excelerate_video_ad (wi...</td>\n",
       "      <td>jan | feb</td>\n",
       "      <td>feb</td>\n",
       "      <td>not_delivering</td>\n",
       "      <td>1020338</td>\n",
       "      <td>619</td>\n",
       "      <td>1</td>\n",
       "      <td>ThruPlay</td>\n",
       "      <td>74156</td>\n",
       "      <td>1127.58</td>\n",
       "    </tr>\n",
       "    <tr>\n",
       "      <th>133</th>\n",
       "      <td>power skill course | secrets to operational ex...</td>\n",
       "      <td>dec | feb</td>\n",
       "      <td>dec</td>\n",
       "      <td>completed</td>\n",
       "      <td>32403</td>\n",
       "      <td>342</td>\n",
       "      <td>215</td>\n",
       "      <td>Website applications submitted</td>\n",
       "      <td>197</td>\n",
       "      <td>1101.71</td>\n",
       "    </tr>\n",
       "    <tr>\n",
       "      <th>134</th>\n",
       "      <td>ig only_awareness excelerate_carousel_ad (with...</td>\n",
       "      <td>dec</td>\n",
       "      <td>dec</td>\n",
       "      <td>completed</td>\n",
       "      <td>1494425</td>\n",
       "      <td>1041</td>\n",
       "      <td>200</td>\n",
       "      <td>Estimated ad recall lift (people)</td>\n",
       "      <td>11300</td>\n",
       "      <td>733.57</td>\n",
       "    </tr>\n",
       "    <tr>\n",
       "      <th>135</th>\n",
       "      <td>power skill course | secrets to operational ex...</td>\n",
       "      <td>dec | feb</td>\n",
       "      <td>feb</td>\n",
       "      <td>not_delivering</td>\n",
       "      <td>23354</td>\n",
       "      <td>215</td>\n",
       "      <td>153</td>\n",
       "      <td>Website applications submitted</td>\n",
       "      <td>193</td>\n",
       "      <td>515.88</td>\n",
       "    </tr>\n",
       "    <tr>\n",
       "      <th>136</th>\n",
       "      <td>2025 | masterclass | sbd | tulip application</td>\n",
       "      <td>feb</td>\n",
       "      <td>feb</td>\n",
       "      <td>not_delivering</td>\n",
       "      <td>28140</td>\n",
       "      <td>332</td>\n",
       "      <td>200</td>\n",
       "      <td>Website applications submitted</td>\n",
       "      <td>154</td>\n",
       "      <td>414.24</td>\n",
       "    </tr>\n",
       "  </tbody>\n",
       "</table>\n",
       "<p>137 rows × 10 columns</p>\n",
       "</div>"
      ],
      "text/plain": [
       "                                         Campaign name  \\\n",
       "0                                      brand awareness   \n",
       "1    cpr | ads website leads prospecting | 18 to 35...   \n",
       "2                      internship | virtual internship   \n",
       "3                      internship | virtual internship   \n",
       "4                      internship | virtual internship   \n",
       "..                                                 ...   \n",
       "132  2025 ig only_awareness excelerate_video_ad (wi...   \n",
       "133  power skill course | secrets to operational ex...   \n",
       "134  ig only_awareness excelerate_carousel_ad (with...   \n",
       "135  power skill course | secrets to operational ex...   \n",
       "136       2025 | masterclass | sbd | tulip application   \n",
       "\n",
       "                        Campaign period Campaign month Delivery status  \\\n",
       "0                                 march          march        archived   \n",
       "1                                 march          march        inactive   \n",
       "2    nov | dec | jan | oct | fall | feb            nov       completed   \n",
       "3    nov | dec | jan | oct | fall | feb            dec       completed   \n",
       "4    nov | dec | jan | oct | fall | feb            jan        inactive   \n",
       "..                                  ...            ...             ...   \n",
       "132                           jan | feb            feb  not_delivering   \n",
       "133                           dec | feb            dec       completed   \n",
       "134                                 dec            dec       completed   \n",
       "135                           dec | feb            feb  not_delivering   \n",
       "136                                 feb            feb  not_delivering   \n",
       "\n",
       "         Reach  Outbound clicks  Landing page views  \\\n",
       "0    141835342            32289                5584   \n",
       "1      4434511            38284               16060   \n",
       "2       911773            15679               10904   \n",
       "3      1010394            16961               12387   \n",
       "4      1580670            27483               21140   \n",
       "..         ...              ...                 ...   \n",
       "132    1020338              619                   1   \n",
       "133      32403              342                 215   \n",
       "134    1494425             1041                 200   \n",
       "135      23354              215                 153   \n",
       "136      28140              332                 200   \n",
       "\n",
       "                           Result type    Results  Amount spent (AED)  \n",
       "0                                Reach  142000000            25531.47  \n",
       "1                        Website leads       4347            19756.78  \n",
       "2       Website applications submitted       2706            16156.41  \n",
       "3       Website applications submitted       2625            14935.46  \n",
       "4       Website applications submitted       5707            14887.13  \n",
       "..                                 ...        ...                 ...  \n",
       "132                           ThruPlay      74156             1127.58  \n",
       "133     Website applications submitted        197             1101.71  \n",
       "134  Estimated ad recall lift (people)      11300              733.57  \n",
       "135     Website applications submitted        193              515.88  \n",
       "136     Website applications submitted        154              414.24  \n",
       "\n",
       "[137 rows x 10 columns]"
      ]
     },
     "execution_count": 7,
     "metadata": {},
     "output_type": "execute_result"
    }
   ],
   "source": [
    "df"
   ]
  },
  {
   "cell_type": "markdown",
   "id": "a4a0f903",
   "metadata": {},
   "source": [
    "## 1.4\n",
    ">*Укажите шкалу измерения каждого признака:*\n",
    ">\n",
    ">*Варианты для выбора:*\n",
    ">- количественный дискретный\n",
    ">- количественный непрерывный\n",
    ">- категориальный порядковый\n",
    ">- категориальный бинарный\n",
    ">- категориальный номинальный"
   ]
  },
  {
   "cell_type": "markdown",
   "id": "8fff3aae",
   "metadata": {},
   "source": [
    "**Ответ**:"
   ]
  },
  {
   "cell_type": "markdown",
   "id": "874ec8d1",
   "metadata": {},
   "source": [
    "| **Признак**             | **Правильный ответ**          |\n",
    "|--------------------------|-------------------------------|\n",
    "| Campaign name            | категориальный номинальный   |\n",
    "| Campaign period          | категориальный номинальный   |\n",
    "| Campaign month           | категориальный номинальный   |\n",
    "| Delivery status          | категориальный номинальный   |\n",
    "| Reach                    | количественный дискретный    |\n",
    "| Outbound clicks          | количественный дискретный    |\n",
    "| Landing page views       | количественный дискретный    |\n",
    "| Result type              | категориальный номинальный   |\n",
    "| Results                  | количественный дискретный    |\n",
    "| Amount spent (AED)       | количественный непрерывный   |"
   ]
  },
  {
   "cell_type": "markdown",
   "id": "ce9a73b2",
   "metadata": {},
   "source": [
    "---"
   ]
  },
  {
   "cell_type": "markdown",
   "id": "1623d0c4",
   "metadata": {},
   "source": [
    "# 2\n",
    ">*Создайте два новых признака `CPR` (стоимость одного целевого действия: `Amount spent (AED)` / `Results)` и `CPC` (стоимость одного клика: `Amount spent (AED)` / `Outbound clicks`).*"
   ]
  },
  {
   "cell_type": "code",
   "execution_count": 9,
   "id": "7925131e",
   "metadata": {},
   "outputs": [],
   "source": [
    "df['CPR'] = df['Amount spent (AED)'] / df['Results']\n",
    "df['CPC'] = df['Amount spent (AED)'] / df['Outbound clicks']"
   ]
  },
  {
   "cell_type": "markdown",
   "id": "c2a4a788",
   "metadata": {},
   "source": [
    "## 2.1"
   ]
  },
  {
   "cell_type": "markdown",
   "id": "f9da7503",
   "metadata": {},
   "source": [
    ">Укажите шкалу измерения созданных признаков:\n",
    ">*Укажите шкалу измерения каждого признака:*\n",
    ">\n",
    ">*Варианты для выбора:*\n",
    ">- количественный дискретный\n",
    ">- количественный непрерывный\n",
    ">- категориальный порядковый\n",
    ">- категориальный бинарный\n",
    ">- категориальный номинальный"
   ]
  },
  {
   "cell_type": "markdown",
   "id": "31801e48",
   "metadata": {},
   "source": [
    "**Ответ**: количественный непрерывный"
   ]
  },
  {
   "cell_type": "markdown",
   "id": "eed5e302",
   "metadata": {},
   "source": [
    "## 2.2"
   ]
  },
  {
   "cell_type": "markdown",
   "id": "9c7ecfa8",
   "metadata": {},
   "source": [
    ">*Среди приостановленных рекламных компаний (**inactive**; `Delivery status`) найдите рекламную компанию с наибольшей стоимостью одного целевого действия (`CPR`). В ответ укажите стоимость одного клика для нее (`CPC`). Ответ округлите до двух знаков.*"
   ]
  },
  {
   "cell_type": "code",
   "execution_count": 14,
   "id": "b7857e45",
   "metadata": {},
   "outputs": [
    {
     "data": {
      "text/plain": [
       "85    0.25\n",
       "Name: CPC, dtype: float64"
      ]
     },
     "execution_count": 14,
     "metadata": {},
     "output_type": "execute_result"
    }
   ],
   "source": [
    "# 1. фильтрация\n",
    "df_flt = df[df['Delivery status'] == 'inactive']\n",
    "\n",
    "# 2. сортировка\n",
    "df_flt.sort_values('CPR').tail(1).loc[:, 'CPC'].round(2)"
   ]
  },
  {
   "cell_type": "markdown",
   "id": "34bf486e",
   "metadata": {},
   "source": [
    "**Ответ**: `0.25`"
   ]
  },
  {
   "cell_type": "markdown",
   "id": "d0dcbb12",
   "metadata": {},
   "source": [
    "---"
   ]
  },
  {
   "cell_type": "markdown",
   "id": "a0eaa450",
   "metadata": {},
   "source": [
    "# 3"
   ]
  },
  {
   "cell_type": "markdown",
   "id": "02334440",
   "metadata": {},
   "source": [
    ">*Создайте новый признак `Reach_coded` на основе охвата (`Reach`):*\n",
    ">\n",
    ">- *если охват меньше 45 000, вернуть `Low`*\n",
    ">- *если охват меньше 455 000, вернуть `Middle`*\n",
    ">- *в остальных случаях вернуть `High`*"
   ]
  },
  {
   "cell_type": "code",
   "execution_count": 15,
   "id": "e8d693b4",
   "metadata": {},
   "outputs": [],
   "source": [
    "def encode(x):\n",
    "    if x < 45_000:\n",
    "        return 'Low'\n",
    "    elif x < 455_000:\n",
    "        return 'Middle'\n",
    "    else:\n",
    "        return 'High'\n",
    "\n",
    "df['Reach_coded'] = df['Reach'].apply(encode)"
   ]
  },
  {
   "cell_type": "markdown",
   "id": "fb4af8dc",
   "metadata": {},
   "source": [
    "## 3.1\n",
    ">*Укажите шкалу измерения созданного признака:*\n",
    ">\n",
    ">*Варианты для выбора:*\n",
    ">- количественный дискретный\n",
    ">- количественный непрерывный\n",
    ">- категориальный порядковый\n",
    ">- категориальный бинарный\n",
    ">- категориальный номинальный\n"
   ]
  },
  {
   "cell_type": "markdown",
   "id": "44f27927",
   "metadata": {},
   "source": [
    "**Ответ:** количественный порядковый"
   ]
  },
  {
   "cell_type": "markdown",
   "id": "117afd92",
   "metadata": {},
   "source": [
    "## 3.2\n",
    ">*Среди рекламных компаний с низким (**Low**; `Reach_coded`) и высоким охватом (**High**; `Reach_coded`) найдите ту, у которой количество загрузок целевой страницы (`Landing page views`) наибольшее. В ответ укажите тип целевого действия (`Result type`), которое приследовала эта рекламная компания.*"
   ]
  },
  {
   "cell_type": "code",
   "execution_count": 22,
   "id": "f2a8f6ad",
   "metadata": {},
   "outputs": [
    {
     "data": {
      "text/plain": [
       "4    Website applications submitted\n",
       "Name: Result type, dtype: object"
      ]
     },
     "execution_count": 22,
     "metadata": {},
     "output_type": "execute_result"
    }
   ],
   "source": [
    "# 1. фильтрация\n",
    "df_flt = df[df['Reach_coded'].isin(['Low', 'High'])]\n",
    "\n",
    "# 2. сортировка\n",
    "df_flt.sort_values('Landing page views').tail(1).loc[:, 'Result type']"
   ]
  },
  {
   "cell_type": "markdown",
   "id": "d5e52c66",
   "metadata": {},
   "source": [
    "---"
   ]
  },
  {
   "cell_type": "markdown",
   "id": "f64c8bd9",
   "metadata": {},
   "source": [
    "# 4\n",
    ">*В описании некоторых рекламных компаний (`Campaign name`) обозначена целевая аудитория. Создадим новый признак `TA` по следущему правилу:*\n",
    ">\n",
    ">- *если `Campaign name` содержит 18 to 35 years, вернуть **18-35***\n",
    ">- *в остальных случаях вернуть **all***"
   ]
  },
  {
   "cell_type": "code",
   "execution_count": 23,
   "id": "a7048bcf",
   "metadata": {},
   "outputs": [],
   "source": [
    "df['TA'] = df['Campaign name'].apply(lambda x: '18-35' if '18 to 35 years' in x else 'all')"
   ]
  },
  {
   "cell_type": "markdown",
   "id": "1cd36e79",
   "metadata": {},
   "source": [
    "## 4.1\n",
    ">*Укажите шкалу измерения созданного признака:*\n",
    ">\n",
    ">*Варианты для выбора:*\n",
    ">- количественный дискретный\n",
    ">- количественный непрерывный\n",
    ">- категориальный порядковый\n",
    ">- категориальный бинарный\n",
    ">- категориальный номинальный\n"
   ]
  },
  {
   "cell_type": "markdown",
   "id": "9b01ebaa",
   "metadata": {},
   "source": [
    "**Ответ**: категориальный бинарный"
   ]
  },
  {
   "cell_type": "markdown",
   "id": "8fea4900",
   "metadata": {},
   "source": [
    "## 4.2"
   ]
  },
  {
   "cell_type": "markdown",
   "id": "38f3006a",
   "metadata": {},
   "source": [
    ">*Найдите процент рекламных компаниях, целевая аудитория которых от 18 до 35 лет (**18-35**; `TA`). Ответ округлите до двух знаков.*"
   ]
  },
  {
   "cell_type": "code",
   "execution_count": 25,
   "id": "18afe98c",
   "metadata": {},
   "outputs": [
    {
     "data": {
      "text/plain": [
       "10.95"
      ]
     },
     "execution_count": 25,
     "metadata": {},
     "output_type": "execute_result"
    }
   ],
   "source": [
    "round(\n",
    "    100 * df[df['TA'] == '18-35'].shape[0] / df.shape[0],\n",
    "    2\n",
    ")"
   ]
  },
  {
   "cell_type": "markdown",
   "id": "a344aa39",
   "metadata": {},
   "source": [
    "---"
   ]
  },
  {
   "cell_type": "markdown",
   "id": "08ed8ef6",
   "metadata": {},
   "source": [
    "# 5"
   ]
  },
  {
   "cell_type": "markdown",
   "id": "42c0ee69",
   "metadata": {},
   "source": [
    ">*Создайте новый признак `Campaign Len`, который будет содержать информацию о количестве символов в названии рекламной компании (`Campaign name`).*"
   ]
  },
  {
   "cell_type": "code",
   "execution_count": 26,
   "id": "29af01ef",
   "metadata": {},
   "outputs": [],
   "source": [
    "df['Campaign Len'] = df['Campaign name'].apply(len)"
   ]
  },
  {
   "cell_type": "markdown",
   "id": "d9762d69",
   "metadata": {},
   "source": [
    "## 5.1"
   ]
  },
  {
   "cell_type": "markdown",
   "id": "f1a9ad83",
   "metadata": {},
   "source": [
    ">*Укажите шкалу измерения созданного признака:*\n",
    ">\n",
    ">*Варианты для выбора:*\n",
    ">- количественный дискретный\n",
    ">- количественный непрерывный\n",
    ">- категориальный порядковый\n",
    ">- категориальный бинарный\n",
    ">- категориальный номинальный\n"
   ]
  },
  {
   "cell_type": "markdown",
   "id": "6a9445c0",
   "metadata": {},
   "source": [
    "**ответ**: количественный дискретный"
   ]
  },
  {
   "cell_type": "markdown",
   "id": "fde067da",
   "metadata": {},
   "source": [
    "## 5.2\n",
    ">*Найдите месяц реализации рекламной компании (`Campaign month`) с самым коротким названием (`Campaign Len`), у которой `Outbound clicks` менее 1000.*"
   ]
  },
  {
   "cell_type": "code",
   "execution_count": 28,
   "id": "04c3b9ef",
   "metadata": {},
   "outputs": [
    {
     "data": {
      "text/plain": [
       "45    nov\n",
       "Name: Campaign month, dtype: object"
      ]
     },
     "execution_count": 28,
     "metadata": {},
     "output_type": "execute_result"
    }
   ],
   "source": [
    "# 1. фильтрация\n",
    "df_flt = df[df['Outbound clicks'] < 1000]\n",
    "\n",
    "# 2. сортировка\n",
    "df_flt.sort_values('Campaign Len').head(1).loc[:, 'Campaign month']"
   ]
  },
  {
   "cell_type": "markdown",
   "id": "817105b6",
   "metadata": {},
   "source": [
    "---"
   ]
  },
  {
   "cell_type": "markdown",
   "id": "548087c4",
   "metadata": {},
   "source": [
    "## 6"
   ]
  },
  {
   "cell_type": "markdown",
   "id": "166f1c42",
   "metadata": {},
   "source": [
    ">*Создайте новый признак `Month count`, в котором будет содержаться информация по продолжительности рекламных компаний. Логика нового признака*\n",
    ">- *если `Campaign period` содержит **fall**, вернуть **12***\n",
    ">- *во всех остальных случаях вернуть количество месяцев*"
   ]
  },
  {
   "cell_type": "code",
   "execution_count": 29,
   "id": "9237db43",
   "metadata": {},
   "outputs": [],
   "source": [
    "def code(x):\n",
    "    if x == 'fall':\n",
    "        return 12\n",
    "    else:\n",
    "        return x.count('|') + 1\n",
    "\n",
    "df['Month count'] = df['Campaign period'].apply(code)"
   ]
  },
  {
   "cell_type": "markdown",
   "id": "4322ae20",
   "metadata": {},
   "source": [
    "## 6.1"
   ]
  },
  {
   "cell_type": "markdown",
   "id": "03c8886e",
   "metadata": {},
   "source": [
    ">*Укажите шкалу измерения созданного признака:*\n",
    ">\n",
    ">*Варианты для выбора:*\n",
    ">- количественный дискретный\n",
    ">- количественный непрерывный\n",
    ">- категориальный порядковый\n",
    ">- категориальный бинарный\n",
    ">- категориальный номинальный\n"
   ]
  },
  {
   "cell_type": "markdown",
   "id": "47d7e338",
   "metadata": {},
   "source": [
    "**ответ**: дискретный\n"
   ]
  },
  {
   "cell_type": "markdown",
   "id": "b9718dac",
   "metadata": {},
   "source": [
    "## 6.2\n",
    "Укажите название рекламной компании (`Campaign name`), реализуемой весь год (**12**; `Month count`), со средним охватом аудитории (**Middle**; `Reach_coded`) у которой общие затраты (`Amount spent (AED)`) наименьшие.\n",
    "\n"
   ]
  },
  {
   "cell_type": "code",
   "execution_count": 35,
   "id": "b694a537",
   "metadata": {},
   "outputs": [
    {
     "data": {
      "text/plain": [
       "'fb only prospecting xperience design hackathon | website leads/sign ups'"
      ]
     },
     "execution_count": 35,
     "metadata": {},
     "output_type": "execute_result"
    }
   ],
   "source": [
    "# 1. фильтрация\n",
    "df_flt = df[(df['Month count'] == 12) & (df['Reach_coded'] == 'Middle')]\n",
    "\n",
    "# 2. сортировка\n",
    "df_flt.sort_values('Amount spent (AED)').head(1).loc[:, 'Campaign name'].item()"
   ]
  },
  {
   "cell_type": "code",
   "execution_count": null,
   "id": "00444cd9",
   "metadata": {},
   "outputs": [],
   "source": []
  }
 ],
 "metadata": {
  "kernelspec": {
   "display_name": "Python 3",
   "language": "python",
   "name": "python3"
  },
  "language_info": {
   "codemirror_mode": {
    "name": "ipython",
    "version": 3
   },
   "file_extension": ".py",
   "mimetype": "text/x-python",
   "name": "python",
   "nbconvert_exporter": "python",
   "pygments_lexer": "ipython3",
   "version": "3.9.6"
  }
 },
 "nbformat": 4,
 "nbformat_minor": 5
}
