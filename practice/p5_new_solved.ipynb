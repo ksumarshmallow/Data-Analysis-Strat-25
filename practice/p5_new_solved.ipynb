{
 "cells": [
  {
   "cell_type": "markdown",
   "id": "883caced",
   "metadata": {},
   "source": [
    "# **Практика 5 (семинар). Агрегирование и группировка данных**"
   ]
  },
  {
   "cell_type": "markdown",
   "id": "e238787f",
   "metadata": {},
   "source": [
    "[SmartLMS](https://edu.hse.ru/mod/quiz/view.php?id=1759750)"
   ]
  },
  {
   "cell_type": "markdown",
   "id": "a1459cba",
   "metadata": {},
   "source": [
    "Вы digital-менеджер музыкального лейбла. Ваша задача — разработать стратегию продвижения нового артиста. В вашем распоряжении — датасет с ключевыми метриками по его релизам:\n",
    "\n",
    "\n",
    "| Признак             | Описание                                |\n",
    "| ------------------- | --------------------------------------- |\n",
    "| track |  название конкретной песни или композиции |\n",
    "| album |  название альбома или сингла, в который входит этот трек |\n",
    "| album_release_year |  год, когда альбом был первоначально выпущен и опубликован. |\n",
    "| period |  отчетный период, за который собраны данные (год/месяц) |\n",
    "| period_year |  отчетный год, за который собраны данные |\n",
    "| period_month |  отчетный месяц, за который собраны данные |\n",
    "| country |  страна, из которой поступило прослушивание |\n",
    "| platform |  название стримингового сервиса, на котором было совершено прослушивание |\n",
    "| playcount |  количество воспроизведений данного трека на указанной платформе в указанной стране за отчетный период |\n",
    "| royalty |  cумма денег, которую заработал этот трек за все свои проигрывания в указанный период, стране и на платформе |"
   ]
  },
  {
   "cell_type": "code",
   "execution_count": 5,
   "id": "61f93772",
   "metadata": {},
   "outputs": [],
   "source": [
    "import pandas as pd\n",
    "df = pd.read_csv('data/music_label_data.csv')"
   ]
  },
  {
   "cell_type": "code",
   "execution_count": null,
   "id": "dd46e084",
   "metadata": {},
   "outputs": [
    {
     "data": {
      "text/plain": [
       "0        0\n",
       "1        0\n",
       "2        0\n",
       "3        0\n",
       "4        0\n",
       "        ..\n",
       "23518    0\n",
       "23519    0\n",
       "23520    0\n",
       "23521    0\n",
       "23522    0\n",
       "Name: country, Length: 23523, dtype: int64"
      ]
     },
     "execution_count": 7,
     "metadata": {},
     "output_type": "execute_result"
    }
   ],
   "source": [
    "# 1 если russia, 0 в противном случае\n",
    "\n",
    "def code(x):\n",
    "    if x=='Russia':\n",
    "        return 1\n",
    "    else:\n",
    "        return 0\n",
    "\n",
    "df['country'].apply(code)"
   ]
  },
  {
   "cell_type": "code",
   "execution_count": 8,
   "id": "973a7fd4",
   "metadata": {},
   "outputs": [
    {
     "data": {
      "text/plain": [
       "0        0\n",
       "1        0\n",
       "2        0\n",
       "3        0\n",
       "4        0\n",
       "        ..\n",
       "23518    0\n",
       "23519    0\n",
       "23520    0\n",
       "23521    0\n",
       "23522    0\n",
       "Name: country, Length: 23523, dtype: int64"
      ]
     },
     "execution_count": 8,
     "metadata": {},
     "output_type": "execute_result"
    }
   ],
   "source": [
    "df['country'].apply(lambda x: 1 if x=='Russia' else 0)"
   ]
  },
  {
   "cell_type": "markdown",
   "id": "9b732981",
   "metadata": {},
   "source": [
    "## **Задание 1**"
   ]
  },
  {
   "cell_type": "markdown",
   "id": "de3033d4",
   "metadata": {},
   "source": [
    "> *Изучите предоставленные данные и укажите:*\n",
    ">1) *количество наблюдений*?"
   ]
  },
  {
   "cell_type": "code",
   "execution_count": 2,
   "id": "c6f6f46e",
   "metadata": {},
   "outputs": [
    {
     "data": {
      "text/plain": [
       "23523"
      ]
     },
     "execution_count": 2,
     "metadata": {},
     "output_type": "execute_result"
    }
   ],
   "source": [
    "df.shape[0]"
   ]
  },
  {
   "cell_type": "markdown",
   "id": "62dcd5ea",
   "metadata": {},
   "source": [
    ">2. *отчетный период данных (`period`):*  \n",
    ">- *с*: ``???``  \n",
    ">- *до*: ``???``  "
   ]
  },
  {
   "cell_type": "code",
   "execution_count": 3,
   "id": "548a60dd",
   "metadata": {},
   "outputs": [
    {
     "data": {
      "text/plain": [
       "('2023/08', '2025/05')"
      ]
     },
     "execution_count": 3,
     "metadata": {},
     "output_type": "execute_result"
    }
   ],
   "source": [
    "df['period'].min(), df['period'].max()"
   ]
  },
  {
   "cell_type": "markdown",
   "id": "a78d8907",
   "metadata": {},
   "source": [
    ">3. *количество треков (`track`) артиста* ?"
   ]
  },
  {
   "cell_type": "code",
   "execution_count": 4,
   "id": "f3bd52ef",
   "metadata": {},
   "outputs": [
    {
     "data": {
      "text/plain": [
       "56"
      ]
     },
     "execution_count": 4,
     "metadata": {},
     "output_type": "execute_result"
    }
   ],
   "source": [
    "df['track'].nunique()"
   ]
  },
  {
   "cell_type": "markdown",
   "id": "419512b2",
   "metadata": {},
   "source": [
    ">4. *количество альбомов (`album`) артиста (без учета синглов)* ?\n"
   ]
  },
  {
   "cell_type": "code",
   "execution_count": 5,
   "id": "8aaa97cf",
   "metadata": {},
   "outputs": [
    {
     "data": {
      "text/plain": [
       "4"
      ]
     },
     "execution_count": 5,
     "metadata": {},
     "output_type": "execute_result"
    }
   ],
   "source": [
    "df[\n",
    "    df['album'].str.contains('album')\n",
    "]['album'].nunique()"
   ]
  },
  {
   "cell_type": "code",
   "execution_count": 6,
   "id": "d037a6d8",
   "metadata": {},
   "outputs": [
    {
     "data": {
      "text/plain": [
       "array(['album_01', 'single', 'album_02', 'album_03', 'album_04'],\n",
       "      dtype=object)"
      ]
     },
     "execution_count": 6,
     "metadata": {},
     "output_type": "execute_result"
    }
   ],
   "source": [
    "# и так видно что 4\n",
    "df['album'].unique()"
   ]
  },
  {
   "cell_type": "markdown",
   "id": "4cfd4822",
   "metadata": {},
   "source": [
    ">5. *количество синглов артиста (**single**; `album`)* ?\n"
   ]
  },
  {
   "cell_type": "code",
   "execution_count": 7,
   "id": "2af91afe",
   "metadata": {},
   "outputs": [
    {
     "data": {
      "text/plain": [
       "1"
      ]
     },
     "execution_count": 7,
     "metadata": {},
     "output_type": "execute_result"
    }
   ],
   "source": [
    "df[\n",
    "    df['album'].str.contains('single')\n",
    "]['album'].nunique()"
   ]
  },
  {
   "cell_type": "code",
   "execution_count": 8,
   "id": "7e371f70",
   "metadata": {},
   "outputs": [
    {
     "data": {
      "text/plain": [
       "array(['album_01', 'single', 'album_02', 'album_03', 'album_04'],\n",
       "      dtype=object)"
      ]
     },
     "execution_count": 8,
     "metadata": {},
     "output_type": "execute_result"
    }
   ],
   "source": [
    "# и так видно что 1\n",
    "df['album'].unique()"
   ]
  },
  {
   "cell_type": "markdown",
   "id": "4ab99822",
   "metadata": {},
   "source": [
    ">6. *общее количество прослушиваний треков артиста (`playcount`)* ?"
   ]
  },
  {
   "cell_type": "code",
   "execution_count": 9,
   "id": "b7602c9c",
   "metadata": {},
   "outputs": [
    {
     "data": {
      "text/plain": [
       "np.int64(20738911)"
      ]
     },
     "execution_count": 9,
     "metadata": {},
     "output_type": "execute_result"
    }
   ],
   "source": [
    "df['playcount'].sum()"
   ]
  },
  {
   "cell_type": "markdown",
   "id": "054e03af",
   "metadata": {},
   "source": [
    ">7. *общий доход (`royalty`) от треков (округлите до сотых)* ?"
   ]
  },
  {
   "cell_type": "code",
   "execution_count": 10,
   "id": "308f96cc",
   "metadata": {},
   "outputs": [
    {
     "data": {
      "text/plain": [
       "np.float64(62749.34)"
      ]
     },
     "execution_count": 10,
     "metadata": {},
     "output_type": "execute_result"
    }
   ],
   "source": [
    "df['royalty'].sum().round(2)"
   ]
  },
  {
   "cell_type": "markdown",
   "id": "7dbcbc25",
   "metadata": {},
   "source": [
    "---"
   ]
  },
  {
   "cell_type": "markdown",
   "id": "a721c30e",
   "metadata": {},
   "source": [
    "## **Задание 2**"
   ]
  },
  {
   "cell_type": "markdown",
   "id": "82fe8eb5",
   "metadata": {},
   "source": [
    "### *Задание 2.1*"
   ]
  },
  {
   "cell_type": "markdown",
   "id": "3d8d76b3",
   "metadata": {},
   "source": [
    ">*Укажите названия платформы (`platform`) на которой доход от стриминга (`royalty`)*\n",
    ">- наименьший: `???`\n",
    ">- наибольший: `???`"
   ]
  },
  {
   "cell_type": "code",
   "execution_count": 11,
   "id": "8122dab4",
   "metadata": {},
   "outputs": [
    {
     "name": "stdout",
     "output_type": "stream",
     "text": [
      "Наибольшее число прослушиваний у платформы: Spotify\n",
      "Наименьшее число прослушиваний у платформы: KuGou\n"
     ]
    },
    {
     "data": {
      "text/plain": [
       "platform\n",
       "KuGou                                     0.231677\n",
       "Kuwo                                      0.381225\n",
       "iHeart Radio                              1.091217\n",
       "QQ Music                                  1.735461\n",
       "NetEase(Hangzhou) Network Co., Ltd       17.278625\n",
       "Anghami                                  71.477402\n",
       "Deezer                                  100.964304\n",
       "Tidal Music AS                          123.607304\n",
       "Facebook                                135.885184\n",
       "SoundCloud                              189.113763\n",
       "Zvuk (DSP)                             1986.497935\n",
       "Tik Tok                                7470.069860\n",
       "YouTube                               12120.898745\n",
       "Spotify                               40530.111510\n",
       "Name: royalty, dtype: float64"
      ]
     },
     "execution_count": 11,
     "metadata": {},
     "output_type": "execute_result"
    }
   ],
   "source": [
    "df_grouped = df.groupby('platform')['royalty'].sum().sort_values()\n",
    "\n",
    "print(f'Наибольшее число прослушиваний у платформы: {df_grouped.index[-1]}')\n",
    "print(f'Наименьшее число прослушиваний у платформы: {df_grouped.index[0]}')\n",
    "\n",
    "df_grouped"
   ]
  },
  {
   "cell_type": "markdown",
   "id": "36b301bd",
   "metadata": {},
   "source": [
    "### *Задание 2.2*"
   ]
  },
  {
   "cell_type": "markdown",
   "id": "b4047e78",
   "metadata": {},
   "source": [
    ">*Создайте новый признак `CPL`, в котором будет информация о стоимости одного прослушивания (`royalty`/`playcount`). Укажите названия платформы (`platform`) на которой средняя стоимость одного прослушивания (`CPL`)*\n",
    ">- наименьшая: `???`\n",
    ">- наибольшая: `???`"
   ]
  },
  {
   "cell_type": "code",
   "execution_count": 13,
   "id": "78984337",
   "metadata": {},
   "outputs": [
    {
     "name": "stdout",
     "output_type": "stream",
     "text": [
      "Наименьшая стоимость прослушивания на платформе: \"Tik Tok\"\n",
      "Наибольшая стоимость прослушивания на платформе: \"iHeart Radio\"\n"
     ]
    },
    {
     "data": {
      "text/plain": [
       "platform\n",
       "Tik Tok                               0.000202\n",
       "Facebook                              0.000422\n",
       "QQ Music                              0.012788\n",
       "KuGou                                 0.015845\n",
       "NetEase(Hangzhou) Network Co., Ltd    0.039736\n",
       "Kuwo                                  0.063537\n",
       "Spotify                               0.145776\n",
       "Zvuk (DSP)                            0.191398\n",
       "Deezer                                0.228929\n",
       "SoundCloud                            0.251935\n",
       "YouTube                               0.260224\n",
       "Anghami                               0.335587\n",
       "Tidal Music AS                        0.456594\n",
       "iHeart Radio                          0.545609\n",
       "Name: CPL, dtype: float64"
      ]
     },
     "execution_count": 13,
     "metadata": {},
     "output_type": "execute_result"
    }
   ],
   "source": [
    "df['CPL'] = df['royalty'] / df['playcount']\n",
    "df_grouped = df.groupby('platform')['CPL'].mean().sort_values()\n",
    "\n",
    "print(f'Наименьшая стоимость прослушивания на платформе: \"{df_grouped.index[0]}\"')\n",
    "print(f'Наибольшая стоимость прослушивания на платформе: \"{df_grouped.index[-1]}\"')\n",
    "\n",
    "df_grouped"
   ]
  },
  {
   "cell_type": "markdown",
   "id": "dd9e0b7a",
   "metadata": {},
   "source": [
    "### *Задание 2.3*"
   ]
  },
  {
   "cell_type": "markdown",
   "id": "11c0651a",
   "metadata": {},
   "source": [
    ">*Укажите как выглядит распределение количества треков (`track`) на каждой платформе (`platform`):*"
   ]
  },
  {
   "cell_type": "markdown",
   "id": "4a2d7a7d",
   "metadata": {},
   "source": [
    "![](data:image/png;base64,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)"
   ]
  },
  {
   "cell_type": "code",
   "execution_count": 14,
   "id": "3dacea95",
   "metadata": {},
   "outputs": [
    {
     "data": {
      "image/png": "[encoded data removed]",
      "text/plain": [
       "<Figure size 640x480 with 1 Axes>"
      ]
     },
     "metadata": {},
     "output_type": "display_data"
    }
   ],
   "source": [
    "df.groupby('platform')['track'].count().sort_values().plot(kind='bar');"
   ]
  },
  {
   "cell_type": "markdown",
   "id": "c3ceac1d",
   "metadata": {},
   "source": [
    "**Ответ**: `B`"
   ]
  },
  {
   "cell_type": "markdown",
   "id": "6f98d057",
   "metadata": {},
   "source": [
    "---"
   ]
  },
  {
   "cell_type": "markdown",
   "id": "573f0e14",
   "metadata": {},
   "source": [
    "## **Задание 3**"
   ]
  },
  {
   "cell_type": "markdown",
   "id": "bff9b94c",
   "metadata": {},
   "source": [
    "Артист, продвижением которого мы занимаемся, создает музыку на русском языке. Это определяет нашу  целевую аудиторию — слушателей в странах с широким распространением русского языка:"
   ]
  },
  {
   "cell_type": "code",
   "execution_count": 15,
   "id": "49013262",
   "metadata": {},
   "outputs": [],
   "source": [
    "russian_speaking_countries = [\"Belarus\", \"Kazakhstan\", \"Kyrgyzstan\", \"Ukraine\", \"Uzbekistan\", \"Tajikistan\", \"Azerbaijan\", \"Moldova\", \"Armenia\", \"Turkmenistan\", \"Georgia\", \"Latvia\", \"Estonia\", \"Lithuania\", \"Israel\", \"Germany\"]"
   ]
  },
  {
   "cell_type": "markdown",
   "id": "fc80d1d4",
   "metadata": {},
   "source": [
    "Проверим гипотезу о том, что доход от стриминга в России и русскоговорящих странах больше чем в других регионах."
   ]
  },
  {
   "cell_type": "markdown",
   "id": "40499c8e",
   "metadata": {},
   "source": [
    "### *Задание 3.1*"
   ]
  },
  {
   "cell_type": "markdown",
   "id": "2198688d",
   "metadata": {},
   "source": [
    ">*Создайте новый признак `segment`, на основе признака `country`:*\n",
    ">- Если эта страна Россия (**Russia**), вернуть само значение `country`\n",
    ">- Если страна входит в список русскоговорящих (**russian_speaking_countries**), вернуть **RS**\n",
    ">- Во всех остальных случаях вернуть **Other**"
   ]
  },
  {
   "cell_type": "code",
   "execution_count": 16,
   "id": "61cab2e7",
   "metadata": {},
   "outputs": [],
   "source": [
    "def code(x):\n",
    "    if x == 'Russia':\n",
    "        return x\n",
    "    elif x in russian_speaking_countries:\n",
    "        return 'RS'\n",
    "    else:\n",
    "        return 'Other'\n",
    "    \n",
    "df['segment'] = df['country'].apply(code)"
   ]
  },
  {
   "cell_type": "markdown",
   "id": "d727c67f",
   "metadata": {},
   "source": [
    ">*Укажите процент дохода от стриминга (`royalty`) и прослушиваний (`playcount`) в каждом сегменте (`segment`). Ответы округлите до двух знаков*\n",
    ">\n",
    ">| | % дохода | % прослушиваний |\n",
    "> | --- | ---- | --- | \n",
    "> | Russia | `?` | `?` | \n",
    "> | RS | `?` | `?` | \n",
    "> | Other | `?` | `?` | "
   ]
  },
  {
   "cell_type": "code",
   "execution_count": 17,
   "id": "48b8a206",
   "metadata": {},
   "outputs": [
    {
     "data": {
      "text/html": [
       "<div>\n",
       "<style scoped>\n",
       "    .dataframe tbody tr th:only-of-type {\n",
       "        vertical-align: middle;\n",
       "    }\n",
       "\n",
       "    .dataframe tbody tr th {\n",
       "        vertical-align: top;\n",
       "    }\n",
       "\n",
       "    .dataframe thead th {\n",
       "        text-align: right;\n",
       "    }\n",
       "</style>\n",
       "<table border=\"1\" class=\"dataframe\">\n",
       "  <thead>\n",
       "    <tr style=\"text-align: right;\">\n",
       "      <th></th>\n",
       "      <th>royalty</th>\n",
       "      <th>playcount</th>\n",
       "    </tr>\n",
       "    <tr>\n",
       "      <th>segment</th>\n",
       "      <th></th>\n",
       "      <th></th>\n",
       "    </tr>\n",
       "  </thead>\n",
       "  <tbody>\n",
       "    <tr>\n",
       "      <th>Other</th>\n",
       "      <td>58.95</td>\n",
       "      <td>49.03</td>\n",
       "    </tr>\n",
       "    <tr>\n",
       "      <th>RS</th>\n",
       "      <td>36.76</td>\n",
       "      <td>49.02</td>\n",
       "    </tr>\n",
       "    <tr>\n",
       "      <th>Russia</th>\n",
       "      <td>4.29</td>\n",
       "      <td>1.95</td>\n",
       "    </tr>\n",
       "  </tbody>\n",
       "</table>\n",
       "</div>"
      ],
      "text/plain": [
       "         royalty  playcount\n",
       "segment                    \n",
       "Other      58.95      49.03\n",
       "RS         36.76      49.02\n",
       "Russia      4.29       1.95"
      ]
     },
     "execution_count": 17,
     "metadata": {},
     "output_type": "execute_result"
    }
   ],
   "source": [
    "df_platform = df.groupby('segment').agg({\n",
    "    'royalty': 'sum',\n",
    "    'playcount': 'sum'\n",
    "})\n",
    "\n",
    "(df_platform / df[['royalty', 'playcount']].sum() * 100).round(2)"
   ]
  },
  {
   "cell_type": "markdown",
   "id": "78f1e0ca",
   "metadata": {},
   "source": [
    "<div style=\"background-color: rgba(128, 0, 128, 0.1); padding: 16px; border-radius: 8px; text-align: left;\">\n",
    "\n",
    "**🤔 Question**  \n",
    "\n",
    "*Верна ли была наша гипотеза?*\n",
    "\n",
    "</div>\n"
   ]
  },
  {
   "cell_type": "markdown",
   "id": "4b0aa31d",
   "metadata": {},
   "source": [
    "### *Задание 3.2*"
   ]
  },
  {
   "cell_type": "markdown",
   "id": "a2aef5d9",
   "metadata": {},
   "source": [
    ">*Укажите среднюю стоимость одного прослушивания (`CPL`) для каждого сегмента (`segment`).  Ответы округлите до двух знаков.*\n",
    ">\n",
    "> | | Средний CPL | \n",
    "> | ---- | --- | \n",
    "> | Russia | `?` | \n",
    "> | RS | `?` | \n",
    "> | Other | `?` | "
   ]
  },
  {
   "cell_type": "code",
   "execution_count": 18,
   "id": "eeac03e8",
   "metadata": {},
   "outputs": [
    {
     "data": {
      "text/plain": [
       "segment\n",
       "Other     0.15\n",
       "RS        0.13\n",
       "Russia    0.27\n",
       "Name: CPL, dtype: float64"
      ]
     },
     "execution_count": 18,
     "metadata": {},
     "output_type": "execute_result"
    }
   ],
   "source": [
    "df.groupby('segment')['CPL'].mean().round(2)"
   ]
  },
  {
   "cell_type": "markdown",
   "id": "3c92547e",
   "metadata": {},
   "source": [
    "### *Задание 3.3*"
   ]
  },
  {
   "cell_type": "markdown",
   "id": "6c577c72",
   "metadata": {},
   "source": [
    ">*Укажите как выглядит распределение размаха\\* стоимости одного прослушивания (`CPL`) для России и других русскоговорящих стран (`country`).*\n",
    ">\n",
    ">\\*Размах - это разница между максимумом и минимумом"
   ]
  },
  {
   "cell_type": "markdown",
   "id": "795f540d",
   "metadata": {},
   "source": [
    "![](data:image/png;base64,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)"
   ]
  },
  {
   "cell_type": "markdown",
   "id": "bb05d66b",
   "metadata": {},
   "source": [
    "<div style=\"background-color: rgba(0, 123, 255, 0.1); padding: 16px; border-radius: 8px;\">\n",
    "\n",
    "**АЛГОРИТМ РЕШЕНИЯ**\n",
    "\n",
    "1. Отфильтруйте наблюдения и оставьте те, которые не относятся к сегменту (`segment`) **Other**\n",
    "\n",
    "2. По отфильтрованным данным, постройте сводную таблицу, где по строкам идут страны (`country`), а в столбцах максимальная и минимальная стоимость одного прослушивания (`CPL`) для каждой страны\n",
    "\n",
    "3.  В сводной таблице создайте новый признак `range`, который будет представлять из себя размах `CPL`\n",
    "\n",
    "4. Визуализируйте распределение `range`\n",
    "\n",
    "</div>"
   ]
  },
  {
   "cell_type": "code",
   "execution_count": 37,
   "id": "f7b9d4dc",
   "metadata": {},
   "outputs": [
    {
     "data": {
      "image/png": "[encoded data removed]",
      "text/plain": [
       "<Figure size 640x480 with 1 Axes>"
      ]
     },
     "metadata": {},
     "output_type": "display_data"
    }
   ],
   "source": [
    "df_flt = df[df['segment'] != 'Other']\n",
    "df_grouped = df_flt.groupby('country')['CPL'].agg(['min', 'max'])\n",
    "df_grouped['range'] = df_grouped['max'] - df_grouped['min']\n",
    "\n",
    "df_grouped['range'].plot(kind='hist');"
   ]
  },
  {
   "cell_type": "markdown",
   "id": "c17920f6",
   "metadata": {},
   "source": [
    "**Ответ**: `B`"
   ]
  },
  {
   "cell_type": "markdown",
   "id": "d6f06e0c",
   "metadata": {},
   "source": [
    "---"
   ]
  },
  {
   "cell_type": "markdown",
   "id": "536e54e0",
   "metadata": {},
   "source": [
    "## **Задание 4**"
   ]
  },
  {
   "cell_type": "markdown",
   "id": "f205dedb",
   "metadata": {},
   "source": [
    "Построим матрицу `BCG` для наших продуктов (треков), благодаря этой матрице, мы сможем понять какие треки артиста следуют продвигать:\n",
    "\n",
    "| | ВЫСОКАЯ ДОЛЯ ПРОСЛУШИВАНИЙ\t| НИЗКАЯ ДОЛЯ ПРОСЛУШИВАНИЙ | \n",
    " | --- | --- | --- | \n",
    "| ВЫСОКИЙ РОСТ ПОПУЛЯРНОСТИ | ЗВЕЗДЫ | ДИКИЕ КОШКИ | \n",
    "| НИЗКИЙ РОСТ ПОПУЛЯРНОСТИ | ДОЙНЫЕ КОРОВЫ | СОБАКИ | \n",
    "\n",
    "- ЗВЕЗДЫ: Лидер по прослушиваниям, который продолжают активно расти. Этот трек можно использовать для продвижения артиста.\n",
    " - ДИКИЕ КОШКИ: Перспективные треки. Показывают высокий рост, но их доля в общем объеме еще мала. Треки, которые можно продвигать.\n",
    "- ДОЙНЫЕ КОРОВЫ: Имеют высокое количество прослушиваний, но рост уже остановился. Стабильно генерируют доход без дополнительных инвестиций.\n",
    "- СОБАКИ: Аутсайдеры. Низкая доля и низкие темпы роста. Обычно не требуют внимания."
   ]
  },
  {
   "cell_type": "markdown",
   "id": "3aee11a8",
   "metadata": {},
   "source": [
    "### *Задание 4.1*"
   ]
  },
  {
   "cell_type": "markdown",
   "id": "275dc859",
   "metadata": {},
   "source": [
    ">*Для начала найдем долю прослушиваний каждого трека:*\n",
    ">$$ \\text{rate playground}_{\\text{трека}} = \\frac{\\text{playcount}_{\\text{трека}}}{\\text{playcount}_{\\text{по всем трекам}}}$$"
   ]
  },
  {
   "cell_type": "markdown",
   "id": "f4e428d9",
   "metadata": {},
   "source": [
    "<div style=\"background-color: rgba(0, 123, 255, 0.1); padding: 16px; border-radius: 8px;\">\n",
    "\n",
    "**АЛГОРИТМ РЕШЕНИЯ**\n",
    "\n",
    "1. *Найдите общее количество прослушиваний треков артиста (`playcount` по всем трекам).*  \n",
    "\n",
    "2. *Постройте сводную таблицу, где:*  \n",
    "   - по строкам идут композиции (*`track`*)  \n",
    "   - в столбце указано общее количество прослушиваний (*`playcount`*) каждой композиции  \n",
    "\n",
    "3. *Найдите долю прослушиваний каждого трека (`rate playcount трека`), разделив сводную таблицу на общее количество прослушиваний (`playcount` по всем трекам).*  \n",
    "\n",
    "4. *Будем считать:*  \n",
    "   - **ВЫСОКАЯ ДОЛЯ ПРОСЛУШИВАНИЙ** — если доля прослушиваний трека больше среднего. Сохраните эти треки в переменную `high_playcount`.  \n",
    "   - **НИЗКАЯ ДОЛЯ ПРОСЛУШИВАНИЙ** — если доля прослушиваний трека меньше среднего. Сохраните эти треки в переменную `low_playcount`.  \n",
    "\n",
    "</div>"
   ]
  },
  {
   "cell_type": "code",
   "execution_count": 57,
   "id": "e97123a8",
   "metadata": {},
   "outputs": [
    {
     "data": {
      "text/plain": [
       "track\n",
       "track_00    0.965712\n",
       "track_01    0.015355\n",
       "track_02    0.000679\n",
       "track_03    0.002129\n",
       "track_04    0.000180\n",
       "Name: playcount, dtype: float64"
      ]
     },
     "execution_count": 57,
     "metadata": {},
     "output_type": "execute_result"
    }
   ],
   "source": [
    "# 1.\n",
    "total_play = df['playcount'].sum()\n",
    "\n",
    "# 2.\n",
    "df_track = df.groupby('track')['playcount'].sum()\n",
    "\n",
    "# 3. \n",
    "df_track = df_track / total_play\n",
    "\n",
    "df_track.head()"
   ]
  },
  {
   "cell_type": "code",
   "execution_count": 58,
   "id": "8fc7a19a",
   "metadata": {},
   "outputs": [],
   "source": [
    "# 4.\n",
    "high_playcount = df_track[df_track > df_track.mean()]\n",
    "low_playcount = df_track[df_track <= df_track.mean()]"
   ]
  },
  {
   "cell_type": "markdown",
   "id": "ffff49ed",
   "metadata": {},
   "source": [
    "### *Задание 4.2*"
   ]
  },
  {
   "cell_type": "markdown",
   "id": "24df8892",
   "metadata": {},
   "source": [
    ">*Теперь найдем относительный рост популярности каждого трека по каждому отчетному периоду:*\n",
    ">$$ \\text{grouth}_{\\text{трека}} = \\frac{\\text{playcount}_{\\text{текущий период}} - \\text{playcount}_{\\text{прошлый период}}}{\\text{playcount}_{\\text{прошлый период}}} \\times 100 \\%$$"
   ]
  },
  {
   "cell_type": "markdown",
   "id": "09957338",
   "metadata": {},
   "source": [
    "<div style=\"background-color: rgba(0, 123, 255, 0.1); padding: 16px; border-radius: 8px;\">\n",
    "\n",
    "**АЛГОРИТМ РЕШЕНИЯ**\n",
    "\n",
    "1. *Постройте сводную таблицу, где:*  \n",
    "   - по строкам идут отчетные периоды (`period`) и композиции (`track`),  \n",
    "   - в столбце указано общее количество прослушиваний (`playcount`) каждой композиции в каждый отчетный период.  \n",
    "\n",
    "2. *Примените к сводной таблице метод* `.unstack()`.  \n",
    "   - В результате отчетные периоды (`period`) останутся по строкам,  \n",
    "   - а столбцами станут композиции (`track`).  \n",
    "   - Затем отсортируйте таблицу по отчетным периодам (`period`).  \n",
    "\n",
    "   *Пример итоговой структуры:*  \n",
    "\n",
    "   | Трек 1 | ... | Трек N |\n",
    "   |--------|-----|--------|\n",
    "   | Период 1: Кол-во прослушиваний | ... | ... |\n",
    "   | Период 2: Кол-во прослушиваний | ... | ... |\n",
    "   | ...    | ... | ... |\n",
    "   | Период N: Кол-во прослушиваний | ... | ... |\n",
    "\n",
    "\n",
    "3. *Чтобы посчитать рост популярности трека (`growth_трека`), примените метод* `.pct_change()` *к сводной таблице.*  \n",
    "   - Этот метод автоматически рассчитает рост популярности для треков относительно каждого отчетного периода.  \n",
    "\n",
    "4. *Рассчитайте средний рост популярности для каждого трека, применив метод* `.mean()` *к сводной таблице.*  \n",
    "\n",
    "5. *Будем считать:*  \n",
    "   - **ВЫСОКИЙ РОСТ ПОПУЛЯРНОСТИ** — если `growth_трека` больше среднего.  \n",
    "     Сохраните эти треки в переменную `high_growth`.  \n",
    "   - **НИЗКИЙ РОСТ ПОПУЛЯРНОСТИ** — если `growth_трека` меньше среднего.  \n",
    "     Сохраните эти треки в переменную `low_growth`.  \n",
    "\n",
    "</div>\n"
   ]
  },
  {
   "cell_type": "code",
   "execution_count": 54,
   "id": "48d44a12",
   "metadata": {},
   "outputs": [
    {
     "name": "stderr",
     "output_type": "stream",
     "text": [
      "/var/folders/57/900gpl2j72309sh7yc9yl50c0000gn/T/ipykernel_11673/2428913394.py:8: FutureWarning: The default fill_method='pad' in DataFrame.pct_change is deprecated and will be removed in a future version. Either fill in any non-leading NA values prior to calling pct_change or specify 'fill_method=None' to not fill NA values.\n",
      "  df_track_period = df_track_period.pct_change()\n"
     ]
    },
    {
     "data": {
      "text/plain": [
       "track\n",
       "track_00    22247.618395\n",
       "track_01        1.349180\n",
       "track_02       15.839584\n",
       "track_03        3.684395\n",
       "track_04       68.637553\n",
       "dtype: float64"
      ]
     },
     "execution_count": 54,
     "metadata": {},
     "output_type": "execute_result"
    }
   ],
   "source": [
    "# 1.\n",
    "df_track_period = df.groupby(['period', 'track'])['playcount'].sum()\n",
    "\n",
    "# 2.\n",
    "df_track_period = df_track_period.unstack().sort_values('period')\n",
    "\n",
    "# 3.\n",
    "df_track_period = df_track_period.pct_change()\n",
    "\n",
    "# 4.\n",
    "df_track_pop = df_track_period.mean()\n",
    "\n",
    "df_track_pop.head()"
   ]
  },
  {
   "cell_type": "code",
   "execution_count": 56,
   "id": "a1831541",
   "metadata": {},
   "outputs": [],
   "source": [
    "# 5.\n",
    "high_growth = df_track_pop[df_track_pop > df_track_pop.mean()]\n",
    "low_growth = df_track_pop[df_track_pop <= df_track_pop.mean()]"
   ]
  },
  {
   "cell_type": "markdown",
   "id": "f92dbc25",
   "metadata": {},
   "source": [
    "### *Задание 4.3*"
   ]
  },
  {
   "cell_type": "markdown",
   "id": "bbb5933d",
   "metadata": {},
   "source": [
    "Наконец, мы можем определить \"звезд\", \"диких кошек\", \"дойных коров\" и \"собак\".\n"
   ]
  },
  {
   "cell_type": "markdown",
   "id": "7c8fd6e9",
   "metadata": {},
   "source": [
    ">- *Укажите какой трек (`track`) является ЗВЕЗДОЙ*\n",
    ">- *Укажите какой трек (`track`) является ДИКОЙ КОШКОЙ*\n",
    ">- *Укажите количество треков, которые являются ДОЙНЫМИ КОРОВАМИ*\n",
    ">- *Укажите количество треков, которые являются СОБАКАМИ*"
   ]
  },
  {
   "cell_type": "markdown",
   "id": "36e11c91",
   "metadata": {},
   "source": [
    "<div style=\"background-color: rgba(0, 123, 255, 0.1); padding: 16px; border-radius: 8px;\">\n",
    "\n",
    "**АЛГОРИТМ РЕШЕНИЯ**\n",
    "1. Извлекаем название треков из таблиц `high_playcount`, `low_playcount`, `high_growth`, `low_growth`\n",
    "\n",
    "2. Трансформируем список с названиями треков во множества, с помощью функции `set()`\n",
    "\n",
    "3. Пересекаем множества\n",
    "\n",
    "</div>"
   ]
  },
  {
   "cell_type": "code",
   "execution_count": 64,
   "id": "79dc164f",
   "metadata": {},
   "outputs": [
    {
     "data": {
      "text/plain": [
       "{'track_00'}"
      ]
     },
     "execution_count": 64,
     "metadata": {},
     "output_type": "execute_result"
    }
   ],
   "source": [
    "# 1. ЗВЕЗДА = высокая доля прослушиваний и популярности\n",
    "set(high_playcount.index) & set(high_growth.index)"
   ]
  },
  {
   "cell_type": "code",
   "execution_count": 65,
   "id": "fac9dea2",
   "metadata": {},
   "outputs": [
    {
     "data": {
      "text/plain": [
       "{'track_06'}"
      ]
     },
     "execution_count": 65,
     "metadata": {},
     "output_type": "execute_result"
    }
   ],
   "source": [
    "# 2. ДИКАЯ КОШКА = низкая доля прослушиваний НО высокий рост популярности\n",
    "set(low_playcount.index) & set(high_growth.index)"
   ]
  },
  {
   "cell_type": "code",
   "execution_count": 66,
   "id": "4ef3f46f",
   "metadata": {},
   "outputs": [
    {
     "data": {
      "text/plain": [
       "set()"
      ]
     },
     "execution_count": 66,
     "metadata": {},
     "output_type": "execute_result"
    }
   ],
   "source": [
    "# 3. ДОЙНЫЕ КОРОВЫ = высокая доля прослушиваний НО низкий рост популярности\n",
    "set(high_playcount.index) & set(low_growth.index)"
   ]
  },
  {
   "cell_type": "code",
   "execution_count": 69,
   "id": "c6cbcd85",
   "metadata": {},
   "outputs": [
    {
     "data": {
      "text/plain": [
       "54"
      ]
     },
     "execution_count": 69,
     "metadata": {},
     "output_type": "execute_result"
    }
   ],
   "source": [
    "# 4. СОБАКИ = низкая доля прослушиваний и низкие темпы роста\n",
    "len(set(low_playcount.index) & set(low_growth.index))"
   ]
  },
  {
   "cell_type": "markdown",
   "id": "f268e3d4",
   "metadata": {},
   "source": [
    "<div style=\"background-color: rgba(128, 0, 128, 0.1); padding: 16px; border-radius: 8px; text-align: left;\">\n",
    "\n",
    "**🤔 Question**  \n",
    "\n",
    "*С чем связано такое количество?*\n",
    "\n",
    "</div>\n"
   ]
  },
  {
   "cell_type": "markdown",
   "id": "52fc614b",
   "metadata": {},
   "source": [
    "---"
   ]
  },
  {
   "cell_type": "markdown",
   "id": "cf5cdffe",
   "metadata": {},
   "source": [
    "## **Задание 5**"
   ]
  },
  {
   "cell_type": "markdown",
   "id": "c59325c4",
   "metadata": {},
   "source": [
    "***\"Звезда\"** — это ваш главный актив в матрице `BCG`. Маркетинг должен уметь извлекать из него максимальную пользу:*\n",
    "\n",
    "- **Продвижение нового контента**: Этот трек можно использовать как «крючок» для продвижения всего альбома или нового релиза артиста. Например, в рекламе: «Познакомьтесь с автором хита [Название трека] — слушайте новый альбом!».\n",
    "- **Фокус рекламного бюджета**: Логично вкладывать больше средств в продвижение уже популярного трека, так как он уже доказал свою эффективность и имеет максимальную конверсию в прослушивание. Это дает больший охват и вовлечение на каждый вложенный рубль."
   ]
  },
  {
   "cell_type": "markdown",
   "id": "ddce6907",
   "metadata": {},
   "source": [
    ">*Укажите какую долю дохода (`royalty`) от стриминга составляет этот трек. Ответ округлите до двух знаков.*\n"
   ]
  },
  {
   "cell_type": "code",
   "execution_count": 72,
   "id": "182175ba",
   "metadata": {},
   "outputs": [
    {
     "data": {
      "text/plain": [
       "np.float64(0.27)"
      ]
     },
     "execution_count": 72,
     "metadata": {},
     "output_type": "execute_result"
    }
   ],
   "source": [
    "# 'track_00' - звезда\n",
    "\n",
    "(df[df['track'] == 'track_00']['royalty'].sum() / df['royalty'].sum()).round(2)"
   ]
  },
  {
   "cell_type": "markdown",
   "id": "37020379",
   "metadata": {},
   "source": [
    "---"
   ]
  },
  {
   "cell_type": "markdown",
   "id": "f61e16c6",
   "metadata": {},
   "source": [
    "## **Задание 6**"
   ]
  },
  {
   "cell_type": "markdown",
   "id": "69a426b8",
   "metadata": {},
   "source": [
    "### *Задание 6.1*"
   ]
  },
  {
   "cell_type": "markdown",
   "id": "678ac65f",
   "metadata": {},
   "source": [
    ">*Посмотрите как выглядит динамика (`period`) количества прослушиваний (`playcount`) \"звездного\" трека (`track`).*"
   ]
  },
  {
   "cell_type": "markdown",
   "id": "f9b15416",
   "metadata": {},
   "source": [
    "![](data:image/png;base64,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)"
   ]
  },
  {
   "cell_type": "markdown",
   "id": "43962621",
   "metadata": {},
   "source": [
    "<div style=\"background-color: rgba(0, 123, 255, 0.1); padding: 16px; border-radius: 8px;\">\n",
    "\n",
    "**АЛГОРИТМ РЕШЕНИЯ**\n",
    "1. Отфильтруйте таблицу и оставьте только данные по \"звездному\" треку.\n",
    "2. По отфильтрованным данным, постройте сводную таблицу, где по строкам идет отчетный период (`period`), в столбце сумма по количеству прослушиваний (`playcount`) для каждой композиции.\n",
    "3. Отсортируйте сводную таблицу по отчетному (`period`) и постройте линейный график.\n",
    "\n",
    "</div>"
   ]
  },
  {
   "cell_type": "code",
   "execution_count": 75,
   "id": "b39ac19e",
   "metadata": {},
   "outputs": [
    {
     "data": {
      "image/png": "[encoded data removed]",
      "text/plain": [
       "<Figure size 640x480 with 1 Axes>"
      ]
     },
     "metadata": {},
     "output_type": "display_data"
    }
   ],
   "source": [
    "# 'track_00' - звезда\n",
    "df[df['track'] == 'track_00'].groupby('period')['playcount'].sum().sort_index().plot();"
   ]
  },
  {
   "cell_type": "markdown",
   "id": "1afedaf2",
   "metadata": {},
   "source": [
    "**Ответ**: `A`"
   ]
  },
  {
   "cell_type": "markdown",
   "id": "af0efa9e",
   "metadata": {},
   "source": [
    "### *Задание 6.2*"
   ]
  },
  {
   "cell_type": "markdown",
   "id": "b27c6f4b",
   "metadata": {},
   "source": [
    ">*Мы видим резкий рост популярности \"звездного\" трека с `???` (`period`). Это связано с тем, что пользователи TikTok (и его аналогов в РФ) запустили массовый челлендж под него.*\n",
    ">\n",
    ">*Давайте оценим, как виральность \"звездного\" трека отразилась на прослушивании остальной дискографии артиста.*\n",
    ">\n",
    "><div style=\"background-color: rgba(255, 255, 255, 0.3); text-align: center; padding: 12px; border-radius: 8px;\">\n",
    ">\n",
    ">***Эффект Гало** (эффект снежного кома) — это когда успех одного продукта увеличивает популярность всех остальных продуктов компании.*\n",
    ">\n",
    "></div>\n",
    ">\n",
    ">*Найдите трек (`track`), для которого коэффициент подъема после челленджа наибольший:*\n",
    ">$$\\text{Lift factor} = \\frac{\\text{playcount}_{\\text{после челленджа}}}{\\text{playcount}_{\\text{до челленджа}}}$$\n",
    ">$\\text{Lift factor}$ *показывает во сколько раз увеличилось количество прослушиваний.*"
   ]
  },
  {
   "cell_type": "markdown",
   "id": "6beb4c33",
   "metadata": {},
   "source": [
    "**Ответ**: видим резкий рост с **2024/11**"
   ]
  },
  {
   "cell_type": "markdown",
   "id": "eb74616c",
   "metadata": {},
   "source": [
    "<div style=\"background-color: rgba(0, 123, 255, 0.1); padding: 16px; border-radius: 8px;\">\n",
    "\n",
    "**АЛГОРИТМ РЕШЕНИЯ**\n",
    "\n",
    "1. Создайте две таблицы `before` и `after`. В `before` будут храниться наблюдения по трекам до челленджа (**месяц начала роста включен**), в `after` информация по трекам после начала челленджа (месяц начала роста не включен).\n",
    "\n",
    "2. Создайте две сводные таблицы по данным `before` и `after`. По строкам идут композиции (`track`), а в столбцах общее количество прослушиваний (`playcount`) каждой композиции.\n",
    "\n",
    "3. Разделите одну сводную таблицу на другую, чтобы найти коэффициент подъема ($\\text{Lift factor}$) и найдите трек, на который эффект Гало оказал наибольшее влияние.\n",
    "\n",
    "</div>\n",
    "\n",
    "</div>"
   ]
  },
  {
   "cell_type": "code",
   "execution_count": 79,
   "id": "7242fade",
   "metadata": {},
   "outputs": [
    {
     "data": {
      "text/plain": [
       "track\n",
       "track_23    4864.000000\n",
       "track_17    4409.000000\n",
       "track_06    3354.333333\n",
       "Name: playcount, dtype: float64"
      ]
     },
     "execution_count": 79,
     "metadata": {},
     "output_type": "execute_result"
    }
   ],
   "source": [
    "# 1.\n",
    "cond = (df['period_year'] <= 2024) & (df['period_month'] <= 11)\n",
    "before_df = df[cond]\n",
    "after_df = df[~cond]\n",
    "\n",
    "# 2.\n",
    "before_df_track = before_df.groupby('track')['playcount'].sum()\n",
    "after_df_track = after_df.groupby('track')['playcount'].sum()\n",
    "\n",
    "# 3.\n",
    "lift_track = after_df_track / before_df_track\n",
    "lift_track.sort_values(ascending=False).head(3)"
   ]
  },
  {
   "cell_type": "markdown",
   "id": "dfcde3a3",
   "metadata": {},
   "source": [
    "**Ответ**: `track_23`"
   ]
  },
  {
   "cell_type": "markdown",
   "id": "0095e87d",
   "metadata": {},
   "source": [
    "---"
   ]
  },
  {
   "cell_type": "markdown",
   "id": "d7d4e78e",
   "metadata": {},
   "source": [
    "## **Задание 7**"
   ]
  },
  {
   "cell_type": "markdown",
   "id": "9e32e5e1",
   "metadata": {},
   "source": [
    "**«Дикая кошка» — ваш главный актив будущего**. Это трек-первопроходец, который нашел аудиторию без бюджета и показывает взрывной рост.\n",
    "- **Проверка гипотез**: Его успех доказывает, что новое звучание или нишевая тема работают. Ваша задача — удвоить ставку на эту победу.\n",
    "- **Точечные инвестиции**: Небольшой, но сфокусированный бюджет на продвижение (например, в TikTok или таргетированная реклама) может дать взрывную окупаемость и превратить его в следующую «Звезду».\n",
    "\n"
   ]
  },
  {
   "cell_type": "markdown",
   "id": "fc5d6158",
   "metadata": {},
   "source": [
    "### *Задание 7.1*"
   ]
  },
  {
   "cell_type": "markdown",
   "id": "9ae464ad",
   "metadata": {},
   "source": [
    ">*Укажите, какой из графиков показывает динамику (`period`) количества прослушиваний (`playcount`) \"дикой кошки\" (`track`).*"
   ]
  },
  {
   "cell_type": "markdown",
   "id": "d3ee47dd",
   "metadata": {},
   "source": [
    "![](data:image/png;base64,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)"
   ]
  },
  {
   "cell_type": "code",
   "execution_count": 81,
   "id": "26e9fd20",
   "metadata": {},
   "outputs": [
    {
     "data": {
      "image/png": "[encoded data removed]",
      "text/plain": [
       "<Figure size 640x480 with 1 Axes>"
      ]
     },
     "metadata": {},
     "output_type": "display_data"
    }
   ],
   "source": [
    "# дикая кошка - трек 06\n",
    "df[df['track'] == 'track_06'].groupby('period')['playcount'].sum().sort_index().plot();"
   ]
  },
  {
   "cell_type": "markdown",
   "id": "397a0f05",
   "metadata": {},
   "source": [
    "**Ответ**: `C`"
   ]
  },
  {
   "cell_type": "markdown",
   "id": "fa514792",
   "metadata": {},
   "source": [
    "<div style=\"background-color: rgba(128, 0, 128, 0.1); padding: 16px; border-radius: 8px; text-align: left;\">\n",
    "\n",
    "**🤔 Question**  \n",
    "\n",
    "*Можно ли сказать, что популярность \"дикой кошки\" обусловлена эффектом Гало из-за челленджа под \"звездный\" трек?*\n",
    "\n",
    "</div>\n"
   ]
  },
  {
   "cell_type": "markdown",
   "id": "6fb73249",
   "metadata": {},
   "source": [
    "### *Задание 7.2*"
   ]
  },
  {
   "cell_type": "markdown",
   "id": "ae5fd8b9",
   "metadata": {},
   "source": [
    ">*Укажите как выглядит распределение доходов (`royalty`) и прослушиваний (`playcount`) \"дикой кошки\" (`track`) по стриминговым платформам (`platform`).*\n",
    ">- Доход по платформам: `?`\n",
    ">- Прослушивания по платформам: `?`"
   ]
  },
  {
   "cell_type": "markdown",
   "id": "43405d27",
   "metadata": {},
   "source": [
    "![](data:image/png;base64,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)"
   ]
  },
  {
   "cell_type": "code",
   "execution_count": 88,
   "id": "037a80ea",
   "metadata": {},
   "outputs": [
    {
     "data": {
      "image/png": "[encoded data removed]",
      "text/plain": [
       "<Figure size 640x480 with 1 Axes>"
      ]
     },
     "metadata": {},
     "output_type": "display_data"
    }
   ],
   "source": [
    "# Доход - C\n",
    "df[df['track'] == 'track_06'].groupby('platform')['royalty'].sum().plot(kind='pie');"
   ]
  },
  {
   "cell_type": "code",
   "execution_count": null,
   "id": "e63739d0",
   "metadata": {},
   "outputs": [
    {
     "data": {
      "image/png": "[encoded data removed]",
      "text/plain": [
       "<Figure size 640x480 with 1 Axes>"
      ]
     },
     "metadata": {},
     "output_type": "display_data"
    }
   ],
   "source": [
    "# Прослушивания - B\n",
    "df[df['track'] == 'track_06'].groupby('platform')['playcount'].sum().plot(kind='pie');"
   ]
  },
  {
   "cell_type": "markdown",
   "id": "81f6f4d9",
   "metadata": {},
   "source": [
    "### *Задание 7.3*"
   ]
  },
  {
   "cell_type": "markdown",
   "id": "3c7afa62",
   "metadata": {},
   "source": [
    ">*Укажите на какой платформе (`platform`) следует продвигать \"дикую кошку\" (`track`) с точки зрения доходов (`royalty`) и прослушиваний (`platform`)*"
   ]
  },
  {
   "cell_type": "code",
   "execution_count": 91,
   "id": "2c64465b",
   "metadata": {},
   "outputs": [
    {
     "data": {
      "text/html": [
       "<div>\n",
       "<style scoped>\n",
       "    .dataframe tbody tr th:only-of-type {\n",
       "        vertical-align: middle;\n",
       "    }\n",
       "\n",
       "    .dataframe tbody tr th {\n",
       "        vertical-align: top;\n",
       "    }\n",
       "\n",
       "    .dataframe thead th {\n",
       "        text-align: right;\n",
       "    }\n",
       "</style>\n",
       "<table border=\"1\" class=\"dataframe\">\n",
       "  <thead>\n",
       "    <tr style=\"text-align: right;\">\n",
       "      <th></th>\n",
       "      <th>royalty</th>\n",
       "      <th>playcount</th>\n",
       "    </tr>\n",
       "    <tr>\n",
       "      <th>platform</th>\n",
       "      <th></th>\n",
       "      <th></th>\n",
       "    </tr>\n",
       "  </thead>\n",
       "  <tbody>\n",
       "    <tr>\n",
       "      <th>NetEase(Hangzhou) Network Co., Ltd</th>\n",
       "      <td>0.176951</td>\n",
       "      <td>5</td>\n",
       "    </tr>\n",
       "    <tr>\n",
       "      <th>Tik Tok</th>\n",
       "      <td>0.267221</td>\n",
       "      <td>794</td>\n",
       "    </tr>\n",
       "    <tr>\n",
       "      <th>Tidal Music AS</th>\n",
       "      <td>0.769256</td>\n",
       "      <td>2</td>\n",
       "    </tr>\n",
       "    <tr>\n",
       "      <th>SoundCloud</th>\n",
       "      <td>2.090558</td>\n",
       "      <td>16</td>\n",
       "    </tr>\n",
       "    <tr>\n",
       "      <th>Deezer</th>\n",
       "      <td>4.457874</td>\n",
       "      <td>13</td>\n",
       "    </tr>\n",
       "    <tr>\n",
       "      <th>YouTube</th>\n",
       "      <td>46.539832</td>\n",
       "      <td>166</td>\n",
       "    </tr>\n",
       "    <tr>\n",
       "      <th>Spotify</th>\n",
       "      <td>1179.382207</td>\n",
       "      <td>9070</td>\n",
       "    </tr>\n",
       "  </tbody>\n",
       "</table>\n",
       "</div>"
      ],
      "text/plain": [
       "                                        royalty  playcount\n",
       "platform                                                  \n",
       "NetEase(Hangzhou) Network Co., Ltd     0.176951          5\n",
       "Tik Tok                                0.267221        794\n",
       "Tidal Music AS                         0.769256          2\n",
       "SoundCloud                             2.090558         16\n",
       "Deezer                                 4.457874         13\n",
       "YouTube                               46.539832        166\n",
       "Spotify                             1179.382207       9070"
      ]
     },
     "execution_count": 91,
     "metadata": {},
     "output_type": "execute_result"
    }
   ],
   "source": [
    "df_cat = df[df['track'] == 'track_06'].groupby('platform')[['royalty', 'playcount']].sum()\n",
    "df_cat.sort_values('royalty')"
   ]
  },
  {
   "cell_type": "markdown",
   "id": "763a7668",
   "metadata": {},
   "source": [
    "**Ответ**: `Spotify`"
   ]
  },
  {
   "cell_type": "markdown",
   "id": "cdefe6c7",
   "metadata": {},
   "source": [
    "---"
   ]
  },
  {
   "cell_type": "code",
   "execution_count": null,
   "id": "a9069cad",
   "metadata": {},
   "outputs": [],
   "source": [
    "def recode(x):\n",
    "    if 'Mexican' in x:\n",
    "        return 1\n",
    "    else:\n",
    "        return 0"
   ]
  },
  {
   "cell_type": "code",
   "execution_count": null,
   "id": "ab2e43cf",
   "metadata": {},
   "outputs": [],
   "source": []
  },
  {
   "cell_type": "code",
   "execution_count": null,
   "id": "de36ce39",
   "metadata": {},
   "outputs": [],
   "source": []
  },
  {
   "cell_type": "code",
   "execution_count": null,
   "id": "c26323e0",
   "metadata": {},
   "outputs": [],
   "source": []
  }
 ],
 "metadata": {
  "kernelspec": {
   "display_name": "work_stuff",
   "language": "python",
   "name": "work_stuff"
  },
  "language_info": {
   "codemirror_mode": {
    "name": "ipython",
    "version": 3
   },
   "file_extension": ".py",
   "mimetype": "text/x-python",
   "name": "python",
   "nbconvert_exporter": "python",
   "pygments_lexer": "ipython3",
   "version": "3.13.3"
  }
 },
 "nbformat": 4,
 "nbformat_minor": 5
}
