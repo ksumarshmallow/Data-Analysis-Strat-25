{
 "cells": [
  {
   "cell_type": "markdown",
   "id": "0805a24a",
   "metadata": {},
   "source": [
    "# **Практика 5. Агрегирование данных. Сводные таблицы**"
   ]
  },
  {
   "cell_type": "markdown",
   "id": "06556820",
   "metadata": {},
   "source": [
    "[SmartLMS](https://edu.hse.ru/mod/quiz/view.php?id=1610936)"
   ]
  },
  {
   "cell_type": "markdown",
   "id": "f5080ec3",
   "metadata": {},
   "source": [
    "Вам предстоит работать с датасетом, который содержит информацию о винах, продающихся в некотором специализированном магазине в Польше.  \n",
    "\n",
    "Датасет содержит следующие признаки:\n",
    "\n",
    "| name\t | \t  название вина | \t \n",
    "| --- | --- | \n",
    "| price (PLN)  | \t цена бутылки вина (польский злотый) | \t \n",
    "| country\t | \t  страна производства | \t \n",
    "| region\t | \t  регион производства | \t \n",
    "| color | \t цвет вина | \t \n",
    "| alcohol (%) | процент алкоголя | \t \n",
    "| volume (liters) | объем бутылки | \t \n",
    "| taste | вкус вина | \t \n",
    "| punctation | оценка сомелье | \t "
   ]
  },
  {
   "cell_type": "code",
   "execution_count": 1,
   "id": "3d7db9d9",
   "metadata": {},
   "outputs": [],
   "source": [
    "import pandas as pd\n",
    "df = pd.read_csv('data/wine_data.csv')"
   ]
  },
  {
   "cell_type": "markdown",
   "id": "41362b82",
   "metadata": {},
   "source": [
    "## **Задание 1**\n",
    ">*Рассчитайте общую выручку от вин (`price (PLN)`), произведенных во Франции (`France`; `country`). Результат округлите до двух десятичных знаков.*"
   ]
  },
  {
   "cell_type": "code",
   "execution_count": 3,
   "id": "b8edca4d",
   "metadata": {},
   "outputs": [
    {
     "data": {
      "text/plain": [
       "np.float64(28212.0)"
      ]
     },
     "execution_count": 3,
     "metadata": {},
     "output_type": "execute_result"
    }
   ],
   "source": [
    "cond = df['country'] == 'France'\n",
    "\n",
    "df[cond]['price (PLN)'].sum().round(2)"
   ]
  },
  {
   "cell_type": "markdown",
   "id": "2ece27fb",
   "metadata": {},
   "source": [
    "---"
   ]
  },
  {
   "cell_type": "markdown",
   "id": "eaf7ca33",
   "metadata": {},
   "source": [
    "## **Задание 2**\n",
    "\n",
    ">*Рассчитайте среднее значение оценок сомелье (`punctation`) для вин розового (`rose`; `color`) и белого (`white`; `color`) цветов. Результат округлите до двух десятичных знаков.*\n"
   ]
  },
  {
   "cell_type": "code",
   "execution_count": 4,
   "id": "e14b1d7e",
   "metadata": {},
   "outputs": [
    {
     "data": {
      "text/plain": [
       "np.float64(91.99)"
      ]
     },
     "execution_count": 4,
     "metadata": {},
     "output_type": "execute_result"
    }
   ],
   "source": [
    "cond = df['color'].isin(['rose', 'white'])\n",
    "\n",
    "df[cond]['punctation'].mean().round(2)"
   ]
  },
  {
   "cell_type": "markdown",
   "id": "186f8479",
   "metadata": {},
   "source": [
    "---"
   ]
  },
  {
   "cell_type": "markdown",
   "id": "57276a32",
   "metadata": {},
   "source": [
    "## **Задание 3**\n",
    "\n",
    ">*Определите количество уникальных стран (`country`) производителей сухих вин (`dry`; `taste`), оценки которых ниже среднего значения оценки сомелье (`punctation`).*"
   ]
  },
  {
   "cell_type": "code",
   "execution_count": 5,
   "id": "b20bed8a",
   "metadata": {},
   "outputs": [
    {
     "data": {
      "text/plain": [
       "11"
      ]
     },
     "execution_count": 5,
     "metadata": {},
     "output_type": "execute_result"
    }
   ],
   "source": [
    "cond = (df['taste'] == 'dry') & (df['punctation'] < df['punctation'].mean())\n",
    "\n",
    "df[cond]['country'].nunique()"
   ]
  },
  {
   "cell_type": "markdown",
   "id": "169b7cf6",
   "metadata": {},
   "source": [
    "---"
   ]
  },
  {
   "cell_type": "markdown",
   "id": "8928e885",
   "metadata": {},
   "source": [
    "## **Задание 4**\n",
    "\n",
    ">*Найдите минимальную цену (`price (PLN)`) среди вин, у которых содержание алкоголя (`alcohol (%)`) не ниже среднего или цвет — красный (`red`; `color`). Результат округлите до двух знаков.*"
   ]
  },
  {
   "cell_type": "code",
   "execution_count": 6,
   "id": "32b02474",
   "metadata": {},
   "outputs": [
    {
     "data": {
      "text/plain": [
       "np.float64(55.0)"
      ]
     },
     "execution_count": 6,
     "metadata": {},
     "output_type": "execute_result"
    }
   ],
   "source": [
    "cond = (df['alcohol (%)'] > df['alcohol (%)'].mean()) | (df['color'] == 'red')\n",
    "df[cond]['price (PLN)'].min().round(2)"
   ]
  },
  {
   "cell_type": "markdown",
   "id": "845546ad",
   "metadata": {},
   "source": [
    "---"
   ]
  },
  {
   "cell_type": "markdown",
   "id": "4db900ad",
   "metadata": {},
   "source": [
    "## **Задание 5**\n",
    "\n",
    ">*Найдите размах цены (`price (PLN)`) среди вин региона Тоскана (`Tuscany`; `region`). Результат округлите до двух знаков.*"
   ]
  },
  {
   "cell_type": "code",
   "execution_count": 7,
   "id": "fd8d2e50",
   "metadata": {},
   "outputs": [
    {
     "data": {
      "text/plain": [
       "np.float64(2425.0)"
      ]
     },
     "execution_count": 7,
     "metadata": {},
     "output_type": "execute_result"
    }
   ],
   "source": [
    "cond = df['region'] == 'Tuscany'\n",
    "\n",
    "df[cond]['price (PLN)'].max() - df[cond]['price (PLN)'].min().round(2)"
   ]
  },
  {
   "cell_type": "markdown",
   "id": "6c0da4ea",
   "metadata": {},
   "source": [
    "---"
   ]
  },
  {
   "cell_type": "markdown",
   "id": "f0cb1917",
   "metadata": {},
   "source": [
    "## **Задание 6**\n",
    "\n",
    ">*Постройте сводную таблицу, где по строкам располагаются уровни содержания алкоголя (`alcohol (%)`), а в столбце указаны средние оценки сомелье (`punctation`). Укажите уровень алкоголя, который соответствует наибольшему среднему значению оценки. Результат округлите до двух знаков.*\n"
   ]
  },
  {
   "cell_type": "code",
   "execution_count": 11,
   "id": "66f64619",
   "metadata": {},
   "outputs": [
    {
     "data": {
      "text/plain": [
       "alcohol (%)\n",
       "16.00    94.500000\n",
       "13.36    93.500000\n",
       "8.50     93.000000\n",
       "14.00    92.750000\n",
       "14.50    92.683333\n",
       "15.00    92.430556\n",
       "13.00    92.288462\n",
       "13.50    92.106918\n",
       "15.50    92.000000\n",
       "12.50    91.545455\n",
       "11.50    91.000000\n",
       "14.10    91.000000\n",
       "14.30    91.000000\n",
       "12.00    90.500000\n",
       "11.00    90.000000\n",
       "Name: punctation, dtype: float64"
      ]
     },
     "execution_count": 11,
     "metadata": {},
     "output_type": "execute_result"
    }
   ],
   "source": [
    "df.groupby('alcohol (%)')['punctation'].mean().sort_values(ascending=False)"
   ]
  },
  {
   "cell_type": "markdown",
   "id": "6e32700f",
   "metadata": {},
   "source": [
    "**Ответ**: `16.00`"
   ]
  },
  {
   "cell_type": "markdown",
   "id": "aea61521",
   "metadata": {},
   "source": [
    "---"
   ]
  },
  {
   "cell_type": "markdown",
   "id": "4f30ce59",
   "metadata": {},
   "source": [
    "## **Задание 7**\n",
    "\n",
    ">*Постройте сводную таблицу, где по строкам располагаются цвета вин (`color`), а в ячейках указана общая выручка (`price (PLN)`) от вина каждого цвета. Укажите какой из графиков визуализирует распределение выручки магазина от каждого цвета вина.*\n"
   ]
  },
  {
   "cell_type": "markdown",
   "id": "df5c7623",
   "metadata": {},
   "source": [
    "![](data:image/png;base64,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)"
   ]
  },
  {
   "cell_type": "code",
   "execution_count": 12,
   "id": "d69892ca",
   "metadata": {},
   "outputs": [
    {
     "data": {
      "image/png": "[encoded data removed]",
      "text/plain": [
       "<Figure size 640x480 with 1 Axes>"
      ]
     },
     "metadata": {},
     "output_type": "display_data"
    }
   ],
   "source": [
    "df.groupby('color')['price (PLN)'].sum().plot(kind='pie');"
   ]
  },
  {
   "cell_type": "markdown",
   "id": "f0a9aff2",
   "metadata": {},
   "source": [
    "**Ответ**: `D`"
   ]
  },
  {
   "cell_type": "markdown",
   "id": "0f2a4f95",
   "metadata": {},
   "source": [
    "---"
   ]
  },
  {
   "cell_type": "markdown",
   "id": "ddaff135",
   "metadata": {},
   "source": [
    "## **Задание 8**\n",
    "\n",
    ">*Постройте сводную таблицу, где по строкам располагаются страны (`country`), а в столбцах отображается количество уникальных регионов (`region`) в которых производят вино в каждой стране. Укажите какой из графиков показывает количество уникальных регионов, в которых производят вино в каждой стране. *\n"
   ]
  },
  {
   "cell_type": "markdown",
   "id": "27ffc2b8",
   "metadata": {},
   "source": [
    "![](data:image/png;base64,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)"
   ]
  },
  {
   "cell_type": "code",
   "execution_count": 10,
   "id": "e2f7df3f",
   "metadata": {},
   "outputs": [
    {
     "data": {
      "image/png": "[encoded data removed]",
      "text/plain": [
       "<Figure size 640x480 with 1 Axes>"
      ]
     },
     "metadata": {},
     "output_type": "display_data"
    }
   ],
   "source": [
    "df.groupby('country')['region'].nunique().sort_values(ascending=False).plot(kind='barh');"
   ]
  },
  {
   "cell_type": "markdown",
   "id": "e6f56cde",
   "metadata": {},
   "source": [
    "**Ответ**: `A`"
   ]
  },
  {
   "cell_type": "markdown",
   "id": "0966a7f7",
   "metadata": {},
   "source": [
    "---"
   ]
  },
  {
   "cell_type": "markdown",
   "id": "7c0b0749",
   "metadata": {},
   "source": [
    "## **Задание 9**\n",
    "\n",
    ">*Постройте сводную таблицу, где по строкам расположены пары страна–регион (`country`, `region`), а в ячейках указана средняя цена (`price (PLN)`). Определите страну и регион с самой высокой средней стоимостью вина.*\n"
   ]
  },
  {
   "cell_type": "code",
   "execution_count": 14,
   "id": "3e7f5e2f",
   "metadata": {},
   "outputs": [
    {
     "data": {
      "text/plain": [
       "country  region   \n",
       "France   Champagne    1629.0\n",
       "Name: price (PLN), dtype: float64"
      ]
     },
     "execution_count": 14,
     "metadata": {},
     "output_type": "execute_result"
    }
   ],
   "source": [
    "df.groupby(['country', 'region'])['price (PLN)'].mean().sort_values(ascending=False).head(1)"
   ]
  },
  {
   "cell_type": "markdown",
   "id": "1e16ce30",
   "metadata": {},
   "source": [
    "**Ответ**\n",
    "- `country`: `France`\n",
    "- `region`: `Champagne`"
   ]
  },
  {
   "cell_type": "markdown",
   "id": "e7e23c3f",
   "metadata": {},
   "source": [
    "---"
   ]
  },
  {
   "cell_type": "markdown",
   "id": "25b12ad0",
   "metadata": {},
   "source": [
    "## **Задание 10**\n",
    "\n",
    ">*Постройте сводную таблицу, где по строкам расположены регионы (`region`) производства, а в колонках приведены сумма цен (`price (PLN)`) и общий объем (`volume (liters)`) бутылок. Укажите количество регионов производства вин, в которых удельная цена (отношению общего объема к сумме цен) меньше или равен среднему для этого показателя.*\n"
   ]
  },
  {
   "cell_type": "code",
   "execution_count": 15,
   "id": "fa08ea26",
   "metadata": {},
   "outputs": [
    {
     "data": {
      "text/plain": [
       "(24, 3)"
      ]
     },
     "execution_count": 15,
     "metadata": {},
     "output_type": "execute_result"
    }
   ],
   "source": [
    "df_grouped = df.groupby('region').agg({\n",
    "    'price (PLN)': 'sum',\n",
    "    'volume (liters)': 'sum'\n",
    "})\n",
    "\n",
    "df_grouped['dev'] = df_grouped['volume (liters)'] / df_grouped['price (PLN)']\n",
    "\n",
    "df_grouped[df_grouped['dev'] <= df_grouped['dev'].mean()].shape"
   ]
  },
  {
   "cell_type": "markdown",
   "id": "3aa8c5c6",
   "metadata": {},
   "source": [
    "---"
   ]
  },
  {
   "cell_type": "markdown",
   "id": "53867bea",
   "metadata": {},
   "source": [
    "## **Задание 11**\n",
    "\n",
    ">*Постройте сводную таблицу, где по строкам располагаются страны производства (`country`), а в столбцах представлены минимальная и максимальная цены на вина (`price (PLN)`). В ответе укажите максимальное значение размаха цены для некоторой страны. Ответ округлите до двух знаков.*\n"
   ]
  },
  {
   "cell_type": "code",
   "execution_count": 16,
   "id": "ff6cf3d7",
   "metadata": {},
   "outputs": [
    {
     "data": {
      "text/html": [
       "<div>\n",
       "<style scoped>\n",
       "    .dataframe tbody tr th:only-of-type {\n",
       "        vertical-align: middle;\n",
       "    }\n",
       "\n",
       "    .dataframe tbody tr th {\n",
       "        vertical-align: top;\n",
       "    }\n",
       "\n",
       "    .dataframe thead th {\n",
       "        text-align: right;\n",
       "    }\n",
       "</style>\n",
       "<table border=\"1\" class=\"dataframe\">\n",
       "  <thead>\n",
       "    <tr style=\"text-align: right;\">\n",
       "      <th></th>\n",
       "      <th>minimum</th>\n",
       "      <th>maximum</th>\n",
       "      <th>range_</th>\n",
       "    </tr>\n",
       "    <tr>\n",
       "      <th>country</th>\n",
       "      <th></th>\n",
       "      <th></th>\n",
       "      <th></th>\n",
       "    </tr>\n",
       "  </thead>\n",
       "  <tbody>\n",
       "    <tr>\n",
       "      <th>Hungary</th>\n",
       "      <td>145.0</td>\n",
       "      <td>145.0</td>\n",
       "      <td>0.0</td>\n",
       "    </tr>\n",
       "    <tr>\n",
       "      <th>Israel</th>\n",
       "      <td>195.0</td>\n",
       "      <td>195.0</td>\n",
       "      <td>0.0</td>\n",
       "    </tr>\n",
       "    <tr>\n",
       "      <th>New Zealand</th>\n",
       "      <td>145.0</td>\n",
       "      <td>149.0</td>\n",
       "      <td>4.0</td>\n",
       "    </tr>\n",
       "    <tr>\n",
       "      <th>Germany</th>\n",
       "      <td>169.0</td>\n",
       "      <td>227.0</td>\n",
       "      <td>58.0</td>\n",
       "    </tr>\n",
       "    <tr>\n",
       "      <th>Australia</th>\n",
       "      <td>84.0</td>\n",
       "      <td>289.0</td>\n",
       "      <td>205.0</td>\n",
       "    </tr>\n",
       "    <tr>\n",
       "      <th>Austria</th>\n",
       "      <td>69.0</td>\n",
       "      <td>279.0</td>\n",
       "      <td>210.0</td>\n",
       "    </tr>\n",
       "    <tr>\n",
       "      <th>South Africa</th>\n",
       "      <td>89.0</td>\n",
       "      <td>362.0</td>\n",
       "      <td>273.0</td>\n",
       "    </tr>\n",
       "    <tr>\n",
       "      <th>Argentina</th>\n",
       "      <td>65.0</td>\n",
       "      <td>340.0</td>\n",
       "      <td>275.0</td>\n",
       "    </tr>\n",
       "    <tr>\n",
       "      <th>United States of America</th>\n",
       "      <td>115.0</td>\n",
       "      <td>419.0</td>\n",
       "      <td>304.0</td>\n",
       "    </tr>\n",
       "    <tr>\n",
       "      <th>Chile</th>\n",
       "      <td>87.0</td>\n",
       "      <td>859.0</td>\n",
       "      <td>772.0</td>\n",
       "    </tr>\n",
       "    <tr>\n",
       "      <th>Italy</th>\n",
       "      <td>69.0</td>\n",
       "      <td>3299.0</td>\n",
       "      <td>3230.0</td>\n",
       "    </tr>\n",
       "    <tr>\n",
       "      <th>Spain</th>\n",
       "      <td>55.0</td>\n",
       "      <td>5599.0</td>\n",
       "      <td>5544.0</td>\n",
       "    </tr>\n",
       "    <tr>\n",
       "      <th>France</th>\n",
       "      <td>74.0</td>\n",
       "      <td>5999.0</td>\n",
       "      <td>5925.0</td>\n",
       "    </tr>\n",
       "  </tbody>\n",
       "</table>\n",
       "</div>"
      ],
      "text/plain": [
       "                          minimum  maximum  range_\n",
       "country                                           \n",
       "Hungary                     145.0    145.0     0.0\n",
       "Israel                      195.0    195.0     0.0\n",
       "New Zealand                 145.0    149.0     4.0\n",
       "Germany                     169.0    227.0    58.0\n",
       "Australia                    84.0    289.0   205.0\n",
       "Austria                      69.0    279.0   210.0\n",
       "South Africa                 89.0    362.0   273.0\n",
       "Argentina                    65.0    340.0   275.0\n",
       "United States of America    115.0    419.0   304.0\n",
       "Chile                        87.0    859.0   772.0\n",
       "Italy                        69.0   3299.0  3230.0\n",
       "Spain                        55.0   5599.0  5544.0\n",
       "France                       74.0   5999.0  5925.0"
      ]
     },
     "execution_count": 16,
     "metadata": {},
     "output_type": "execute_result"
    }
   ],
   "source": [
    "df_grouped = df.groupby('country')['price (PLN)'].agg(\n",
    "    minimum='min',\n",
    "    maximum='max'\n",
    ")\n",
    "\n",
    "df_grouped['range_'] = df_grouped['maximum'] - df_grouped['minimum']\n",
    "df_grouped.sort_values('range_')"
   ]
  }
 ],
 "metadata": {
  "kernelspec": {
   "display_name": "work_stuff",
   "language": "python",
   "name": "work_stuff"
  },
  "language_info": {
   "codemirror_mode": {
    "name": "ipython",
    "version": 3
   },
   "file_extension": ".py",
   "mimetype": "text/x-python",
   "name": "python",
   "nbconvert_exporter": "python",
   "pygments_lexer": "ipython3",
   "version": "3.13.3"
  }
 },
 "nbformat": 4,
 "nbformat_minor": 5
}
