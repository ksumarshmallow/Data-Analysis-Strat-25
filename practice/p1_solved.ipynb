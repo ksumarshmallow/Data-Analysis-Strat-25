{
 "cells": [
  {
   "cell_type": "markdown",
   "id": "883caced",
   "metadata": {},
   "source": [
    "# **Практика 1. Знакомство с библиотекой `pandas`**"
   ]
  },
  {
   "cell_type": "markdown",
   "id": "e238787f",
   "metadata": {},
   "source": [
    "[SmartLMS](https://edu.hse.ru/mod/quiz/view.php?id=1574583)"
   ]
  },
  {
   "cell_type": "markdown",
   "id": "a1459cba",
   "metadata": {},
   "source": [
    "Вам предоставлен датасет про сотрудников одной крупной компании: `job_data.csv`\n",
    "\n",
    "| Признак             | Описание                                |\n",
    "| ------------------- | --------------------------------------- |\n",
    "| Age                 | возраст                                 |\n",
    "| Gender              | пол (1 — мужчины, 0 — женщины)          |\n",
    "| Education Level     | уровень образования                     |\n",
    "| Job Title           | должность                               |\n",
    "| Years of Experience | опыт работы                             |\n",
    "| Salary              | заработная плата в год ($)              |\n",
    "| Country             | родная страна                           |\n",
    "| Race                | раса (True — белый, False — не белый)   |\n"
   ]
  },
  {
   "cell_type": "code",
   "execution_count": null,
   "id": "61f93772",
   "metadata": {},
   "outputs": [],
   "source": [
    "import pandas as pd\n",
    "df = pd.read_csv('data/job_data.csv')"
   ]
  },
  {
   "cell_type": "markdown",
   "id": "9b732981",
   "metadata": {},
   "source": [
    "## **Задание 1**"
   ]
  },
  {
   "cell_type": "markdown",
   "id": "de3033d4",
   "metadata": {},
   "source": [
    ">*Соотнесите признак и тип данных*\n"
   ]
  },
  {
   "cell_type": "code",
   "execution_count": 8,
   "id": "a23ef946",
   "metadata": {},
   "outputs": [
    {
     "name": "stdout",
     "output_type": "stream",
     "text": [
      "<class 'pandas.core.frame.DataFrame'>\n",
      "RangeIndex: 6699 entries, 0 to 6698\n",
      "Data columns (total 8 columns):\n",
      " #   Column               Non-Null Count  Dtype \n",
      "---  ------               --------------  ----- \n",
      " 0   Age                  6699 non-null   int64 \n",
      " 1   Gender               6699 non-null   int64 \n",
      " 2   Education Level      6698 non-null   object\n",
      " 3   Job Title            6699 non-null   object\n",
      " 4   Years of Experience  6699 non-null   int64 \n",
      " 5   Salary               6699 non-null   int64 \n",
      " 6   Country              6699 non-null   object\n",
      " 7   Race                 6699 non-null   bool  \n",
      "dtypes: bool(1), int64(4), object(3)\n",
      "memory usage: 373.0+ KB\n"
     ]
    }
   ],
   "source": [
    "df.info()"
   ]
  },
  {
   "cell_type": "markdown",
   "id": "9d79a073",
   "metadata": {},
   "source": [
    "| **Признак**             | **Тип данных**                          |\n",
    "| ------------------- | ----------------------------------- |\n",
    "| Age                 | количественный дискретный           |\n",
    "| Gender              | категориальный номинальный бинарный |\n",
    "| Education Level     | категориальный порядковый           |\n",
    "| Job Title           | категориальный номинальный          |\n",
    "| Years of Experience | количественный дискретный           |\n",
    "| Salary              | количественный дискретный           |\n",
    "| Country             | категориальный номинальный          |\n",
    "| Race                | категориальный номинальный бинарный |\n"
   ]
  },
  {
   "cell_type": "markdown",
   "id": "30af5993",
   "metadata": {},
   "source": [
    "---"
   ]
  },
  {
   "cell_type": "markdown",
   "id": "329efdcf",
   "metadata": {},
   "source": [
    "## **Задание 2**"
   ]
  },
  {
   "cell_type": "markdown",
   "id": "3bd85320",
   "metadata": {},
   "source": [
    ">*Укажите количество наблюдений и признаков в данных.*"
   ]
  },
  {
   "cell_type": "code",
   "execution_count": 4,
   "id": "c6f6f46e",
   "metadata": {},
   "outputs": [
    {
     "data": {
      "text/plain": [
       "(6699, 8)"
      ]
     },
     "execution_count": 4,
     "metadata": {},
     "output_type": "execute_result"
    }
   ],
   "source": [
    "# вариант 1\n",
    "df.shape"
   ]
  },
  {
   "cell_type": "code",
   "execution_count": 6,
   "id": "5d8300a7",
   "metadata": {},
   "outputs": [
    {
     "name": "stdout",
     "output_type": "stream",
     "text": [
      "<class 'pandas.core.frame.DataFrame'>\n",
      "RangeIndex: 6699 entries, 0 to 6698\n",
      "Data columns (total 8 columns):\n",
      " #   Column               Non-Null Count  Dtype \n",
      "---  ------               --------------  ----- \n",
      " 0   Age                  6699 non-null   int64 \n",
      " 1   Gender               6699 non-null   int64 \n",
      " 2   Education Level      6698 non-null   object\n",
      " 3   Job Title            6699 non-null   object\n",
      " 4   Years of Experience  6699 non-null   int64 \n",
      " 5   Salary               6699 non-null   int64 \n",
      " 6   Country              6699 non-null   object\n",
      " 7   Race                 6699 non-null   bool  \n",
      "dtypes: bool(1), int64(4), object(3)\n",
      "memory usage: 373.0+ KB\n"
     ]
    }
   ],
   "source": [
    "# вариант 2\n",
    "df.info()"
   ]
  },
  {
   "cell_type": "markdown",
   "id": "2e15ed32",
   "metadata": {},
   "source": [
    "---"
   ]
  },
  {
   "cell_type": "markdown",
   "id": "f3c0d69e",
   "metadata": {},
   "source": [
    "## **Задание 3**"
   ]
  },
  {
   "cell_type": "markdown",
   "id": "0a80af8d",
   "metadata": {},
   "source": [
    ">*Соотнесите признак и формат данных*"
   ]
  },
  {
   "cell_type": "code",
   "execution_count": 7,
   "id": "fc06b7a1",
   "metadata": {},
   "outputs": [
    {
     "data": {
      "text/plain": [
       "Age                     int64\n",
       "Gender                  int64\n",
       "Education Level        object\n",
       "Job Title              object\n",
       "Years of Experience     int64\n",
       "Salary                  int64\n",
       "Country                object\n",
       "Race                     bool\n",
       "dtype: object"
      ]
     },
     "execution_count": 7,
     "metadata": {},
     "output_type": "execute_result"
    }
   ],
   "source": [
    "df.dtypes"
   ]
  },
  {
   "cell_type": "markdown",
   "id": "7d3305e9",
   "metadata": {},
   "source": [
    "| Признак             | Формат данных  |\n",
    "| ------------------- | -------------- |\n",
    "| Age                 | целые числа    |\n",
    "| Gender              | целые числа    |\n",
    "| Education Level     | строчный (str) |\n",
    "| Job Title           | строчный (str) |\n",
    "| Years of Experience | целые числа    |\n",
    "| Salary              | целые числа    |\n",
    "| Country             | строчный (str) |\n",
    "| Race                | логический     |\n"
   ]
  },
  {
   "cell_type": "markdown",
   "id": "bbde2148",
   "metadata": {},
   "source": [
    "---"
   ]
  },
  {
   "cell_type": "markdown",
   "id": "8d8dc3c2",
   "metadata": {},
   "source": [
    "## **Задание 4**"
   ]
  },
  {
   "cell_type": "markdown",
   "id": "95acceba",
   "metadata": {},
   "source": [
    ">*Укажите в каком признаке есть пропуски.*"
   ]
  },
  {
   "cell_type": "code",
   "execution_count": 9,
   "id": "113b09b7",
   "metadata": {},
   "outputs": [
    {
     "name": "stdout",
     "output_type": "stream",
     "text": [
      "<class 'pandas.core.frame.DataFrame'>\n",
      "RangeIndex: 6699 entries, 0 to 6698\n",
      "Data columns (total 8 columns):\n",
      " #   Column               Non-Null Count  Dtype \n",
      "---  ------               --------------  ----- \n",
      " 0   Age                  6699 non-null   int64 \n",
      " 1   Gender               6699 non-null   int64 \n",
      " 2   Education Level      6698 non-null   object\n",
      " 3   Job Title            6699 non-null   object\n",
      " 4   Years of Experience  6699 non-null   int64 \n",
      " 5   Salary               6699 non-null   int64 \n",
      " 6   Country              6699 non-null   object\n",
      " 7   Race                 6699 non-null   bool  \n",
      "dtypes: bool(1), int64(4), object(3)\n",
      "memory usage: 373.0+ KB\n"
     ]
    }
   ],
   "source": [
    "df.info()"
   ]
  },
  {
   "cell_type": "markdown",
   "id": "349af632",
   "metadata": {},
   "source": [
    "**Ответ**: `Education Level`"
   ]
  },
  {
   "cell_type": "markdown",
   "id": "d8f6502a",
   "metadata": {},
   "source": [
    "---"
   ]
  },
  {
   "cell_type": "markdown",
   "id": "1e319440",
   "metadata": {},
   "source": [
    "## **Задание 5**"
   ]
  },
  {
   "cell_type": "markdown",
   "id": "0f6018a5",
   "metadata": {},
   "source": [
    ">*Укажите из какой страны (`Country`) работник, который расположен на 8 строке в датафрейме.*"
   ]
  },
  {
   "cell_type": "code",
   "execution_count": 11,
   "id": "fd618089",
   "metadata": {},
   "outputs": [
    {
     "data": {
      "text/plain": [
       "'China'"
      ]
     },
     "execution_count": 11,
     "metadata": {},
     "output_type": "execute_result"
    }
   ],
   "source": [
    "df.iloc[8]['Country']"
   ]
  },
  {
   "cell_type": "code",
   "execution_count": 13,
   "id": "a66788a6",
   "metadata": {},
   "outputs": [
    {
     "data": {
      "text/plain": [
       "'China'"
      ]
     },
     "execution_count": 13,
     "metadata": {},
     "output_type": "execute_result"
    }
   ],
   "source": [
    "# или\n",
    "df.loc[7, 'Country']"
   ]
  },
  {
   "cell_type": "code",
   "execution_count": 14,
   "id": "6b5b7d83",
   "metadata": {},
   "outputs": [
    {
     "data": {
      "text/html": [
       "<div>\n",
       "<style scoped>\n",
       "    .dataframe tbody tr th:only-of-type {\n",
       "        vertical-align: middle;\n",
       "    }\n",
       "\n",
       "    .dataframe tbody tr th {\n",
       "        vertical-align: top;\n",
       "    }\n",
       "\n",
       "    .dataframe thead th {\n",
       "        text-align: right;\n",
       "    }\n",
       "</style>\n",
       "<table border=\"1\" class=\"dataframe\">\n",
       "  <thead>\n",
       "    <tr style=\"text-align: right;\">\n",
       "      <th></th>\n",
       "      <th>Age</th>\n",
       "      <th>Gender</th>\n",
       "      <th>Education Level</th>\n",
       "      <th>Job Title</th>\n",
       "      <th>Years of Experience</th>\n",
       "      <th>Salary</th>\n",
       "      <th>Country</th>\n",
       "      <th>Race</th>\n",
       "    </tr>\n",
       "  </thead>\n",
       "  <tbody>\n",
       "    <tr>\n",
       "      <th>0</th>\n",
       "      <td>32</td>\n",
       "      <td>1</td>\n",
       "      <td>Bachelor's Degree</td>\n",
       "      <td>Software Engineer</td>\n",
       "      <td>5</td>\n",
       "      <td>90000</td>\n",
       "      <td>UK</td>\n",
       "      <td>True</td>\n",
       "    </tr>\n",
       "    <tr>\n",
       "      <th>1</th>\n",
       "      <td>28</td>\n",
       "      <td>0</td>\n",
       "      <td>Master's Degree</td>\n",
       "      <td>Data Analyst</td>\n",
       "      <td>3</td>\n",
       "      <td>65000</td>\n",
       "      <td>USA</td>\n",
       "      <td>False</td>\n",
       "    </tr>\n",
       "    <tr>\n",
       "      <th>2</th>\n",
       "      <td>45</td>\n",
       "      <td>1</td>\n",
       "      <td>PhD</td>\n",
       "      <td>Senior Manager</td>\n",
       "      <td>15</td>\n",
       "      <td>150000</td>\n",
       "      <td>Canada</td>\n",
       "      <td>True</td>\n",
       "    </tr>\n",
       "    <tr>\n",
       "      <th>3</th>\n",
       "      <td>36</td>\n",
       "      <td>0</td>\n",
       "      <td>Bachelor's Degree</td>\n",
       "      <td>Sales Associate</td>\n",
       "      <td>7</td>\n",
       "      <td>60000</td>\n",
       "      <td>USA</td>\n",
       "      <td>False</td>\n",
       "    </tr>\n",
       "    <tr>\n",
       "      <th>4</th>\n",
       "      <td>52</td>\n",
       "      <td>1</td>\n",
       "      <td>Master's Degree</td>\n",
       "      <td>Director</td>\n",
       "      <td>20</td>\n",
       "      <td>200000</td>\n",
       "      <td>USA</td>\n",
       "      <td>False</td>\n",
       "    </tr>\n",
       "    <tr>\n",
       "      <th>5</th>\n",
       "      <td>29</td>\n",
       "      <td>1</td>\n",
       "      <td>Bachelor's Degree</td>\n",
       "      <td>Marketing Analyst</td>\n",
       "      <td>2</td>\n",
       "      <td>55000</td>\n",
       "      <td>USA</td>\n",
       "      <td>False</td>\n",
       "    </tr>\n",
       "    <tr>\n",
       "      <th>6</th>\n",
       "      <td>42</td>\n",
       "      <td>0</td>\n",
       "      <td>Master's Degree</td>\n",
       "      <td>Product Manager</td>\n",
       "      <td>12</td>\n",
       "      <td>120000</td>\n",
       "      <td>USA</td>\n",
       "      <td>False</td>\n",
       "    </tr>\n",
       "    <tr>\n",
       "      <th>7</th>\n",
       "      <td>31</td>\n",
       "      <td>1</td>\n",
       "      <td>Bachelor's Degree</td>\n",
       "      <td>Sales Manager</td>\n",
       "      <td>4</td>\n",
       "      <td>80000</td>\n",
       "      <td>China</td>\n",
       "      <td>False</td>\n",
       "    </tr>\n",
       "  </tbody>\n",
       "</table>\n",
       "</div>"
      ],
      "text/plain": [
       "   Age  Gender    Education Level          Job Title  Years of Experience  \\\n",
       "0   32       1  Bachelor's Degree  Software Engineer                    5   \n",
       "1   28       0    Master's Degree       Data Analyst                    3   \n",
       "2   45       1                PhD     Senior Manager                   15   \n",
       "3   36       0  Bachelor's Degree    Sales Associate                    7   \n",
       "4   52       1    Master's Degree           Director                   20   \n",
       "5   29       1  Bachelor's Degree  Marketing Analyst                    2   \n",
       "6   42       0    Master's Degree    Product Manager                   12   \n",
       "7   31       1  Bachelor's Degree      Sales Manager                    4   \n",
       "\n",
       "   Salary Country   Race  \n",
       "0   90000      UK   True  \n",
       "1   65000     USA  False  \n",
       "2  150000  Canada   True  \n",
       "3   60000     USA  False  \n",
       "4  200000     USA  False  \n",
       "5   55000     USA  False  \n",
       "6  120000     USA  False  \n",
       "7   80000   China  False  "
      ]
     },
     "execution_count": 14,
     "metadata": {},
     "output_type": "execute_result"
    }
   ],
   "source": [
    "# или\n",
    "df.head(8)"
   ]
  },
  {
   "cell_type": "markdown",
   "id": "1125c5bc",
   "metadata": {},
   "source": [
    "**Ответ**: `China`"
   ]
  },
  {
   "cell_type": "markdown",
   "id": "46115498",
   "metadata": {},
   "source": [
    "---"
   ]
  },
  {
   "cell_type": "markdown",
   "id": "115aaf85",
   "metadata": {},
   "source": [
    "## **Задание 6**"
   ]
  },
  {
   "cell_type": "markdown",
   "id": "cbc4f920",
   "metadata": {},
   "source": [
    ">*Укажите какую должность (`Job Title`) занимает сотрудник, который расположен на 10 с конца строке датафрейма.*"
   ]
  },
  {
   "cell_type": "code",
   "execution_count": 17,
   "id": "feeba1f4",
   "metadata": {},
   "outputs": [
    {
     "data": {
      "text/plain": [
       "'Digital Marketing Manager'"
      ]
     },
     "execution_count": 17,
     "metadata": {},
     "output_type": "execute_result"
    }
   ],
   "source": [
    "df.loc[len(df)-10, 'Job Title']"
   ]
  },
  {
   "cell_type": "code",
   "execution_count": 19,
   "id": "d3440ecb",
   "metadata": {},
   "outputs": [
    {
     "data": {
      "text/plain": [
       "'Digital Marketing Manager'"
      ]
     },
     "execution_count": 19,
     "metadata": {},
     "output_type": "execute_result"
    }
   ],
   "source": [
    "# или\n",
    "df.iloc[-10]['Job Title']"
   ]
  },
  {
   "cell_type": "code",
   "execution_count": null,
   "id": "c1feb660",
   "metadata": {},
   "outputs": [
    {
     "data": {
      "text/html": [
       "<div>\n",
       "<style scoped>\n",
       "    .dataframe tbody tr th:only-of-type {\n",
       "        vertical-align: middle;\n",
       "    }\n",
       "\n",
       "    .dataframe tbody tr th {\n",
       "        vertical-align: top;\n",
       "    }\n",
       "\n",
       "    .dataframe thead th {\n",
       "        text-align: right;\n",
       "    }\n",
       "</style>\n",
       "<table border=\"1\" class=\"dataframe\">\n",
       "  <thead>\n",
       "    <tr style=\"text-align: right;\">\n",
       "      <th></th>\n",
       "      <th>Age</th>\n",
       "      <th>Gender</th>\n",
       "      <th>Education Level</th>\n",
       "      <th>Job Title</th>\n",
       "      <th>Years of Experience</th>\n",
       "      <th>Salary</th>\n",
       "      <th>Country</th>\n",
       "      <th>Race</th>\n",
       "    </tr>\n",
       "  </thead>\n",
       "  <tbody>\n",
       "    <tr>\n",
       "      <th>6689</th>\n",
       "      <td>27</td>\n",
       "      <td>1</td>\n",
       "      <td>High School</td>\n",
       "      <td>Digital Marketing Manager</td>\n",
       "      <td>2</td>\n",
       "      <td>40000</td>\n",
       "      <td>Australia</td>\n",
       "      <td>False</td>\n",
       "    </tr>\n",
       "    <tr>\n",
       "      <th>6690</th>\n",
       "      <td>33</td>\n",
       "      <td>0</td>\n",
       "      <td>Bachelor's Degree</td>\n",
       "      <td>Content Marketing Manager</td>\n",
       "      <td>7</td>\n",
       "      <td>90000</td>\n",
       "      <td>Australia</td>\n",
       "      <td>False</td>\n",
       "    </tr>\n",
       "    <tr>\n",
       "      <th>6691</th>\n",
       "      <td>28</td>\n",
       "      <td>1</td>\n",
       "      <td>PhD</td>\n",
       "      <td>Sales Representative</td>\n",
       "      <td>4</td>\n",
       "      <td>55000</td>\n",
       "      <td>China</td>\n",
       "      <td>False</td>\n",
       "    </tr>\n",
       "    <tr>\n",
       "      <th>6692</th>\n",
       "      <td>51</td>\n",
       "      <td>0</td>\n",
       "      <td>Master's Degree</td>\n",
       "      <td>Senior Product Marketing Manager</td>\n",
       "      <td>19</td>\n",
       "      <td>190000</td>\n",
       "      <td>UK</td>\n",
       "      <td>True</td>\n",
       "    </tr>\n",
       "    <tr>\n",
       "      <th>6693</th>\n",
       "      <td>37</td>\n",
       "      <td>1</td>\n",
       "      <td>Bachelor's Degree</td>\n",
       "      <td>Junior Sales Representative</td>\n",
       "      <td>6</td>\n",
       "      <td>75000</td>\n",
       "      <td>Canada</td>\n",
       "      <td>False</td>\n",
       "    </tr>\n",
       "    <tr>\n",
       "      <th>6694</th>\n",
       "      <td>49</td>\n",
       "      <td>0</td>\n",
       "      <td>PhD</td>\n",
       "      <td>Director of Marketing</td>\n",
       "      <td>20</td>\n",
       "      <td>200000</td>\n",
       "      <td>UK</td>\n",
       "      <td>False</td>\n",
       "    </tr>\n",
       "    <tr>\n",
       "      <th>6695</th>\n",
       "      <td>32</td>\n",
       "      <td>1</td>\n",
       "      <td>High School</td>\n",
       "      <td>Sales Associate</td>\n",
       "      <td>3</td>\n",
       "      <td>50000</td>\n",
       "      <td>Australia</td>\n",
       "      <td>False</td>\n",
       "    </tr>\n",
       "    <tr>\n",
       "      <th>6696</th>\n",
       "      <td>30</td>\n",
       "      <td>0</td>\n",
       "      <td>Bachelor's Degree</td>\n",
       "      <td>Financial Manager</td>\n",
       "      <td>4</td>\n",
       "      <td>55000</td>\n",
       "      <td>China</td>\n",
       "      <td>False</td>\n",
       "    </tr>\n",
       "    <tr>\n",
       "      <th>6697</th>\n",
       "      <td>46</td>\n",
       "      <td>1</td>\n",
       "      <td>Master's Degree</td>\n",
       "      <td>Marketing Manager</td>\n",
       "      <td>14</td>\n",
       "      <td>140000</td>\n",
       "      <td>China</td>\n",
       "      <td>False</td>\n",
       "    </tr>\n",
       "    <tr>\n",
       "      <th>6698</th>\n",
       "      <td>26</td>\n",
       "      <td>0</td>\n",
       "      <td>High School</td>\n",
       "      <td>Sales Executive</td>\n",
       "      <td>1</td>\n",
       "      <td>35000</td>\n",
       "      <td>Canada</td>\n",
       "      <td>False</td>\n",
       "    </tr>\n",
       "  </tbody>\n",
       "</table>\n",
       "</div>"
      ],
      "text/plain": [
       "      Age  Gender    Education Level                         Job Title  \\\n",
       "6689   27       1        High School         Digital Marketing Manager   \n",
       "6690   33       0  Bachelor's Degree         Content Marketing Manager   \n",
       "6691   28       1                PhD              Sales Representative   \n",
       "6692   51       0    Master's Degree  Senior Product Marketing Manager   \n",
       "6693   37       1  Bachelor's Degree       Junior Sales Representative   \n",
       "6694   49       0                PhD             Director of Marketing   \n",
       "6695   32       1        High School                   Sales Associate   \n",
       "6696   30       0  Bachelor's Degree                 Financial Manager   \n",
       "6697   46       1    Master's Degree                 Marketing Manager   \n",
       "6698   26       0        High School                   Sales Executive   \n",
       "\n",
       "      Years of Experience  Salary    Country   Race  \n",
       "6689                    2   40000  Australia  False  \n",
       "6690                    7   90000  Australia  False  \n",
       "6691                    4   55000      China  False  \n",
       "6692                   19  190000         UK   True  \n",
       "6693                    6   75000     Canada  False  \n",
       "6694                   20  200000         UK  False  \n",
       "6695                    3   50000  Australia  False  \n",
       "6696                    4   55000      China  False  \n",
       "6697                   14  140000      China  False  \n",
       "6698                    1   35000     Canada  False  "
      ]
     },
     "execution_count": 16,
     "metadata": {},
     "output_type": "execute_result"
    }
   ],
   "source": [
    "# или\n",
    "df.tail(10)"
   ]
  },
  {
   "cell_type": "markdown",
   "id": "9a1a46ab",
   "metadata": {},
   "source": [
    "**Ответ**: `'Digital Marketing Manager'`"
   ]
  },
  {
   "cell_type": "markdown",
   "id": "3913f042",
   "metadata": {},
   "source": [
    "---"
   ]
  },
  {
   "cell_type": "markdown",
   "id": "ec79fa49",
   "metadata": {},
   "source": [
    "## **Задание 7**"
   ]
  },
  {
   "cell_type": "markdown",
   "id": "d2b74af1",
   "metadata": {},
   "source": [
    ">*Укажите уровень образования сотрудника (`Education Level`) под индексом 1125.*"
   ]
  },
  {
   "cell_type": "code",
   "execution_count": 20,
   "id": "45b78421",
   "metadata": {},
   "outputs": [
    {
     "data": {
      "text/plain": [
       "\"Bachelor's Degree\""
      ]
     },
     "execution_count": 20,
     "metadata": {},
     "output_type": "execute_result"
    }
   ],
   "source": [
    "df.loc[1125, 'Education Level']"
   ]
  },
  {
   "cell_type": "code",
   "execution_count": 21,
   "id": "03486c95",
   "metadata": {},
   "outputs": [
    {
     "data": {
      "text/plain": [
       "\"Bachelor's Degree\""
      ]
     },
     "execution_count": 21,
     "metadata": {},
     "output_type": "execute_result"
    }
   ],
   "source": [
    "df.iloc[1124]['Education Level']"
   ]
  },
  {
   "cell_type": "markdown",
   "id": "41be1fee",
   "metadata": {},
   "source": [
    "**Ответ:** `\"Bachelor's Degree\"`"
   ]
  }
 ],
 "metadata": {
  "kernelspec": {
   "display_name": "work_stuff",
   "language": "python",
   "name": "work_stuff"
  },
  "language_info": {
   "codemirror_mode": {
    "name": "ipython",
    "version": 3
   },
   "file_extension": ".py",
   "mimetype": "text/x-python",
   "name": "python",
   "nbconvert_exporter": "python",
   "pygments_lexer": "ipython3",
   "version": "3.13.3"
  }
 },
 "nbformat": 4,
 "nbformat_minor": 5
}
