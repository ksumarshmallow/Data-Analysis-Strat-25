{
 "cells": [
  {
   "cell_type": "markdown",
   "id": "883caced",
   "metadata": {},
   "source": [
    "# **Практика 1. Знакомство с библиотекой `pandas`**"
   ]
  },
  {
   "cell_type": "markdown",
   "id": "e238787f",
   "metadata": {},
   "source": [
    "[SmartLMS](https://edu.hse.ru/mod/quiz/view.php?id=1574583)"
   ]
  },
  {
   "cell_type": "markdown",
   "id": "a1459cba",
   "metadata": {},
   "source": [
    "Вам предоставлен датасет про сотрудников одной крупной компании: `job_data.csv`\n",
    "\n",
    "| Признак             | Описание                                |\n",
    "| ------------------- | --------------------------------------- |\n",
    "| Age                 | возраст                                 |\n",
    "| Gender              | пол (1 — мужчины, 0 — женщины)          |\n",
    "| Education Level     | уровень образования                     |\n",
    "| Job Title           | должность                               |\n",
    "| Years of Experience | опыт работы                             |\n",
    "| Salary              | заработная плата в год ($)              |\n",
    "| Country             | родная страна                           |\n",
    "| Race                | раса (True — белый, False — не белый)   |\n"
   ]
  },
  {
   "cell_type": "code",
   "execution_count": null,
   "id": "61f93772",
   "metadata": {},
   "outputs": [],
   "source": [
    "import pandas as pd\n",
    "df = pd.read_csv('data/job_data.csv')"
   ]
  },
  {
   "cell_type": "markdown",
   "id": "9b732981",
   "metadata": {},
   "source": [
    "## **Задание 1**"
   ]
  },
  {
   "cell_type": "markdown",
   "id": "de3033d4",
   "metadata": {},
   "source": [
    ">*Соотнесите признак и тип данных*"
   ]
  },
  {
   "cell_type": "markdown",
   "id": "341a88e5",
   "metadata": {},
   "source": [
    "| **Признак**             | **Тип данных** |\n",
    "| ----------------------- | -------------- |\n",
    "| Age                     |                |\n",
    "| Gender                  |                |\n",
    "| Education Level         |                |\n",
    "| Job Title               |                |\n",
    "| Years of Experience     |                |\n",
    "| Salary                  |                |\n",
    "| Country                 |                |\n",
    "| Race                    |                |"
   ]
  },
  {
   "cell_type": "markdown",
   "id": "bbe03160",
   "metadata": {},
   "source": [
    "Варианты для выбора:  \n",
    "- количественный дискретный  \n",
    "- категориальный номинальный бинарный  \n",
    "- категориальный порядковый  \n",
    "- категориальный номинальный  "
   ]
  },
  {
   "cell_type": "code",
   "execution_count": null,
   "id": "418a0768",
   "metadata": {},
   "outputs": [],
   "source": []
  },
  {
   "cell_type": "markdown",
   "id": "30af5993",
   "metadata": {},
   "source": [
    "---"
   ]
  },
  {
   "cell_type": "markdown",
   "id": "329efdcf",
   "metadata": {},
   "source": [
    "## **Задание 2**"
   ]
  },
  {
   "cell_type": "markdown",
   "id": "3bd85320",
   "metadata": {},
   "source": [
    ">*Укажите количество наблюдений и признаков в данных.*"
   ]
  },
  {
   "cell_type": "code",
   "execution_count": null,
   "id": "c6f6f46e",
   "metadata": {},
   "outputs": [],
   "source": []
  },
  {
   "cell_type": "markdown",
   "id": "2e15ed32",
   "metadata": {},
   "source": [
    "---"
   ]
  },
  {
   "cell_type": "markdown",
   "id": "f3c0d69e",
   "metadata": {},
   "source": [
    "## **Задание 3**"
   ]
  },
  {
   "cell_type": "markdown",
   "id": "1bbc016e",
   "metadata": {},
   "source": [
    ">*Соотнесите признак и формат данных*"
   ]
  },
  {
   "cell_type": "markdown",
   "id": "851d1371",
   "metadata": {},
   "source": [
    "\n",
    "| **Признак**             | **Формат данных** |\n",
    "| ----------------------- | ----------------- |\n",
    "| Age                     |                   |\n",
    "| Gender                  |                   |\n",
    "| Education Level         |                   |\n",
    "| Job Title               |                   |\n",
    "| Years of Experience     |                   |\n",
    "| Salary                  |                   |\n",
    "| Country                 |                   |\n",
    "| Race                    |                   |"
   ]
  },
  {
   "cell_type": "markdown",
   "id": "0d05cf1a",
   "metadata": {},
   "source": [
    "Варианты для выбора:  \n",
    "- целые числа  \n",
    "- строчный (str)  \n",
    "- логический  "
   ]
  },
  {
   "cell_type": "code",
   "execution_count": null,
   "id": "fc06b7a1",
   "metadata": {},
   "outputs": [],
   "source": []
  },
  {
   "cell_type": "markdown",
   "id": "bbde2148",
   "metadata": {},
   "source": [
    "---"
   ]
  },
  {
   "cell_type": "markdown",
   "id": "8d8dc3c2",
   "metadata": {},
   "source": [
    "## **Задание 4**"
   ]
  },
  {
   "cell_type": "markdown",
   "id": "95acceba",
   "metadata": {},
   "source": [
    ">*Укажите в каком признаке есть пропуски.*"
   ]
  },
  {
   "cell_type": "code",
   "execution_count": null,
   "id": "113b09b7",
   "metadata": {},
   "outputs": [],
   "source": []
  },
  {
   "cell_type": "markdown",
   "id": "d8f6502a",
   "metadata": {},
   "source": [
    "---"
   ]
  },
  {
   "cell_type": "markdown",
   "id": "1e319440",
   "metadata": {},
   "source": [
    "## **Задание 5**"
   ]
  },
  {
   "cell_type": "markdown",
   "id": "0f6018a5",
   "metadata": {},
   "source": [
    ">*Укажите из какой страны (`Country`) работник, который расположен на 8 строке в датафрейме.*"
   ]
  },
  {
   "cell_type": "code",
   "execution_count": null,
   "id": "fd618089",
   "metadata": {},
   "outputs": [],
   "source": []
  },
  {
   "cell_type": "markdown",
   "id": "46115498",
   "metadata": {},
   "source": [
    "---"
   ]
  },
  {
   "cell_type": "markdown",
   "id": "115aaf85",
   "metadata": {},
   "source": [
    "## **Задание 6**"
   ]
  },
  {
   "cell_type": "markdown",
   "id": "cbc4f920",
   "metadata": {},
   "source": [
    ">*Укажите какую должность (`Job Title`) занимает сотрудник, который расположен на 10 с конца строке датафрейма.*"
   ]
  },
  {
   "cell_type": "code",
   "execution_count": null,
   "id": "feeba1f4",
   "metadata": {},
   "outputs": [],
   "source": []
  },
  {
   "cell_type": "markdown",
   "id": "3913f042",
   "metadata": {},
   "source": [
    "---"
   ]
  },
  {
   "cell_type": "markdown",
   "id": "ec79fa49",
   "metadata": {},
   "source": [
    "## **Задание 7**"
   ]
  },
  {
   "cell_type": "markdown",
   "id": "d2b74af1",
   "metadata": {},
   "source": [
    ">*Укажите уровень образования сотрудника (`Education Level`) под индексом 1125.*"
   ]
  },
  {
   "cell_type": "code",
   "execution_count": null,
   "id": "45b78421",
   "metadata": {},
   "outputs": [],
   "source": []
  }
 ],
 "metadata": {
  "kernelspec": {
   "display_name": "work_stuff",
   "language": "python",
   "name": "work_stuff"
  },
  "language_info": {
   "codemirror_mode": {
    "name": "ipython",
    "version": 3
   },
   "file_extension": ".py",
   "mimetype": "text/x-python",
   "name": "python",
   "nbconvert_exporter": "python",
   "pygments_lexer": "ipython3",
   "version": "3.13.3"
  }
 },
 "nbformat": 4,
 "nbformat_minor": 5
}
