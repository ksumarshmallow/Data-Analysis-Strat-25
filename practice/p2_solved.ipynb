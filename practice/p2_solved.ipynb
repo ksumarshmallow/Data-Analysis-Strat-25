{
 "cells": [
  {
   "cell_type": "markdown",
   "id": "b96c5554",
   "metadata": {},
   "source": [
    "# **Практика 2. Фильтрация и сортировка данных в DataFrame**"
   ]
  },
  {
   "cell_type": "markdown",
   "id": "54b5dc68",
   "metadata": {},
   "source": [
    "[SmartLMS](https://edu.hse.ru/course/section.php?id=1221680)"
   ]
  },
  {
   "cell_type": "markdown",
   "id": "5ccb3276",
   "metadata": {},
   "source": [
    "Вы работаете с датасетом который содержит информацию по рейтингу раменов: `ramen.csv`\n",
    "\n",
    "| **Признак** | **Описание**                             |\n",
    "|-------------|------------------------------------------|\n",
    "| brand       | бренд рамена                             |\n",
    "| variety     | название рамена                          |\n",
    "| style       | тип упаковки                             |\n",
    "| country     | страна производства                      |\n",
    "| stars       | средний рейтинг (от 0 до 5)              |\n",
    "| votes       | количество людей, поставивших оценку     |\n"
   ]
  },
  {
   "cell_type": "code",
   "execution_count": null,
   "id": "66b9a121",
   "metadata": {},
   "outputs": [],
   "source": [
    "import pandas as pd\n",
    "df = pd.read_csv('data/ramen.csv')"
   ]
  },
  {
   "cell_type": "markdown",
   "id": "a4f7360e",
   "metadata": {},
   "source": [
    "## **Задание 1**"
   ]
  },
  {
   "cell_type": "markdown",
   "id": "cbd84b63",
   "metadata": {},
   "source": [
    ">*Определите тип данных каждого признака:*"
   ]
  },
  {
   "cell_type": "code",
   "execution_count": 2,
   "id": "156e4184",
   "metadata": {},
   "outputs": [
    {
     "name": "stdout",
     "output_type": "stream",
     "text": [
      "<class 'pandas.core.frame.DataFrame'>\n",
      "RangeIndex: 3180 entries, 0 to 3179\n",
      "Data columns (total 6 columns):\n",
      " #   Column   Non-Null Count  Dtype  \n",
      "---  ------   --------------  -----  \n",
      " 0   brand    3180 non-null   object \n",
      " 1   variety  3180 non-null   object \n",
      " 2   style    3178 non-null   object \n",
      " 3   country  3180 non-null   object \n",
      " 4   stars    3166 non-null   float64\n",
      " 5   votes    3180 non-null   int64  \n",
      "dtypes: float64(1), int64(1), object(4)\n",
      "memory usage: 149.2+ KB\n"
     ]
    }
   ],
   "source": [
    "df.info()"
   ]
  },
  {
   "cell_type": "markdown",
   "id": "913e7a30",
   "metadata": {},
   "source": [
    "| **Признак** | **Тип данных**               |\n",
    "|-------------|------------------------------|\n",
    "| brand       | категориальный номинальный   |\n",
    "| variety     | категориальный номинальный   |\n",
    "| style       | категориальный номинальный   |\n",
    "| country     | категориальный номинальный   |\n",
    "| stars       | количественный непрерывный   |\n",
    "| votes       | количественный дискретный    |\n"
   ]
  },
  {
   "cell_type": "markdown",
   "id": "221ad4a8",
   "metadata": {},
   "source": [
    "---"
   ]
  },
  {
   "cell_type": "markdown",
   "id": "c654c9e9",
   "metadata": {},
   "source": [
    "## **Задание 2**"
   ]
  },
  {
   "cell_type": "markdown",
   "id": "298cd730",
   "metadata": {},
   "source": [
    ">*Укажите количество раменов бренда **Nissin** (`brand`).*\n"
   ]
  },
  {
   "cell_type": "code",
   "execution_count": 6,
   "id": "f8ea2474",
   "metadata": {},
   "outputs": [
    {
     "data": {
      "text/plain": [
       "443"
      ]
     },
     "execution_count": 6,
     "metadata": {},
     "output_type": "execute_result"
    }
   ],
   "source": [
    "cond = df['brand'] == 'Nissin'\n",
    "df[cond].shape[0]"
   ]
  },
  {
   "cell_type": "code",
   "execution_count": 7,
   "id": "bca2a87d",
   "metadata": {},
   "outputs": [
    {
     "data": {
      "text/plain": [
       "np.int64(443)"
      ]
     },
     "execution_count": 7,
     "metadata": {},
     "output_type": "execute_result"
    }
   ],
   "source": [
    "(df.brand == 'Nissin').sum()"
   ]
  },
  {
   "cell_type": "markdown",
   "id": "be4ce752",
   "metadata": {},
   "source": [
    "**Ответ**: 443"
   ]
  },
  {
   "cell_type": "markdown",
   "id": "d3a237db",
   "metadata": {},
   "source": [
    "---"
   ]
  },
  {
   "cell_type": "markdown",
   "id": "2498254e",
   "metadata": {},
   "source": [
    "## **Задание 3**"
   ]
  },
  {
   "cell_type": "markdown",
   "id": "1eb654d8",
   "metadata": {},
   "source": [
    ">*Укажите количество раменов c рейтингом более 3.5 (`stars`).*"
   ]
  },
  {
   "cell_type": "code",
   "execution_count": 10,
   "id": "631458df",
   "metadata": {},
   "outputs": [
    {
     "data": {
      "text/plain": [
       "1841"
      ]
     },
     "execution_count": 10,
     "metadata": {},
     "output_type": "execute_result"
    }
   ],
   "source": [
    "cond = df['stars'] > 3.5\n",
    "df[cond].shape[0]"
   ]
  },
  {
   "cell_type": "code",
   "execution_count": 11,
   "id": "ceaa34ac",
   "metadata": {},
   "outputs": [
    {
     "data": {
      "text/plain": [
       "np.int64(1841)"
      ]
     },
     "execution_count": 11,
     "metadata": {},
     "output_type": "execute_result"
    }
   ],
   "source": [
    "(df.stars > 3.5).sum()"
   ]
  },
  {
   "cell_type": "markdown",
   "id": "27140464",
   "metadata": {},
   "source": [
    "**Ответ**: 1841"
   ]
  },
  {
   "cell_type": "markdown",
   "id": "fa96e468",
   "metadata": {},
   "source": [
    "---"
   ]
  },
  {
   "cell_type": "markdown",
   "id": "e215496c",
   "metadata": {},
   "source": [
    "## **Задание 4**"
   ]
  },
  {
   "cell_type": "markdown",
   "id": "c2c764d6",
   "metadata": {},
   "source": [
    ">*Укажите количество раменов в типе упаковки не **Bowl** (`style`) c рейтингом не более 4 (`stars`).*"
   ]
  },
  {
   "cell_type": "code",
   "execution_count": 14,
   "id": "29550522",
   "metadata": {},
   "outputs": [
    {
     "data": {
      "text/plain": [
       "1771"
      ]
     },
     "execution_count": 14,
     "metadata": {},
     "output_type": "execute_result"
    }
   ],
   "source": [
    "cond = (df['style'] != 'Bowl') & (df['stars'] <= 4)\n",
    "df[cond].shape[0]"
   ]
  },
  {
   "cell_type": "markdown",
   "id": "6ab36589",
   "metadata": {},
   "source": [
    "**Ответ**: 1771"
   ]
  },
  {
   "cell_type": "markdown",
   "id": "8b4243db",
   "metadata": {},
   "source": [
    "---"
   ]
  },
  {
   "cell_type": "markdown",
   "id": "1256e7da",
   "metadata": {},
   "source": [
    "## **Задание 5**"
   ]
  },
  {
   "cell_type": "markdown",
   "id": "37e13212",
   "metadata": {},
   "source": [
    ">*Укажите общее количество раменов бренда **Maruchan** (`brand`) или тех, у которых тип упаковки **Cup** (`style`).*\n"
   ]
  },
  {
   "cell_type": "code",
   "execution_count": 15,
   "id": "441c5cd0",
   "metadata": {},
   "outputs": [
    {
     "data": {
      "text/plain": [
       "639"
      ]
     },
     "execution_count": 15,
     "metadata": {},
     "output_type": "execute_result"
    }
   ],
   "source": [
    "cond = (df['brand'] == 'Maruchan') | (df['style'] == 'Cup')\n",
    "df[cond].shape[0]"
   ]
  },
  {
   "cell_type": "markdown",
   "id": "816255cd",
   "metadata": {},
   "source": [
    "**Ответ**: 639"
   ]
  },
  {
   "cell_type": "markdown",
   "id": "3de4089e",
   "metadata": {},
   "source": [
    "---"
   ]
  },
  {
   "cell_type": "markdown",
   "id": "60ca1793",
   "metadata": {},
   "source": [
    "## **Задание 6**"
   ]
  },
  {
   "cell_type": "markdown",
   "id": "53a6a4f9",
   "metadata": {},
   "source": [
    ">*Укажите количество раменов бренда **Myojo** и **Samyang Foods** (`brand`).*"
   ]
  },
  {
   "cell_type": "code",
   "execution_count": 18,
   "id": "4d9914d6",
   "metadata": {},
   "outputs": [
    {
     "data": {
      "text/plain": [
       "172"
      ]
     },
     "execution_count": 18,
     "metadata": {},
     "output_type": "execute_result"
    }
   ],
   "source": [
    "cond = (df['brand'] == 'Myojo') | (df['brand'] == 'Samyang Foods')\n",
    "df[cond].shape[0]"
   ]
  },
  {
   "cell_type": "code",
   "execution_count": 19,
   "id": "1671bf7c",
   "metadata": {},
   "outputs": [
    {
     "data": {
      "text/plain": [
       "172"
      ]
     },
     "execution_count": 19,
     "metadata": {},
     "output_type": "execute_result"
    }
   ],
   "source": [
    "cond = df['brand'].isin(['Myojo', 'Samyang Foods'])\n",
    "df[cond].shape[0]"
   ]
  },
  {
   "cell_type": "markdown",
   "id": "8524921d",
   "metadata": {},
   "source": [
    "**Ответ**: 172"
   ]
  },
  {
   "cell_type": "markdown",
   "id": "4161aa9c",
   "metadata": {},
   "source": [
    "---"
   ]
  },
  {
   "cell_type": "markdown",
   "id": "58f14c10",
   "metadata": {},
   "source": [
    "## **Задание 7**"
   ]
  },
  {
   "cell_type": "markdown",
   "id": "0c3b35a0",
   "metadata": {},
   "source": [
    ">*Отсортируйте названия (`variety`) всех раменов по алфавиту. В ответ укажите индекс рамена, который будет выведен первым.*"
   ]
  },
  {
   "cell_type": "code",
   "execution_count": 20,
   "id": "1996a2ec",
   "metadata": {},
   "outputs": [
    {
     "data": {
      "text/html": [
       "<div>\n",
       "<style scoped>\n",
       "    .dataframe tbody tr th:only-of-type {\n",
       "        vertical-align: middle;\n",
       "    }\n",
       "\n",
       "    .dataframe tbody tr th {\n",
       "        vertical-align: top;\n",
       "    }\n",
       "\n",
       "    .dataframe thead th {\n",
       "        text-align: right;\n",
       "    }\n",
       "</style>\n",
       "<table border=\"1\" class=\"dataframe\">\n",
       "  <thead>\n",
       "    <tr style=\"text-align: right;\">\n",
       "      <th></th>\n",
       "      <th>brand</th>\n",
       "      <th>variety</th>\n",
       "      <th>style</th>\n",
       "      <th>country</th>\n",
       "      <th>stars</th>\n",
       "      <th>votes</th>\n",
       "    </tr>\n",
       "  </thead>\n",
       "  <tbody>\n",
       "    <tr>\n",
       "      <th>2570</th>\n",
       "      <td>Wei Wei</td>\n",
       "      <td>\"A\" Series Artificial Chicken</td>\n",
       "      <td>Pack</td>\n",
       "      <td>Taiwan</td>\n",
       "      <td>3.25</td>\n",
       "      <td>2045</td>\n",
       "    </tr>\n",
       "  </tbody>\n",
       "</table>\n",
       "</div>"
      ],
      "text/plain": [
       "        brand                        variety style country  stars  votes\n",
       "2570  Wei Wei  \"A\" Series Artificial Chicken  Pack  Taiwan   3.25   2045"
      ]
     },
     "execution_count": 20,
     "metadata": {},
     "output_type": "execute_result"
    }
   ],
   "source": [
    "df.sort_values('variety').head(1)"
   ]
  },
  {
   "cell_type": "code",
   "execution_count": 21,
   "id": "24b6bd10",
   "metadata": {},
   "outputs": [
    {
     "data": {
      "text/plain": [
       "np.int64(2570)"
      ]
     },
     "execution_count": 21,
     "metadata": {},
     "output_type": "execute_result"
    }
   ],
   "source": [
    "df.sort_values('variety').index[0]"
   ]
  },
  {
   "cell_type": "markdown",
   "id": "1b625f93",
   "metadata": {},
   "source": [
    "**Ответ**: 2570"
   ]
  },
  {
   "cell_type": "markdown",
   "id": "cc3eb941",
   "metadata": {},
   "source": [
    "---"
   ]
  },
  {
   "cell_type": "markdown",
   "id": "1fa1720c",
   "metadata": {},
   "source": [
    "## **Задание 8**"
   ]
  },
  {
   "cell_type": "markdown",
   "id": "5f1ade44",
   "metadata": {},
   "source": [
    ">*Найдите рамен, оценку которому поставило наибольшее количество людей (`votes`). В ответ укажите его название (`variety`).*"
   ]
  },
  {
   "cell_type": "code",
   "execution_count": 22,
   "id": "09d0740d",
   "metadata": {},
   "outputs": [
    {
     "data": {
      "text/plain": [
       "'Demae Ramen Straight Noodle Spicy Tonkotsu Flavour Instant Noodle'"
      ]
     },
     "execution_count": 22,
     "metadata": {},
     "output_type": "execute_result"
    }
   ],
   "source": [
    "df.sort_values('votes', ascending=False).iloc[0].loc['variety']"
   ]
  },
  {
   "cell_type": "markdown",
   "id": "f3f71b87",
   "metadata": {},
   "source": [
    "---"
   ]
  },
  {
   "cell_type": "markdown",
   "id": "9826649f",
   "metadata": {},
   "source": [
    "## **Задание 9**"
   ]
  },
  {
   "cell_type": "markdown",
   "id": "5a685e73",
   "metadata": {},
   "source": [
    ">*Среди раменов, произведенных в Тайланде (**Thailand**; `country`), найдите рамен с наименьшим рейтингом (`stars`). В ответ укажите его название (`variety`).*"
   ]
  },
  {
   "cell_type": "code",
   "execution_count": 23,
   "id": "257cdb46",
   "metadata": {},
   "outputs": [
    {
     "data": {
      "text/html": [
       "<div>\n",
       "<style scoped>\n",
       "    .dataframe tbody tr th:only-of-type {\n",
       "        vertical-align: middle;\n",
       "    }\n",
       "\n",
       "    .dataframe tbody tr th {\n",
       "        vertical-align: top;\n",
       "    }\n",
       "\n",
       "    .dataframe thead th {\n",
       "        text-align: right;\n",
       "    }\n",
       "</style>\n",
       "<table border=\"1\" class=\"dataframe\">\n",
       "  <thead>\n",
       "    <tr style=\"text-align: right;\">\n",
       "      <th></th>\n",
       "      <th>brand</th>\n",
       "      <th>variety</th>\n",
       "      <th>style</th>\n",
       "      <th>country</th>\n",
       "      <th>stars</th>\n",
       "      <th>votes</th>\n",
       "    </tr>\n",
       "  </thead>\n",
       "  <tbody>\n",
       "    <tr>\n",
       "      <th>3052</th>\n",
       "      <td>Mama</td>\n",
       "      <td>Artificial PA-LO Duck</td>\n",
       "      <td>Pack</td>\n",
       "      <td>Thailand</td>\n",
       "      <td>0.1</td>\n",
       "      <td>1649</td>\n",
       "    </tr>\n",
       "  </tbody>\n",
       "</table>\n",
       "</div>"
      ],
      "text/plain": [
       "     brand                variety style   country  stars  votes\n",
       "3052  Mama  Artificial PA-LO Duck  Pack  Thailand    0.1   1649"
      ]
     },
     "execution_count": 23,
     "metadata": {},
     "output_type": "execute_result"
    }
   ],
   "source": [
    "df[df['country']=='Thailand'].sort_values('stars').head(1)"
   ]
  },
  {
   "cell_type": "markdown",
   "id": "4989b3c1",
   "metadata": {},
   "source": [
    "---"
   ]
  },
  {
   "cell_type": "markdown",
   "id": "0f9d3b9a",
   "metadata": {},
   "source": [
    "## **Задание 10**"
   ]
  },
  {
   "cell_type": "markdown",
   "id": "b626e010",
   "metadata": {},
   "source": [
    ">*Среди раменов бренда **Nissin** (`brand`), чей рейтинг равен 5 (`stars`). Найдите рамен, который оценило наименьшее количество людей (`votes`). В ответ укажите страну его производства (`country`).*\n"
   ]
  },
  {
   "cell_type": "code",
   "execution_count": 24,
   "id": "9c4c3894",
   "metadata": {},
   "outputs": [
    {
     "data": {
      "text/html": [
       "<div>\n",
       "<style scoped>\n",
       "    .dataframe tbody tr th:only-of-type {\n",
       "        vertical-align: middle;\n",
       "    }\n",
       "\n",
       "    .dataframe tbody tr th {\n",
       "        vertical-align: top;\n",
       "    }\n",
       "\n",
       "    .dataframe thead th {\n",
       "        text-align: right;\n",
       "    }\n",
       "</style>\n",
       "<table border=\"1\" class=\"dataframe\">\n",
       "  <thead>\n",
       "    <tr style=\"text-align: right;\">\n",
       "      <th></th>\n",
       "      <th>brand</th>\n",
       "      <th>variety</th>\n",
       "      <th>style</th>\n",
       "      <th>country</th>\n",
       "      <th>stars</th>\n",
       "      <th>votes</th>\n",
       "    </tr>\n",
       "  </thead>\n",
       "  <tbody>\n",
       "    <tr>\n",
       "      <th>1078</th>\n",
       "      <td>Nissin</td>\n",
       "      <td>Cup Noodles Singapore Laksa</td>\n",
       "      <td>Cup</td>\n",
       "      <td>Japan</td>\n",
       "      <td>5.0</td>\n",
       "      <td>1006</td>\n",
       "    </tr>\n",
       "  </tbody>\n",
       "</table>\n",
       "</div>"
      ],
      "text/plain": [
       "       brand                      variety style country  stars  votes\n",
       "1078  Nissin  Cup Noodles Singapore Laksa   Cup   Japan    5.0   1006"
      ]
     },
     "execution_count": 24,
     "metadata": {},
     "output_type": "execute_result"
    }
   ],
   "source": [
    "df[\n",
    "    (df['brand']=='Nissin') & (df['stars']==5.0)\n",
    "].sort_values('votes').head(1)"
   ]
  },
  {
   "cell_type": "markdown",
   "id": "83ed0adb",
   "metadata": {},
   "source": [
    "---"
   ]
  },
  {
   "cell_type": "markdown",
   "id": "69eb6f8e",
   "metadata": {},
   "source": [
    "## **Задание 11**"
   ]
  },
  {
   "cell_type": "markdown",
   "id": "97052f6a",
   "metadata": {},
   "source": [
    ">*Среди раменов произведенных в Японии (**Japan**; `country`) и тех чей рейтинг не равен 5 (`stars`). Найдите рамен, который оценило наибольшее количество людей (`votes`). В ответ укажите тип его упаковки (`style`).*\n"
   ]
  },
  {
   "cell_type": "code",
   "execution_count": 25,
   "id": "9f6a921c",
   "metadata": {},
   "outputs": [
    {
     "data": {
      "text/html": [
       "<div>\n",
       "<style scoped>\n",
       "    .dataframe tbody tr th:only-of-type {\n",
       "        vertical-align: middle;\n",
       "    }\n",
       "\n",
       "    .dataframe tbody tr th {\n",
       "        vertical-align: top;\n",
       "    }\n",
       "\n",
       "    .dataframe thead th {\n",
       "        text-align: right;\n",
       "    }\n",
       "</style>\n",
       "<table border=\"1\" class=\"dataframe\">\n",
       "  <thead>\n",
       "    <tr style=\"text-align: right;\">\n",
       "      <th></th>\n",
       "      <th>brand</th>\n",
       "      <th>variety</th>\n",
       "      <th>style</th>\n",
       "      <th>country</th>\n",
       "      <th>stars</th>\n",
       "      <th>votes</th>\n",
       "    </tr>\n",
       "  </thead>\n",
       "  <tbody>\n",
       "    <tr>\n",
       "      <th>1417</th>\n",
       "      <td>Ishimaru</td>\n",
       "      <td>Tuna Flavor Ramen</td>\n",
       "      <td>Pack</td>\n",
       "      <td>Japan</td>\n",
       "      <td>4.5</td>\n",
       "      <td>3212</td>\n",
       "    </tr>\n",
       "  </tbody>\n",
       "</table>\n",
       "</div>"
      ],
      "text/plain": [
       "         brand            variety style country  stars  votes\n",
       "1417  Ishimaru  Tuna Flavor Ramen  Pack   Japan    4.5   3212"
      ]
     },
     "execution_count": 25,
     "metadata": {},
     "output_type": "execute_result"
    }
   ],
   "source": [
    "df[\n",
    "    (df['country']=='Japan') & (df['stars']!=5.0)\n",
    "].sort_values('votes').tail(1)"
   ]
  },
  {
   "cell_type": "markdown",
   "id": "605ac708",
   "metadata": {},
   "source": [
    "---"
   ]
  },
  {
   "cell_type": "markdown",
   "id": "01c7c172",
   "metadata": {},
   "source": [
    "## **Задание 12**"
   ]
  },
  {
   "cell_type": "markdown",
   "id": "bbcbb08e",
   "metadata": {},
   "source": [
    ">*Среди раменов бренда **Wai Wai** и **Vifon** (`brand`). Найдите рамен, с наибольшим рейтингом (`stars`). В ответ укажите его название (`variety`).*\n"
   ]
  },
  {
   "cell_type": "code",
   "execution_count": 26,
   "id": "004ad51a",
   "metadata": {},
   "outputs": [
    {
     "data": {
      "text/plain": [
       "'Viet Cuisine Bun Rieu Cua Sour Crab Soup Instant Rice Vermicelli'"
      ]
     },
     "execution_count": 26,
     "metadata": {},
     "output_type": "execute_result"
    }
   ],
   "source": [
    "df[\n",
    "    df['brand'].isin(['Wai Wai', 'Vifon'])\n",
    "].sort_values('stars').tail(1).iloc[0, 1]"
   ]
  }
 ],
 "metadata": {
  "kernelspec": {
   "display_name": "work_stuff",
   "language": "python",
   "name": "work_stuff"
  },
  "language_info": {
   "codemirror_mode": {
    "name": "ipython",
    "version": 3
   },
   "file_extension": ".py",
   "mimetype": "text/x-python",
   "name": "python",
   "nbconvert_exporter": "python",
   "pygments_lexer": "ipython3",
   "version": "3.13.3"
  }
 },
 "nbformat": 4,
 "nbformat_minor": 5
}
