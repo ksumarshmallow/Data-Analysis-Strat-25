{
 "cells": [
  {
   "cell_type": "markdown",
   "id": "83cc96fb",
   "metadata": {},
   "source": [
    "# **Практика 3. Новые признаки**"
   ]
  },
  {
   "cell_type": "markdown",
   "id": "64e4a5c1",
   "metadata": {},
   "source": [
    "Вы работаете с датасетом который содержит информацию по эпизодам сериалов вселенной Скуби-ду:\n",
    "\n",
    "\n",
    "| ПРИЗНАК |\t ОПИСАНИЕ | \n",
    "| ---- | ---- | \n",
    "| `series_name`\t |  название сериала | \n",
    "| `season`\t |  номер сезона | \n",
    "| `title`\t |  название эпизода | \n",
    "| `imdb` |  рейтинг серии (от 0 до 10) | \n",
    "| `engagement` | \t количество людей, поставивших оценку эпизода | \n",
    "| `date_aired`\t |  дата выхода эпизода | \n",
    "| `run_time` | \t продолжительность эпизода | \n",
    "| `monster_type` | \t список монстров в эпизоде | \n"
   ]
  },
  {
   "cell_type": "markdown",
   "id": "b05d6f00",
   "metadata": {},
   "source": [
    "[SmartLMS](https://edu.hse.ru/mod/quiz/view.php?id=1606511)"
   ]
  },
  {
   "cell_type": "code",
   "execution_count": 2,
   "id": "d441c976",
   "metadata": {},
   "outputs": [],
   "source": [
    "import pandas as pd\n",
    "df = pd.read_csv('data/scoobydoo.csv')"
   ]
  },
  {
   "cell_type": "markdown",
   "id": "0511dedf",
   "metadata": {},
   "source": [
    "## **Задание 1**\n",
    ">*Определите тип данных каждого признака:*"
   ]
  },
  {
   "cell_type": "markdown",
   "id": "a1db5167",
   "metadata": {},
   "source": [
    "| Признак |\t Тип данных | \n",
    "| ---- | ---- | \n",
    "| `series_name`\t | категориальный номинальный | \n",
    "| `season`\t|  категориальный номинальный | \n",
    "| `title`\t| категориальный номинальный | \n",
    "| `imdb` | количественный непрерывный | \n",
    "| `engagement` | количественный дискретный | \n",
    "| `run_time` | количественный дискретный | \n",
    "| `monster_type` | категориальный номинальный | \n"
   ]
  },
  {
   "cell_type": "markdown",
   "id": "6f358bce",
   "metadata": {},
   "source": [
    "Варианты для выбора:\n",
    "- категориальный номинальный\n",
    "- категориальный бинарный\n",
    "- категориальный ранговый\n",
    "- количественный непрерывный\n",
    "- количественный дискретный"
   ]
  },
  {
   "cell_type": "markdown",
   "id": "18f7f7de",
   "metadata": {},
   "source": [
    "---"
   ]
  },
  {
   "cell_type": "markdown",
   "id": "ce9213a6",
   "metadata": {},
   "source": [
    "## **Задание 2**\n",
    ">*Переведите рейтинг эпизода (`imdb`) в 100-бальную шкалу (`imdb`\\*10). В ответ введите сколько эпизодов сериала имеют рейтинг не более 90 (по 100-бальной шкале)*"
   ]
  },
  {
   "cell_type": "code",
   "execution_count": 22,
   "id": "c13fb8a0",
   "metadata": {},
   "outputs": [
    {
     "data": {
      "text/plain": [
       "np.int64(438)"
      ]
     },
     "execution_count": 22,
     "metadata": {},
     "output_type": "execute_result"
    }
   ],
   "source": [
    "df['imbdb_new'] = df['imdb'] * 10\n",
    "(df['imbdb_new'] <= 90).sum()"
   ]
  },
  {
   "cell_type": "markdown",
   "id": "a57014d7",
   "metadata": {},
   "source": [
    "---"
   ]
  },
  {
   "cell_type": "markdown",
   "id": "68fcffec",
   "metadata": {},
   "source": [
    "## **Задание 3**\n",
    ">*Укажите тип данных признака, созданного в прошлом задании.*\n",
    ">\n",
    ">Варианты для выбора:\n",
    ">- категориальный номинальный\n",
    ">- категориальный бинарный\n",
    ">- категориальный ранговый\n",
    ">- количественный непрерывный\n",
    ">- количественный дискретный"
   ]
  },
  {
   "cell_type": "markdown",
   "id": "73557eda",
   "metadata": {},
   "source": [
    "**Ответ:** категориальный дискретный"
   ]
  },
  {
   "cell_type": "markdown",
   "id": "9d604a81",
   "metadata": {},
   "source": [
    "---"
   ]
  },
  {
   "cell_type": "markdown",
   "id": "c029cdcd",
   "metadata": {},
   "source": [
    "## **Задание 4**\n",
    ">*Добавьте в таблицу новый признак `engagement_recoded`, который будет представлять собой кодированные значения признака `engagement`. Кодировку проведите следующим образом: если значение engagement меньше 100 – **low**, если меньше 500 – **medium**, а во всех остальных случаях – **high**. В ответ укажите название серии (`title`) из категории **low** (`engagement_recoded`) с наибольшим рейтингом (`imdb`).*"
   ]
  },
  {
   "cell_type": "code",
   "execution_count": 24,
   "id": "c367146f",
   "metadata": {},
   "outputs": [
    {
     "data": {
      "text/html": [
       "<div>\n",
       "<style scoped>\n",
       "    .dataframe tbody tr th:only-of-type {\n",
       "        vertical-align: middle;\n",
       "    }\n",
       "\n",
       "    .dataframe tbody tr th {\n",
       "        vertical-align: top;\n",
       "    }\n",
       "\n",
       "    .dataframe thead th {\n",
       "        text-align: right;\n",
       "    }\n",
       "</style>\n",
       "<table border=\"1\" class=\"dataframe\">\n",
       "  <thead>\n",
       "    <tr style=\"text-align: right;\">\n",
       "      <th></th>\n",
       "      <th>series_name</th>\n",
       "      <th>season</th>\n",
       "      <th>title</th>\n",
       "      <th>imdb</th>\n",
       "      <th>engagement</th>\n",
       "      <th>date_aired</th>\n",
       "      <th>run_time</th>\n",
       "      <th>monster_type</th>\n",
       "      <th>imbdb_new</th>\n",
       "      <th>engagement_recoded</th>\n",
       "      <th>ghost_check</th>\n",
       "      <th>run_time_recoded</th>\n",
       "      <th>monster_count</th>\n",
       "      <th>monster_len</th>\n",
       "    </tr>\n",
       "  </thead>\n",
       "  <tbody>\n",
       "    <tr>\n",
       "      <th>429</th>\n",
       "      <td>Scooby-Doo and Guess Who?</td>\n",
       "      <td>1</td>\n",
       "      <td>The Sword, the Fox and the Scooby-Doo!</td>\n",
       "      <td>8.8</td>\n",
       "      <td>35.0</td>\n",
       "      <td>2020-07-02</td>\n",
       "      <td>23</td>\n",
       "      <td>Animal</td>\n",
       "      <td>88.0</td>\n",
       "      <td>low</td>\n",
       "      <td>False</td>\n",
       "      <td>long</td>\n",
       "      <td>1</td>\n",
       "      <td>6</td>\n",
       "    </tr>\n",
       "  </tbody>\n",
       "</table>\n",
       "</div>"
      ],
      "text/plain": [
       "                   series_name  season  \\\n",
       "429  Scooby-Doo and Guess Who?       1   \n",
       "\n",
       "                                      title  imdb  engagement  date_aired  \\\n",
       "429  The Sword, the Fox and the Scooby-Doo!   8.8        35.0  2020-07-02   \n",
       "\n",
       "     run_time monster_type  imbdb_new engagement_recoded  ghost_check  \\\n",
       "429        23       Animal       88.0                low        False   \n",
       "\n",
       "    run_time_recoded  monster_count  monster_len  \n",
       "429             long              1            6  "
      ]
     },
     "execution_count": 24,
     "metadata": {},
     "output_type": "execute_result"
    }
   ],
   "source": [
    "def encode(x):\n",
    "    if x < 100:\n",
    "        return \"low\"\n",
    "    elif x < 500:\n",
    "        return \"medium\"\n",
    "    else:\n",
    "        return \"high\"\n",
    "\n",
    "df[\"engagement_recoded\"] = df['engagement'].apply(encode)\n",
    "\n",
    "df[df[\"engagement_recoded\"] == \"low\"].sort_values(\"imdb\", ascending=False).head(1)"
   ]
  },
  {
   "cell_type": "markdown",
   "id": "26ac6356",
   "metadata": {},
   "source": [
    "**Ответ**: `The Sword, the Fox and the Scooby-Doo!`"
   ]
  },
  {
   "cell_type": "markdown",
   "id": "fac03b20",
   "metadata": {},
   "source": [
    "---"
   ]
  },
  {
   "cell_type": "markdown",
   "id": "08b6f0a0",
   "metadata": {},
   "source": [
    "## **Задание 5**\n",
    ">*Укажите тип данных признака `engagement_recoded`*\n",
    ">\n",
    ">Варианты для выбора:\n",
    ">- категориальный номинальный\n",
    ">- категориальный бинарный\n",
    ">- категориальный порядковый\n",
    ">- количественный непрерывный\n",
    ">- количественный дискретный"
   ]
  },
  {
   "cell_type": "markdown",
   "id": "c2b8f604",
   "metadata": {},
   "source": [
    "**Ответ**: категориальный порядковый"
   ]
  },
  {
   "cell_type": "markdown",
   "id": "f896c2f7",
   "metadata": {},
   "source": [
    "---"
   ]
  },
  {
   "cell_type": "markdown",
   "id": "da73bde4",
   "metadata": {},
   "source": [
    "## **Задание 6**\n",
    ">*Добавьте в таблицу новый признак `ghost_check`, который будет представлять собой кодированные значения признака `monster_type`. Кодировку проведите следующим образом: если значение `monster_type` содержит **Ghost** – 1, иначе – 0. В ответ укажите в скольких эпизодах были приведения (1; `ghost_check`).*"
   ]
  },
  {
   "cell_type": "code",
   "execution_count": 8,
   "id": "bb9654c7",
   "metadata": {},
   "outputs": [
    {
     "data": {
      "text/plain": [
       "np.int64(117)"
      ]
     },
     "execution_count": 8,
     "metadata": {},
     "output_type": "execute_result"
    }
   ],
   "source": [
    "df[\"ghost_check\"] = df['monster_type'].apply(lambda x: 'Ghost' in x)\n",
    "\n",
    "df[\"ghost_check\"].sum()"
   ]
  },
  {
   "cell_type": "markdown",
   "id": "2ecf24d7",
   "metadata": {},
   "source": [
    "---"
   ]
  },
  {
   "cell_type": "markdown",
   "id": "53f16ef9",
   "metadata": {},
   "source": [
    "## **Задание 7**\n",
    ">*Укажите тип данных признака `ghost_check`*\n",
    ">\n",
    ">Варианты для выбора:\n",
    ">- категориальный номинальный\n",
    ">- категориальный бинарный\n",
    ">- категориальный ранговый\n",
    ">- количественный непрерывный\n",
    ">- количественный дискретный"
   ]
  },
  {
   "cell_type": "markdown",
   "id": "956b6191",
   "metadata": {},
   "source": [
    "**Ответ**: категориальный бинарный"
   ]
  },
  {
   "cell_type": "markdown",
   "id": "52cb7bce",
   "metadata": {},
   "source": [
    "---"
   ]
  },
  {
   "cell_type": "markdown",
   "id": "0c69d36b",
   "metadata": {},
   "source": [
    "## **Задание 8**\n",
    "\n",
    ">*Добавьте в таблицу новый признак `run_time_recoded`, который будет представлять собой кодированные значения признака `run_time`. Кодировку проведите следующим образом: если значение `run_time` длинее 20 – **long**, иначе – **short**. В ответ укажите сколько эпизодов третьего сезона (3; `season`) попали в категорию **long** (`run_time_recoded`).*"
   ]
  },
  {
   "cell_type": "code",
   "execution_count": 11,
   "id": "1c80ab5a",
   "metadata": {},
   "outputs": [
    {
     "data": {
      "text/plain": [
       "32"
      ]
     },
     "execution_count": 11,
     "metadata": {},
     "output_type": "execute_result"
    }
   ],
   "source": [
    "df[\"run_time_recoded\"] = df['run_time'].apply(lambda x: 'long' if x > 20 else 'short')\n",
    "\n",
    "df[(df[\"season\"] == 3) & (df[\"run_time_recoded\"] == \"long\")].shape[0]"
   ]
  },
  {
   "cell_type": "markdown",
   "id": "54115c18",
   "metadata": {},
   "source": [
    "## **Задание 9**\n",
    "\n",
    ">*Укажите тип данных признака `run_time_recoded`*\n",
    ">\n",
    ">Варианты для выбора:\n",
    ">- категориальный номинальный\n",
    ">- категориальный бинарный\n",
    ">- категориальный ранговый\n",
    ">- количественный непрерывный\n",
    ">- количественный дискретный"
   ]
  },
  {
   "cell_type": "markdown",
   "id": "d332f53b",
   "metadata": {},
   "source": [
    "**Ответ**: категориальный бинарный"
   ]
  },
  {
   "cell_type": "markdown",
   "id": "5dc53c15",
   "metadata": {},
   "source": [
    "---"
   ]
  },
  {
   "cell_type": "markdown",
   "id": "52e23cad",
   "metadata": {},
   "source": [
    "## **Задание 10**\n",
    "\n",
    ">*Добавьте в таблицу новый признак `monster_count`, в котором будет подсчитано количество монстров, по признака `monster_type`. Кодировку проведите следующим образом:*\n",
    ">\n",
    ">| `monster_type`\t|  `monster_count` | \n",
    ">| ----- | ----- | \n",
    ">| Plant\t | 1 | \n",
    ">| Plant,Animal\t | 2 | \n",
    ">| Plant,Animal,Ghost\t| 3 | \n",
    ">\n",
    ">*В ответ укажите название сериала (`series_name`) в эпизоде которого наибольшее количество монстров (`monster_count`).*"
   ]
  },
  {
   "cell_type": "code",
   "execution_count": 16,
   "id": "b81612a6",
   "metadata": {},
   "outputs": [
    {
     "data": {
      "text/html": [
       "<div>\n",
       "<style scoped>\n",
       "    .dataframe tbody tr th:only-of-type {\n",
       "        vertical-align: middle;\n",
       "    }\n",
       "\n",
       "    .dataframe tbody tr th {\n",
       "        vertical-align: top;\n",
       "    }\n",
       "\n",
       "    .dataframe thead th {\n",
       "        text-align: right;\n",
       "    }\n",
       "</style>\n",
       "<table border=\"1\" class=\"dataframe\">\n",
       "  <thead>\n",
       "    <tr style=\"text-align: right;\">\n",
       "      <th></th>\n",
       "      <th>series_name</th>\n",
       "      <th>season</th>\n",
       "      <th>title</th>\n",
       "      <th>imdb</th>\n",
       "      <th>engagement</th>\n",
       "      <th>date_aired</th>\n",
       "      <th>run_time</th>\n",
       "      <th>monster_type</th>\n",
       "      <th>imbdb_new</th>\n",
       "      <th>engagement_recoded</th>\n",
       "      <th>ghost_check</th>\n",
       "      <th>run_time_recoded</th>\n",
       "      <th>monster_count</th>\n",
       "    </tr>\n",
       "  </thead>\n",
       "  <tbody>\n",
       "    <tr>\n",
       "      <th>430</th>\n",
       "      <td>Scooby-Doo and Guess Who?</td>\n",
       "      <td>1</td>\n",
       "      <td>One Minuite Mysteries!</td>\n",
       "      <td>7.9</td>\n",
       "      <td>36.0</td>\n",
       "      <td>2020-07-02</td>\n",
       "      <td>23</td>\n",
       "      <td>Undead,Ghost,Disguised,Magician,Possessed Obje...</td>\n",
       "      <td>790.0</td>\n",
       "      <td>low</td>\n",
       "      <td>True</td>\n",
       "      <td>long</td>\n",
       "      <td>8</td>\n",
       "    </tr>\n",
       "  </tbody>\n",
       "</table>\n",
       "</div>"
      ],
      "text/plain": [
       "                   series_name  season                   title  imdb  \\\n",
       "430  Scooby-Doo and Guess Who?       1  One Minuite Mysteries!   7.9   \n",
       "\n",
       "     engagement  date_aired  run_time  \\\n",
       "430        36.0  2020-07-02        23   \n",
       "\n",
       "                                          monster_type  imbdb_new  \\\n",
       "430  Undead,Ghost,Disguised,Magician,Possessed Obje...      790.0   \n",
       "\n",
       "    engagement_recoded  ghost_check run_time_recoded  monster_count  \n",
       "430                low         True             long              8  "
      ]
     },
     "execution_count": 16,
     "metadata": {},
     "output_type": "execute_result"
    }
   ],
   "source": [
    "df[\"monster_count\"] = df['monster_type'].apply(lambda x: x.count(',')+1)\n",
    "\n",
    "df.sort_values(\"monster_count\").tail(1)"
   ]
  },
  {
   "cell_type": "markdown",
   "id": "f9d6fb3e",
   "metadata": {},
   "source": [
    "**Ответ**: `Scooby-Doo and Guess Who?`"
   ]
  },
  {
   "cell_type": "markdown",
   "id": "41504f9a",
   "metadata": {},
   "source": [
    "---"
   ]
  },
  {
   "cell_type": "markdown",
   "id": "847b31b5",
   "metadata": {},
   "source": [
    "## **Задание 11**\n",
    "\n",
    ">*Укажите тип данных признака `monster_count`*\n",
    ">\n",
    ">Варианты для выбора:\n",
    ">- категориальный номинальный\n",
    ">- категориальный бинарный\n",
    ">- категориальный ранговый\n",
    ">- количественный непрерывный\n",
    ">- количественный дискретный"
   ]
  },
  {
   "cell_type": "markdown",
   "id": "ca90eb3d",
   "metadata": {},
   "source": [
    "**Ответ:** количественный дискретный\n"
   ]
  },
  {
   "cell_type": "markdown",
   "id": "561b0d8d",
   "metadata": {},
   "source": [
    "---"
   ]
  },
  {
   "cell_type": "markdown",
   "id": "da024c35",
   "metadata": {},
   "source": [
    "## **Задание 12**\n",
    "\n",
    ">*Добавьте в таблицу новый признак `monster_len`, в котором будет подсчитано количество символов по признаку `monster_type`. В ответ укажите сколько людей (`engagement`) оценили эпизод из второго сезона (2; `season`) сериала **The New Scooby-Doo Movies** (`series_name`) у которого наибольшее значение `monster_len`.*"
   ]
  },
  {
   "cell_type": "code",
   "execution_count": 19,
   "id": "0d19ab80",
   "metadata": {},
   "outputs": [
    {
     "data": {
      "text/html": [
       "<div>\n",
       "<style scoped>\n",
       "    .dataframe tbody tr th:only-of-type {\n",
       "        vertical-align: middle;\n",
       "    }\n",
       "\n",
       "    .dataframe tbody tr th {\n",
       "        vertical-align: top;\n",
       "    }\n",
       "\n",
       "    .dataframe thead th {\n",
       "        text-align: right;\n",
       "    }\n",
       "</style>\n",
       "<table border=\"1\" class=\"dataframe\">\n",
       "  <thead>\n",
       "    <tr style=\"text-align: right;\">\n",
       "      <th></th>\n",
       "      <th>series_name</th>\n",
       "      <th>season</th>\n",
       "      <th>title</th>\n",
       "      <th>imdb</th>\n",
       "      <th>engagement</th>\n",
       "      <th>date_aired</th>\n",
       "      <th>run_time</th>\n",
       "      <th>monster_type</th>\n",
       "      <th>imbdb_new</th>\n",
       "      <th>engagement_recoded</th>\n",
       "      <th>ghost_check</th>\n",
       "      <th>run_time_recoded</th>\n",
       "      <th>monster_count</th>\n",
       "      <th>monster_len</th>\n",
       "    </tr>\n",
       "  </thead>\n",
       "  <tbody>\n",
       "    <tr>\n",
       "      <th>45</th>\n",
       "      <td>The New Scooby-Doo Movies</td>\n",
       "      <td>2</td>\n",
       "      <td>The Exterminator</td>\n",
       "      <td>7.6</td>\n",
       "      <td>85.0</td>\n",
       "      <td>1973-10-06</td>\n",
       "      <td>44</td>\n",
       "      <td>Disguise,Animal,Ghost,Undead,Disguised</td>\n",
       "      <td>760.0</td>\n",
       "      <td>low</td>\n",
       "      <td>True</td>\n",
       "      <td>long</td>\n",
       "      <td>5</td>\n",
       "      <td>38</td>\n",
       "    </tr>\n",
       "  </tbody>\n",
       "</table>\n",
       "</div>"
      ],
      "text/plain": [
       "                  series_name  season             title  imdb  engagement  \\\n",
       "45  The New Scooby-Doo Movies       2  The Exterminator   7.6        85.0   \n",
       "\n",
       "    date_aired  run_time                            monster_type  imbdb_new  \\\n",
       "45  1973-10-06        44  Disguise,Animal,Ghost,Undead,Disguised      760.0   \n",
       "\n",
       "   engagement_recoded  ghost_check run_time_recoded  monster_count  \\\n",
       "45                low         True             long              5   \n",
       "\n",
       "    monster_len  \n",
       "45           38  "
      ]
     },
     "execution_count": 19,
     "metadata": {},
     "output_type": "execute_result"
    }
   ],
   "source": [
    "df[\"monster_len\"] = df['monster_type'].apply(len)\n",
    "\n",
    "df[(df[\"season\"] == 2) & (df[\"series_name\"] == \"The New Scooby-Doo Movies\")].sort_values(\"monster_len\", ascending=False).head(1)"
   ]
  },
  {
   "cell_type": "markdown",
   "id": "ef85af11",
   "metadata": {},
   "source": [
    "**Ответ**: 85"
   ]
  },
  {
   "cell_type": "markdown",
   "id": "8a0e9fb1",
   "metadata": {},
   "source": [
    "---"
   ]
  },
  {
   "cell_type": "markdown",
   "id": "0a56bf97",
   "metadata": {},
   "source": [
    "## **Задание 13**\n",
    "\n",
    ">*Укажите тип данных признака `monster_len`*\n",
    ">\n",
    ">Варианты для выбора:\n",
    ">- категориальный номинальный\n",
    ">- категориальный бинарный\n",
    ">- категориальный ранговый\n",
    ">- количественный непрерывный\n",
    ">- количественный дискретный"
   ]
  },
  {
   "cell_type": "markdown",
   "id": "9881ef4d",
   "metadata": {},
   "source": [
    "**Ответ**: количественный дискретный"
   ]
  }
 ],
 "metadata": {
  "kernelspec": {
   "display_name": "work_stuff",
   "language": "python",
   "name": "work_stuff"
  },
  "language_info": {
   "codemirror_mode": {
    "name": "ipython",
    "version": 3
   },
   "file_extension": ".py",
   "mimetype": "text/x-python",
   "name": "python",
   "nbconvert_exporter": "python",
   "pygments_lexer": "ipython3",
   "version": "3.13.3"
  }
 },
 "nbformat": 4,
 "nbformat_minor": 5
}
