{
 "cells": [
  {
   "cell_type": "markdown",
   "id": "b96c5554",
   "metadata": {},
   "source": [
    "# **Практика 2. Фильтрация и сортировка данных в DataFrame**"
   ]
  },
  {
   "cell_type": "markdown",
   "id": "54b5dc68",
   "metadata": {},
   "source": [
    "[SmartLMS](https://edu.hse.ru/course/section.php?id=1221680)"
   ]
  },
  {
   "cell_type": "markdown",
   "id": "5ccb3276",
   "metadata": {},
   "source": [
    "Вы работаете с датасетом который содержит информацию по рейтингу раменов: `ramen.csv`\n",
    "\n",
    "| **Признак** | **Описание**                             |\n",
    "|-------------|------------------------------------------|\n",
    "| brand       | бренд рамена                             |\n",
    "| variety     | название рамена                          |\n",
    "| style       | тип упаковки                             |\n",
    "| country     | страна производства                      |\n",
    "| stars       | средний рейтинг (от 0 до 5)              |\n",
    "| votes       | количество людей, поставивших оценку     |\n"
   ]
  },
  {
   "cell_type": "code",
   "execution_count": null,
   "id": "66b9a121",
   "metadata": {},
   "outputs": [],
   "source": [
    "import pandas as pd\n",
    "df = pd.read_csv('data/ramen.csv')"
   ]
  },
  {
   "cell_type": "markdown",
   "id": "a4f7360e",
   "metadata": {},
   "source": [
    "## **Задание 1**"
   ]
  },
  {
   "cell_type": "markdown",
   "id": "cbd84b63",
   "metadata": {},
   "source": [
    ">*Определите тип данных каждого признака:*"
   ]
  },
  {
   "cell_type": "markdown",
   "id": "913e7a30",
   "metadata": {},
   "source": [
    "| **Признак** | **Тип данных** |\n",
    "|-------------|----------------|\n",
    "| brand       |                |\n",
    "| variety     |                |\n",
    "| style       |                |\n",
    "| country     |                |\n",
    "| stars       |                |\n",
    "| votes       |                |\n"
   ]
  },
  {
   "cell_type": "markdown",
   "id": "b93ca358",
   "metadata": {},
   "source": [
    "Варианты для выбора:\n",
    "- категориальный номинальный\n",
    "- категориальный бинарный\n",
    "- категориальный ранговый\n",
    "- количественный непрерывный\n",
    "- количественный дискретный"
   ]
  },
  {
   "cell_type": "markdown",
   "id": "221ad4a8",
   "metadata": {},
   "source": [
    "---"
   ]
  },
  {
   "cell_type": "markdown",
   "id": "c654c9e9",
   "metadata": {},
   "source": [
    "## **Задание 2**"
   ]
  },
  {
   "cell_type": "markdown",
   "id": "298cd730",
   "metadata": {},
   "source": [
    ">*Укажите количество раменов бренда **Nissin** (`brand`).*\n"
   ]
  },
  {
   "cell_type": "code",
   "execution_count": null,
   "id": "f8ea2474",
   "metadata": {},
   "outputs": [],
   "source": []
  },
  {
   "cell_type": "markdown",
   "id": "d3a237db",
   "metadata": {},
   "source": [
    "---"
   ]
  },
  {
   "cell_type": "markdown",
   "id": "2498254e",
   "metadata": {},
   "source": [
    "## **Задание 3**"
   ]
  },
  {
   "cell_type": "markdown",
   "id": "1eb654d8",
   "metadata": {},
   "source": [
    ">*Укажите количество раменов c рейтингом более 3.5 (`stars`).*"
   ]
  },
  {
   "cell_type": "code",
   "execution_count": null,
   "id": "d769370c",
   "metadata": {},
   "outputs": [],
   "source": []
  },
  {
   "cell_type": "markdown",
   "id": "fa96e468",
   "metadata": {},
   "source": [
    "---"
   ]
  },
  {
   "cell_type": "markdown",
   "id": "e215496c",
   "metadata": {},
   "source": [
    "## **Задание 4**"
   ]
  },
  {
   "cell_type": "markdown",
   "id": "c2c764d6",
   "metadata": {},
   "source": [
    ">*Укажите количество раменов в типе упаковки не **Bowl** (`style`) c рейтингом не более 4 (`stars`).*"
   ]
  },
  {
   "cell_type": "code",
   "execution_count": null,
   "id": "29550522",
   "metadata": {},
   "outputs": [],
   "source": []
  },
  {
   "cell_type": "markdown",
   "id": "8b4243db",
   "metadata": {},
   "source": [
    "---"
   ]
  },
  {
   "cell_type": "markdown",
   "id": "1256e7da",
   "metadata": {},
   "source": [
    "## **Задание 5**"
   ]
  },
  {
   "cell_type": "markdown",
   "id": "37e13212",
   "metadata": {},
   "source": [
    ">*Укажите общее количество раменов бренда **Maruchan** (`brand`) или тех, у которых тип упаковки **Cup** (`style`).*\n"
   ]
  },
  {
   "cell_type": "code",
   "execution_count": null,
   "id": "441c5cd0",
   "metadata": {},
   "outputs": [],
   "source": []
  },
  {
   "cell_type": "markdown",
   "id": "3de4089e",
   "metadata": {},
   "source": [
    "---"
   ]
  },
  {
   "cell_type": "markdown",
   "id": "60ca1793",
   "metadata": {},
   "source": [
    "## **Задание 6**"
   ]
  },
  {
   "cell_type": "markdown",
   "id": "53a6a4f9",
   "metadata": {},
   "source": [
    ">*Укажите количество раменов бренда **Myojo** и **Samyang Foods** (`brand`).*"
   ]
  },
  {
   "cell_type": "code",
   "execution_count": null,
   "id": "4d9914d6",
   "metadata": {},
   "outputs": [],
   "source": []
  },
  {
   "cell_type": "markdown",
   "id": "4161aa9c",
   "metadata": {},
   "source": [
    "---"
   ]
  },
  {
   "cell_type": "markdown",
   "id": "58f14c10",
   "metadata": {},
   "source": [
    "## **Задание 7**"
   ]
  },
  {
   "cell_type": "markdown",
   "id": "0c3b35a0",
   "metadata": {},
   "source": [
    ">*Отсортируйте названия (`variety`) всех раменов по алфавиту. В ответ укажите индекс рамена, который будет выведен первым.*"
   ]
  },
  {
   "cell_type": "code",
   "execution_count": null,
   "id": "1996a2ec",
   "metadata": {},
   "outputs": [],
   "source": []
  },
  {
   "cell_type": "markdown",
   "id": "cc3eb941",
   "metadata": {},
   "source": [
    "---"
   ]
  },
  {
   "cell_type": "markdown",
   "id": "1fa1720c",
   "metadata": {},
   "source": [
    "## **Задание 8**"
   ]
  },
  {
   "cell_type": "markdown",
   "id": "5f1ade44",
   "metadata": {},
   "source": [
    ">*Найдите рамен, оценку которому поставило наибольшее количество людей (`votes`). В ответ укажите его название (`variety`).*"
   ]
  },
  {
   "cell_type": "code",
   "execution_count": null,
   "id": "09d0740d",
   "metadata": {},
   "outputs": [],
   "source": []
  },
  {
   "cell_type": "markdown",
   "id": "f3f71b87",
   "metadata": {},
   "source": [
    "---"
   ]
  },
  {
   "cell_type": "markdown",
   "id": "9826649f",
   "metadata": {},
   "source": [
    "## **Задание 9**"
   ]
  },
  {
   "cell_type": "markdown",
   "id": "5a685e73",
   "metadata": {},
   "source": [
    ">*Среди раменов, произведенных в Тайланде (**Thailand**; `country`), найдите рамен с наименьшим рейтингом (`stars`). В ответ укажите его название (`variety`).*"
   ]
  },
  {
   "cell_type": "code",
   "execution_count": null,
   "id": "257cdb46",
   "metadata": {},
   "outputs": [],
   "source": []
  },
  {
   "cell_type": "markdown",
   "id": "4989b3c1",
   "metadata": {},
   "source": [
    "---"
   ]
  },
  {
   "cell_type": "markdown",
   "id": "0f9d3b9a",
   "metadata": {},
   "source": [
    "## **Задание 10**"
   ]
  },
  {
   "cell_type": "markdown",
   "id": "b626e010",
   "metadata": {},
   "source": [
    ">*Среди раменов бренда **Nissin** (`brand`), чей рейтинг равен 5 (`stars`). Найдите рамен, который оценило наименьшее количество людей (`votes`). В ответ укажите страну его производства (`country`).*\n"
   ]
  },
  {
   "cell_type": "code",
   "execution_count": null,
   "id": "9c4c3894",
   "metadata": {},
   "outputs": [],
   "source": []
  },
  {
   "cell_type": "markdown",
   "id": "83ed0adb",
   "metadata": {},
   "source": [
    "---"
   ]
  },
  {
   "cell_type": "markdown",
   "id": "69eb6f8e",
   "metadata": {},
   "source": [
    "## **Задание 11**"
   ]
  },
  {
   "cell_type": "markdown",
   "id": "97052f6a",
   "metadata": {},
   "source": [
    ">*Среди раменов произведенных в Японии (**Japan**; `country`) и тех чей рейтинг не равен 5 (`stars`). Найдите рамен, который оценило наибольшее количество людей (`votes`). В ответ укажите тип его упаковки (`style`).*\n"
   ]
  },
  {
   "cell_type": "code",
   "execution_count": null,
   "id": "9f6a921c",
   "metadata": {},
   "outputs": [],
   "source": []
  },
  {
   "cell_type": "markdown",
   "id": "605ac708",
   "metadata": {},
   "source": [
    "---"
   ]
  },
  {
   "cell_type": "markdown",
   "id": "01c7c172",
   "metadata": {},
   "source": [
    "## **Задание 12**"
   ]
  },
  {
   "cell_type": "markdown",
   "id": "bbcbb08e",
   "metadata": {},
   "source": [
    ">*Среди раменов бренда **Wai Wai** и **Vifon** (`brand`). Найдите рамен, с наибольшим рейтингом (`stars`). В ответ укажите его название (`variety`).*\n"
   ]
  },
  {
   "cell_type": "code",
   "execution_count": null,
   "id": "004ad51a",
   "metadata": {},
   "outputs": [],
   "source": []
  }
 ],
 "metadata": {
  "kernelspec": {
   "display_name": "work_stuff",
   "language": "python",
   "name": "work_stuff"
  },
  "language_info": {
   "codemirror_mode": {
    "name": "ipython",
    "version": 3
   },
   "file_extension": ".py",
   "mimetype": "text/x-python",
   "name": "python",
   "nbconvert_exporter": "python",
   "pygments_lexer": "ipython3",
   "version": "3.13.3"
  }
 },
 "nbformat": 4,
 "nbformat_minor": 5
}
