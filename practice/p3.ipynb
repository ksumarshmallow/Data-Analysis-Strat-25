{
 "cells": [
  {
   "cell_type": "markdown",
   "id": "83cc96fb",
   "metadata": {},
   "source": [
    "# **Практика 3. Новые признаки**"
   ]
  },
  {
   "cell_type": "markdown",
   "id": "64e4a5c1",
   "metadata": {},
   "source": [
    "Вы работаете с датасетом который содержит информацию по эпизодам сериалов вселенной Скуби-ду:\n",
    "\n",
    "\n",
    "| ПРИЗНАК |\t ОПИСАНИЕ | \n",
    "| ---- | ---- | \n",
    "| `series_name`\t |  название сериала | \n",
    "| `season`\t |  номер сезона | \n",
    "| `title`\t |  название эпизода | \n",
    "| `imdb` |  рейтинг серии (от 0 до 10) | \n",
    "| `engagement` | \t количество людей, поставивших оценку эпизода | \n",
    "| `date_aired`\t |  дата выхода эпизода | \n",
    "| `run_time` | \t продолжительность эпизода | \n",
    "| `monster_type` | \t список монстров в эпизоде | \n"
   ]
  },
  {
   "cell_type": "markdown",
   "id": "b05d6f00",
   "metadata": {},
   "source": [
    "[SmartLMS](https://edu.hse.ru/mod/quiz/view.php?id=1606511)"
   ]
  },
  {
   "cell_type": "code",
   "execution_count": 2,
   "id": "d441c976",
   "metadata": {},
   "outputs": [],
   "source": [
    "import pandas as pd\n",
    "df = pd.read_csv('data/scoobydoo.csv')"
   ]
  },
  {
   "cell_type": "markdown",
   "id": "0511dedf",
   "metadata": {},
   "source": [
    "## **Задание 1**\n",
    ">*Определите тип данных каждого признака:*"
   ]
  },
  {
   "cell_type": "markdown",
   "id": "a1db5167",
   "metadata": {},
   "source": [
    "| Признак |\t Тип данных | \n",
    "| ---- | ---- | \n",
    "| `series_name`\t | категориальный номинальный | \n",
    "| `season`\t|  категориальный номинальный | \n",
    "| `title`\t| категориальный номинальный | \n",
    "| `imdb` | количественный непрерывный | \n",
    "| `engagement` | количественный дискретный | \n",
    "| `run_time` | количественный дискретный | \n",
    "| `monster_type` | категориальный номинальный | \n"
   ]
  },
  {
   "cell_type": "markdown",
   "id": "6f358bce",
   "metadata": {},
   "source": [
    "Варианты для выбора:\n",
    "- категориальный номинальный\n",
    "- категориальный бинарный\n",
    "- категориальный ранговый\n",
    "- количественный непрерывный\n",
    "- количественный дискретный"
   ]
  },
  {
   "cell_type": "markdown",
   "id": "18f7f7de",
   "metadata": {},
   "source": [
    "---"
   ]
  },
  {
   "cell_type": "markdown",
   "id": "ce9213a6",
   "metadata": {},
   "source": [
    "## **Задание 2**\n",
    ">*Переведите рейтинг эпизода (`imdb`) в 100-бальную шкалу (`imdb`\\*10). В ответ введите сколько эпизодов сериала имеют рейтинг не более 90 (по 100-бальной шкале)*"
   ]
  },
  {
   "cell_type": "code",
   "execution_count": null,
   "id": "c13fb8a0",
   "metadata": {},
   "outputs": [],
   "source": []
  },
  {
   "cell_type": "markdown",
   "id": "a57014d7",
   "metadata": {},
   "source": [
    "---"
   ]
  },
  {
   "cell_type": "markdown",
   "id": "68fcffec",
   "metadata": {},
   "source": [
    "## **Задание 3**\n",
    ">*Укажите тип данных признака, созданного в прошлом задании.*\n",
    ">\n",
    ">Варианты для выбора:\n",
    ">- категориальный номинальный\n",
    ">- категориальный бинарный\n",
    ">- категориальный ранговый\n",
    ">- количественный непрерывный\n",
    ">- количественный дискретный"
   ]
  },
  {
   "cell_type": "markdown",
   "id": "73557eda",
   "metadata": {},
   "source": [
    "**Ответ:** "
   ]
  },
  {
   "cell_type": "markdown",
   "id": "9d604a81",
   "metadata": {},
   "source": [
    "---"
   ]
  },
  {
   "cell_type": "markdown",
   "id": "c029cdcd",
   "metadata": {},
   "source": [
    "## **Задание 4**\n",
    ">*Добавьте в таблицу новый признак `engagement_recoded`, который будет представлять собой кодированные значения признака `engagement`. Кодировку проведите следующим образом: если значение engagement меньше 100 – **low**, если меньше 500 – **medium**, а во всех остальных случаях – **high**. В ответ укажите название серии (`title`) из категории **low** (`engagement_recoded`) с наибольшим рейтингом (`imdb`).*"
   ]
  },
  {
   "cell_type": "code",
   "execution_count": null,
   "id": "c367146f",
   "metadata": {},
   "outputs": [],
   "source": []
  },
  {
   "cell_type": "markdown",
   "id": "26ac6356",
   "metadata": {},
   "source": [
    "**Ответ**: "
   ]
  },
  {
   "cell_type": "markdown",
   "id": "fac03b20",
   "metadata": {},
   "source": [
    "---"
   ]
  },
  {
   "cell_type": "markdown",
   "id": "08b6f0a0",
   "metadata": {},
   "source": [
    "## **Задание 5**\n",
    ">*Укажите тип данных признака `engagement_recoded`*\n",
    ">\n",
    ">Варианты для выбора:\n",
    ">- категориальный номинальный\n",
    ">- категориальный бинарный\n",
    ">- категориальный порядковый\n",
    ">- количественный непрерывный\n",
    ">- количественный дискретный"
   ]
  },
  {
   "cell_type": "markdown",
   "id": "c2b8f604",
   "metadata": {},
   "source": [
    "**Ответ**: "
   ]
  },
  {
   "cell_type": "markdown",
   "id": "f896c2f7",
   "metadata": {},
   "source": [
    "---"
   ]
  },
  {
   "cell_type": "markdown",
   "id": "da73bde4",
   "metadata": {},
   "source": [
    "## **Задание 6**\n",
    ">*Добавьте в таблицу новый признак `ghost_check`, который будет представлять собой кодированные значения признака `monster_type`. Кодировку проведите следующим образом: если значение `monster_type` содержит **Ghost** – 1, иначе – 0. В ответ укажите в скольких эпизодах были приведения (1; `ghost_check`).*"
   ]
  },
  {
   "cell_type": "code",
   "execution_count": null,
   "id": "bb9654c7",
   "metadata": {},
   "outputs": [],
   "source": []
  },
  {
   "cell_type": "markdown",
   "id": "2ecf24d7",
   "metadata": {},
   "source": [
    "---"
   ]
  },
  {
   "cell_type": "markdown",
   "id": "53f16ef9",
   "metadata": {},
   "source": [
    "## **Задание 7**\n",
    ">*Укажите тип данных признака `ghost_check`*\n",
    ">\n",
    ">Варианты для выбора:\n",
    ">- категориальный номинальный\n",
    ">- категориальный бинарный\n",
    ">- категориальный ранговый\n",
    ">- количественный непрерывный\n",
    ">- количественный дискретный"
   ]
  },
  {
   "cell_type": "markdown",
   "id": "956b6191",
   "metadata": {},
   "source": [
    "**Ответ**: "
   ]
  },
  {
   "cell_type": "markdown",
   "id": "52cb7bce",
   "metadata": {},
   "source": [
    "---"
   ]
  },
  {
   "cell_type": "markdown",
   "id": "0c69d36b",
   "metadata": {},
   "source": [
    "## **Задание 8**\n",
    "\n",
    ">*Добавьте в таблицу новый признак `run_time_recoded`, который будет представлять собой кодированные значения признака `run_time`. Кодировку проведите следующим образом: если значение `run_time` длинее 20 – **long**, иначе – **short**. В ответ укажите сколько эпизодов третьего сезона (3; `season`) попали в категорию **long** (`run_time_recoded`).*"
   ]
  },
  {
   "cell_type": "code",
   "execution_count": null,
   "id": "1c80ab5a",
   "metadata": {},
   "outputs": [],
   "source": []
  },
  {
   "cell_type": "markdown",
   "id": "54115c18",
   "metadata": {},
   "source": [
    "## **Задание 9**\n",
    "\n",
    ">*Укажите тип данных признака `run_time_recoded`*\n",
    ">\n",
    ">Варианты для выбора:\n",
    ">- категориальный номинальный\n",
    ">- категориальный бинарный\n",
    ">- категориальный ранговый\n",
    ">- количественный непрерывный\n",
    ">- количественный дискретный"
   ]
  },
  {
   "cell_type": "markdown",
   "id": "d332f53b",
   "metadata": {},
   "source": [
    "**Ответ**: "
   ]
  },
  {
   "cell_type": "markdown",
   "id": "5dc53c15",
   "metadata": {},
   "source": [
    "---"
   ]
  },
  {
   "cell_type": "markdown",
   "id": "52e23cad",
   "metadata": {},
   "source": [
    "## **Задание 10**\n",
    "\n",
    ">*Добавьте в таблицу новый признак `monster_count`, в котором будет подсчитано количество монстров, по признака `monster_type`. Кодировку проведите следующим образом:*\n",
    ">\n",
    ">| `monster_type`\t|  `monster_count` | \n",
    ">| ----- | ----- | \n",
    ">| Plant\t | 1 | \n",
    ">| Plant,Animal\t | 2 | \n",
    ">| Plant,Animal,Ghost\t| 3 | \n",
    ">\n",
    ">*В ответ укажите название сериала (`series_name`) в эпизоде которого наибольшее количество монстров (`monster_count`).*"
   ]
  },
  {
   "cell_type": "code",
   "execution_count": null,
   "id": "b81612a6",
   "metadata": {},
   "outputs": [],
   "source": []
  },
  {
   "cell_type": "markdown",
   "id": "f9d6fb3e",
   "metadata": {},
   "source": [
    "**Ответ**: "
   ]
  },
  {
   "cell_type": "markdown",
   "id": "41504f9a",
   "metadata": {},
   "source": [
    "---"
   ]
  },
  {
   "cell_type": "markdown",
   "id": "847b31b5",
   "metadata": {},
   "source": [
    "## **Задание 11**\n",
    "\n",
    ">*Укажите тип данных признака `monster_count`*\n",
    ">\n",
    ">Варианты для выбора:\n",
    ">- категориальный номинальный\n",
    ">- категориальный бинарный\n",
    ">- категориальный ранговый\n",
    ">- количественный непрерывный\n",
    ">- количественный дискретный"
   ]
  },
  {
   "cell_type": "markdown",
   "id": "ca90eb3d",
   "metadata": {},
   "source": [
    "**Ответ:** \n"
   ]
  },
  {
   "cell_type": "markdown",
   "id": "561b0d8d",
   "metadata": {},
   "source": [
    "---"
   ]
  },
  {
   "cell_type": "markdown",
   "id": "da024c35",
   "metadata": {},
   "source": [
    "## **Задание 12**\n",
    "\n",
    ">*Добавьте в таблицу новый признак `monster_len`, в котором будет подсчитано количество символов по признаку `monster_type`. В ответ укажите сколько людей (`engagement`) оценили эпизод из второго сезона (2; `season`) сериала **The New Scooby-Doo Movies** (`series_name`) у которого наибольшее значение `monster_len`.*"
   ]
  },
  {
   "cell_type": "code",
   "execution_count": null,
   "id": "0d19ab80",
   "metadata": {},
   "outputs": [],
   "source": []
  },
  {
   "cell_type": "markdown",
   "id": "ef85af11",
   "metadata": {},
   "source": [
    "**Ответ**: "
   ]
  },
  {
   "cell_type": "markdown",
   "id": "8a0e9fb1",
   "metadata": {},
   "source": [
    "---"
   ]
  },
  {
   "cell_type": "markdown",
   "id": "0a56bf97",
   "metadata": {},
   "source": [
    "## **Задание 13**\n",
    "\n",
    ">*Укажите тип данных признака `monster_len`*\n",
    ">\n",
    ">Варианты для выбора:\n",
    ">- категориальный номинальный\n",
    ">- категориальный бинарный\n",
    ">- категориальный ранговый\n",
    ">- количественный непрерывный\n",
    ">- количественный дискретный"
   ]
  },
  {
   "cell_type": "markdown",
   "id": "9881ef4d",
   "metadata": {},
   "source": [
    "**Ответ**: "
   ]
  }
 ],
 "metadata": {
  "kernelspec": {
   "display_name": "work_stuff",
   "language": "python",
   "name": "work_stuff"
  },
  "language_info": {
   "codemirror_mode": {
    "name": "ipython",
    "version": 3
   },
   "file_extension": ".py",
   "mimetype": "text/x-python",
   "name": "python",
   "nbconvert_exporter": "python",
   "pygments_lexer": "ipython3",
   "version": "3.13.3"
  }
 },
 "nbformat": 4,
 "nbformat_minor": 5
}
